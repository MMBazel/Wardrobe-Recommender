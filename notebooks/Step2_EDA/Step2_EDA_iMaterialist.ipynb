{
 "cells": [
  {
   "cell_type": "markdown",
   "metadata": {},
   "source": [
    "# MLE Capstone: Outfit Recommender - Spring 2021\n",
    "# Step 2: Data Collection & Initial EDA of Candidate Datasets\n",
    "# Dataset 1: iMaterialist\n",
    "\n",
    "### By: Bazeley, Mikiko \n",
    "### GH: @mmbazel  \n",
    "\n",
    "In this notebook, I'll be exploring one of three datasets (DeepFashion, Paperdoll, and iMaterialist). \n",
    "\n",
    "Specifically in this notebook we'll: \n",
    "* Load the data\n",
    "* Explore the dimensions of the dataset\n",
    "* Understand what categories are being represented"
   ]
  },
  {
   "cell_type": "markdown",
   "metadata": {},
   "source": [
    "## Step 1: Proper set-up & installation of necessary libraries & packages\n",
    "\n",
    "1. Ensure you've set-up with the Kaggle API\n",
    "* Pro Tip: If you're trying to set up the path to the kaggle.json file as an environment variable on MacOS (Catalina), easiest way is to set at the command line. It was annoying dealing with the different editors like vim & nano. \n",
    "\n",
    "$ KAGGLE_CONFIG_DIR= {INSERT_YOUR_HOMEPATH_HERE}/.kaggle export KAGGLE_CONFIG_DIR\n"
   ]
  },
  {
   "cell_type": "code",
   "execution_count": 1,
   "metadata": {},
   "outputs": [
    {
     "name": "stdout",
     "output_type": "stream",
     "text": [
      "Packages Imported\n",
      "['In', 'Out', '_', '__', '___', '__builtin__', '__builtins__', '__doc__', '__loader__', '__name__', '__package__', '__spec__', '_dh', '_i', '_i1', '_ih', '_ii', '_iii', '_oh', 'exit', 'get_ipython', 'json', 'load_dotenv', 'np', 'os', 'pd', 'plt', 'quit', 'sys', 'time', 'zipfile']\n",
      "environ({'SHELL': '/bin/zsh', 'TMPDIR': '/var/folders/1c/46v5r3dd1716cp1w2nxqqhrw0000gn/T/', 'CONDA_SHLVL': '2', 'CONDA_PROMPT_MODIFIER': '(SPRINGBOARD_MLE_CAPSTONE_ENV) ', 'LC_ALL': 'en_US.UTF-8', 'USER': 'mikikobazeley', 'COMMAND_MODE': 'unix2003', 'CONDA_EXE': '/Users/mikikobazeley/opt/anaconda3/bin/conda', 'SSH_AUTH_SOCK': '/private/tmp/com.apple.launchd.1PzaE4oJtF/Listeners', '__CF_USER_TEXT_ENCODING': '0x1F5:0x0:0x0', '_CE_CONDA': '', 'CONDA_PREFIX_1': '/Users/mikikobazeley/opt/anaconda3', 'CONDA_ROOT': '/Users/mikikobazeley/opt/anaconda3', 'PATH': '/Users/mikikobazeley/opt/anaconda3/envs/SPRINGBOARD_MLE_CAPSTONE_ENV/bin:/Users/mikikobazeley/opt/anaconda3/condabin:/usr/bin:/bin:/usr/sbin:/sbin', 'LaunchInstanceID': '53C2F3BB-DB72-4DFA-A969-8A6C25B9A641', 'CONDA_PREFIX': '/Users/mikikobazeley/opt/anaconda3/envs/SPRINGBOARD_MLE_CAPSTONE_ENV', 'PWD': '/Users/mikikobazeley', 'LANG': 'en_US.UTF-8', 'XPC_FLAGS': '0x0', '_CE_M': '', 'XPC_SERVICE_NAME': '0', 'HOME': '/Users/mikikobazeley', 'SHLVL': '6', 'CONDA_PYTHON_EXE': '/Users/mikikobazeley/opt/anaconda3/bin/python', 'LOGNAME': 'mikikobazeley', 'LC_CTYPE': 'UTF-8', 'CONDA_DEFAULT_ENV': 'SPRINGBOARD_MLE_CAPSTONE_ENV', 'SECURITYSESSIONID': '186a6', '_': '/Users/mikikobazeley/opt/anaconda3/envs/SPRINGBOARD_MLE_CAPSTONE_ENV/bin/jupyter', 'JPY_PARENT_PID': '5660', 'TERM': 'xterm-color', 'CLICOLOR': '1', 'PAGER': 'cat', 'GIT_PAGER': 'cat', 'MPLBACKEND': 'module://ipykernel.pylab.backend_inline'})\n"
     ]
    }
   ],
   "source": [
    "##################### [TODO] SETUP #####################\n",
    "# [TODO] Import any utilities functions\n",
    "\n",
    "\n",
    "import json\n",
    "import os\n",
    "import sys\n",
    "from dotenv import load_dotenv\n",
    "\n",
    "import kaggle\n",
    "\n",
    "import matplotlib.pyplot as plt\n",
    "import numpy as np\n",
    "import pandas as pd\n",
    "\n",
    "import zipfile\n",
    "import time\n",
    "\n",
    "%matplotlib inline\n",
    "\n",
    "print('Packages Imported')\n",
    "\n",
    "modules = dir()\n",
    "\n",
    "# print(modules)\n",
    "#print(os.environ)\n",
    "\n",
    "# [TODO] Package install/load"
   ]
  },
  {
   "cell_type": "code",
   "execution_count": 2,
   "metadata": {},
   "outputs": [
    {
     "name": "stdout",
     "output_type": "stream",
     "text": [
      "KAGGLE_USERNAME is loaded\n",
      "KAGGLE_KEY is loaded\n"
     ]
    }
   ],
   "source": [
    "# Load Kaggle credentials\n",
    "\n",
    "load_dotenv()\n",
    "\n",
    "KAGGLE_USERNAME = os.getenv('KAGGLE_USERNAME')\n",
    "KAGGLE_KEY = os.getenv('KAGGLE_KEY')\n",
    "\n",
    "if KAGGLE_USERNAME is not None:\n",
    "    print('KAGGLE_USERNAME is loaded')\n",
    "\n",
    "if KAGGLE_KEY is not None:\n",
    "    print('KAGGLE_KEY is loaded')"
   ]
  },
  {
   "cell_type": "code",
   "execution_count": null,
   "metadata": {},
   "outputs": [],
   "source": [
    "# [TODO] Query & download metadata\n"
   ]
  },
  {
   "cell_type": "code",
   "execution_count": null,
   "metadata": {},
   "outputs": [],
   "source": [
    "############################################################ \n",
    "#################### Getting the metadata ####################\n",
    "######################################## ####################\n",
    "\n"
   ]
  },
  {
   "cell_type": "code",
   "execution_count": null,
   "metadata": {},
   "outputs": [],
   "source": [
    "# [TODO] Query & download images"
   ]
  },
  {
   "cell_type": "code",
   "execution_count": null,
   "metadata": {},
   "outputs": [],
   "source": [
    "############################################################ \n",
    "#################### Getting the actual images ####################\n",
    "######################################## ####################\n",
    "\n",
    "root_path = './'\n",
    "url = 'https://drive.google.com/uc?id=1j5fCPgh0gnY6v7ChkWlgnnHH6unxuAbb'\n",
    "output = 'img.zip'\n",
    "gdown.download(url, output, quiet=False)\n",
    "with zipfile.ZipFile(\"img.zip\",\"r\") as zip_ref:\n",
    "    zip_ref.extractall(root_path)"
   ]
  },
  {
   "cell_type": "code",
   "execution_count": null,
   "metadata": {},
   "outputs": [],
   "source": [
    "# [TODO] Once we get images & metadata, combine"
   ]
  },
  {
   "cell_type": "code",
   "execution_count": null,
   "metadata": {},
   "outputs": [],
   "source": [
    "############################################################ \n",
    "#################### Creating the master dataset ####################\n",
    "######################################## ####################\n",
    "\n",
    "\n",
    "category_list = []\n",
    "image_path_list = []\n",
    "data_type_list = []\n",
    "# category names\n",
    "with open('list_category_cloth.txt', 'r') as f:\n",
    "    for i, line in enumerate(f.readlines()):\n",
    "        if i > 1:\n",
    "            category_list.append(line.split(' ')[0])\n",
    "\n",
    "# category map\n",
    "with open('list_category_img.txt', 'r') as f:\n",
    "    for i, line in enumerate(f.readlines()):\n",
    "        if i > 1:\n",
    "            image_path_list.append([word.strip() for word in line.split(' ') if len(word) > 0])\n",
    "\n",
    "\n",
    "# train, valid, test\n",
    "with open('list_eval_partition.txt', 'r') as f:\n",
    "    for i, line in enumerate(f.readlines()):\n",
    "        if i > 1:\n",
    "            data_type_list.append([word.strip() for word in line.split(' ') if len(word) > 0])"
   ]
  },
  {
   "cell_type": "code",
   "execution_count": null,
   "metadata": {},
   "outputs": [],
   "source": [
    "data_df = pd.DataFrame(image_path_list, columns=['image_path', 'category_number'])\n",
    "data_df['category_number'] = data_df['category_number'].astype(int)\n",
    "data_df = data_df.merge(pd.DataFrame(data_type_list, columns=['image_path', 'dataset_type']), on='image_path')\n",
    "data_df['category'] = data_df['category_number'].apply(lambda x: category_list[int(x) - 1])\n",
    "data_df = data_df.drop('category_number', axis=1)\n",
    "data_df.head()"
   ]
  },
  {
   "cell_type": "code",
   "execution_count": null,
   "metadata": {},
   "outputs": [],
   "source": [
    "# [TODO] Do initial EDA "
   ]
  },
  {
   "cell_type": "code",
   "execution_count": null,
   "metadata": {},
   "outputs": [],
   "source": [
    "############################################################ \n",
    "#################### EDA ####################\n",
    "######################################## ####################\n",
    "\n",
    "len(data_df)"
   ]
  },
  {
   "cell_type": "code",
   "execution_count": null,
   "metadata": {},
   "outputs": [],
   "source": [
    "############################################################ \n",
    "#################### EDA ####################\n",
    "######################################## ####################\n",
    "\n",
    "data_df[['image_path','dataset_type']].groupby('dataset_type').count()"
   ]
  },
  {
   "cell_type": "code",
   "execution_count": null,
   "metadata": {},
   "outputs": [],
   "source": [
    "############################################################ \n",
    "#################### EDA ####################\n",
    "######################################## ####################\n",
    "\n",
    "\n",
    "len(data_df.category.unique())"
   ]
  },
  {
   "cell_type": "code",
   "execution_count": null,
   "metadata": {},
   "outputs": [],
   "source": [
    "############################################################ \n",
    "#################### EDA ####################\n",
    "######################################## ####################\n",
    "\n",
    "\n",
    "\n",
    "data_df[['image_path','category']].groupby('category').count()"
   ]
  }
 ],
 "metadata": {
  "kernelspec": {
   "display_name": "Python 3",
   "language": "python",
   "name": "python3"
  },
  "language_info": {
   "codemirror_mode": {
    "name": "ipython",
    "version": 3
   },
   "file_extension": ".py",
   "mimetype": "text/x-python",
   "name": "python",
   "nbconvert_exporter": "python",
   "pygments_lexer": "ipython3",
   "version": "3.7.9"
  }
 },
 "nbformat": 4,
 "nbformat_minor": 4
}
