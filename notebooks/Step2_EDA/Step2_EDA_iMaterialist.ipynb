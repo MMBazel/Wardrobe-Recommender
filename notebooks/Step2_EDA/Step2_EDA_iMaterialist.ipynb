{
 "cells": [
  {
   "cell_type": "markdown",
   "metadata": {},
   "source": [
    "# MLE Capstone: Outfit Recommender - Spring 2021\n",
    "# Step 2: Data Collection & Initial EDA of Candidate Datasets\n",
    "# Dataset 1: iMaterialist\n",
    "\n",
    "### By: Bazeley, Mikiko \n",
    "### GH: @mmbazel  \n",
    "\n",
    "In this notebook, I'll be exploring one of three datasets (DeepFashion, Paperdoll, and iMaterialist). \n",
    "\n",
    "Specifically in this notebook we'll: \n",
    "* Load the data\n",
    "* Explore the dimensions of the dataset\n",
    "* Understand what categories are being represented"
   ]
  },
  {
   "cell_type": "markdown",
   "metadata": {},
   "source": [
    "## Step 1: Proper set-up & installation of necessary libraries & packages\n",
    "\n",
    "1. Ensure you've set-up with the Kaggle API\n",
    "* Pro Tip: If you're trying to set up the path to the kaggle.json file as an environment variable on MacOS (Catalina), easiest way is to set at the command line. It was annoying dealing with the different editors like vim & nano. \n",
    "\n",
    "$ KAGGLE_CONFIG_DIR= {INSERT_YOUR_HOMEPATH_HERE}/.kaggle export KAGGLE_CONFIG_DIR\n"
   ]
  },
  {
   "cell_type": "code",
   "execution_count": 2,
   "metadata": {},
   "outputs": [
    {
     "name": "stdout",
     "output_type": "stream",
     "text": [
      "Packages Imported\n"
     ]
    }
   ],
   "source": [
    "##################### [TODO] SETUP #####################\n",
    "import json\n",
    "import os\n",
    "\n",
    "import matplotlib.pyplot as plt\n",
    "import numpy as np\n",
    "import pandas as pd\n",
    "\n",
    "import zipfile\n",
    "import time\n",
    "\n",
    "%matplotlib inline\n",
    "\n",
    "print('Packages Imported')\n",
    "\n",
    "\n",
    "# [TODO] Package install/load\n",
    "# [TODO] Import any utilities functions\n",
    "# [TODO] Set any settings\n",
    "# [TODO] Load any secrets/credetials "
   ]
  },
  {
   "cell_type": "code",
   "execution_count": null,
   "metadata": {},
   "outputs": [],
   "source": [
    "# Load Kaggle credentials\n",
    "\n",
    "KAGGLE_CONFIG_DIR = os.getenv('KAGGLE_CONFIG_DIR')\n",
    "kaggle_credential_filename = 'kaggle.json'\n",
    "\n",
    "with open(f'{KAGGLE_CONFIG_DIR}\\\\{kaggle_credential_filename}') as kaggle_file:\n",
    "    kaggle_cred = json.load(kaggle_file)\n",
    "\n",
    "kaggle_username = kaggle_cred['username']\n",
    "kaggle_key = kaggle_cred['key']"
   ]
  },
  {
   "cell_type": "code",
   "execution_count": 3,
   "metadata": {},
   "outputs": [
    {
     "data": {
      "text/plain": [
       "['In',\n",
       " 'Out',\n",
       " '_',\n",
       " '__',\n",
       " '___',\n",
       " '__builtin__',\n",
       " '__builtins__',\n",
       " '__doc__',\n",
       " '__loader__',\n",
       " '__name__',\n",
       " '__package__',\n",
       " '__spec__',\n",
       " '_dh',\n",
       " '_i',\n",
       " '_i1',\n",
       " '_i2',\n",
       " '_i3',\n",
       " '_ih',\n",
       " '_ii',\n",
       " '_iii',\n",
       " '_oh',\n",
       " 'exit',\n",
       " 'gdown',\n",
       " 'get_ipython',\n",
       " 'modules',\n",
       " 'np',\n",
       " 'os',\n",
       " 'pd',\n",
       " 'plt',\n",
       " 'quit',\n",
       " 'sys',\n",
       " 'time',\n",
       " 'zipfile']"
      ]
     },
     "execution_count": 3,
     "metadata": {},
     "output_type": "execute_result"
    }
   ],
   "source": [
    "import sys\n",
    "import os\n",
    "modules = dir()\n",
    "\n",
    "modules"
   ]
  },
  {
   "cell_type": "code",
   "execution_count": null,
   "metadata": {},
   "outputs": [],
   "source": [
    "# [TODO] Query & download metadata\n"
   ]
  },
  {
   "cell_type": "code",
   "execution_count": 4,
   "metadata": {},
   "outputs": [
    {
     "name": "stdout",
     "output_type": "stream",
     "text": [
      "Starting Download\n",
      "Access denied with the following error:\n"
     ]
    },
    {
     "name": "stderr",
     "output_type": "stream",
     "text": [
      "\n",
      " \tToo many users have viewed or downloaded this file recently. Please\n",
      "\ttry accessing the file again later. If the file you are trying to\n",
      "\taccess is particularly large or is shared with many people, it may\n",
      "\ttake up to 24 hours to be able to view or download the file. If you\n",
      "\tstill can't access a file after 24 hours, contact your domain\n",
      "\tadministrator. \n",
      "\n",
      "You may still be able to access the file from the browser:\n",
      "\n",
      "\t https://drive.google.com/uc?id=0B7EVK8r0v71pWnFiNlNGTVloLUk \n",
      "\n"
     ]
    }
   ],
   "source": [
    "############################################################ \n",
    "#################### Getting the metadata ####################\n",
    "######################################## ####################\n",
    "\n"
   ]
  },
  {
   "cell_type": "code",
   "execution_count": null,
   "metadata": {},
   "outputs": [],
   "source": [
    "# [TODO] Query & download images"
   ]
  },
  {
   "cell_type": "code",
   "execution_count": null,
   "metadata": {},
   "outputs": [],
   "source": [
    "############################################################ \n",
    "#################### Getting the actual images ####################\n",
    "######################################## ####################\n",
    "\n",
    "root_path = './'\n",
    "url = 'https://drive.google.com/uc?id=1j5fCPgh0gnY6v7ChkWlgnnHH6unxuAbb'\n",
    "output = 'img.zip'\n",
    "gdown.download(url, output, quiet=False)\n",
    "with zipfile.ZipFile(\"img.zip\",\"r\") as zip_ref:\n",
    "    zip_ref.extractall(root_path)"
   ]
  },
  {
   "cell_type": "code",
   "execution_count": null,
   "metadata": {},
   "outputs": [],
   "source": [
    "# [TODO] Once we get images & metadata, combine"
   ]
  },
  {
   "cell_type": "code",
   "execution_count": null,
   "metadata": {},
   "outputs": [],
   "source": [
    "############################################################ \n",
    "#################### Creating the master dataset ####################\n",
    "######################################## ####################\n",
    "\n",
    "\n",
    "category_list = []\n",
    "image_path_list = []\n",
    "data_type_list = []\n",
    "# category names\n",
    "with open('list_category_cloth.txt', 'r') as f:\n",
    "    for i, line in enumerate(f.readlines()):\n",
    "        if i > 1:\n",
    "            category_list.append(line.split(' ')[0])\n",
    "\n",
    "# category map\n",
    "with open('list_category_img.txt', 'r') as f:\n",
    "    for i, line in enumerate(f.readlines()):\n",
    "        if i > 1:\n",
    "            image_path_list.append([word.strip() for word in line.split(' ') if len(word) > 0])\n",
    "\n",
    "\n",
    "# train, valid, test\n",
    "with open('list_eval_partition.txt', 'r') as f:\n",
    "    for i, line in enumerate(f.readlines()):\n",
    "        if i > 1:\n",
    "            data_type_list.append([word.strip() for word in line.split(' ') if len(word) > 0])"
   ]
  },
  {
   "cell_type": "code",
   "execution_count": null,
   "metadata": {},
   "outputs": [],
   "source": [
    "data_df = pd.DataFrame(image_path_list, columns=['image_path', 'category_number'])\n",
    "data_df['category_number'] = data_df['category_number'].astype(int)\n",
    "data_df = data_df.merge(pd.DataFrame(data_type_list, columns=['image_path', 'dataset_type']), on='image_path')\n",
    "data_df['category'] = data_df['category_number'].apply(lambda x: category_list[int(x) - 1])\n",
    "data_df = data_df.drop('category_number', axis=1)\n",
    "data_df.head()"
   ]
  },
  {
   "cell_type": "code",
   "execution_count": null,
   "metadata": {},
   "outputs": [],
   "source": [
    "# [TODO] Do initial EDA "
   ]
  },
  {
   "cell_type": "code",
   "execution_count": null,
   "metadata": {},
   "outputs": [],
   "source": [
    "############################################################ \n",
    "#################### EDA ####################\n",
    "######################################## ####################\n",
    "\n",
    "len(data_df)"
   ]
  },
  {
   "cell_type": "code",
   "execution_count": null,
   "metadata": {},
   "outputs": [],
   "source": [
    "############################################################ \n",
    "#################### EDA ####################\n",
    "######################################## ####################\n",
    "\n",
    "data_df[['image_path','dataset_type']].groupby('dataset_type').count()"
   ]
  },
  {
   "cell_type": "code",
   "execution_count": null,
   "metadata": {},
   "outputs": [],
   "source": [
    "############################################################ \n",
    "#################### EDA ####################\n",
    "######################################## ####################\n",
    "\n",
    "\n",
    "len(data_df.category.unique())"
   ]
  },
  {
   "cell_type": "code",
   "execution_count": null,
   "metadata": {},
   "outputs": [],
   "source": [
    "############################################################ \n",
    "#################### EDA ####################\n",
    "######################################## ####################\n",
    "\n",
    "\n",
    "\n",
    "data_df[['image_path','category']].groupby('category').count()"
   ]
  }
 ],
 "metadata": {
  "kernelspec": {
   "display_name": "Python 3",
   "language": "python",
   "name": "python3"
  },
  "language_info": {
   "codemirror_mode": {
    "name": "ipython",
    "version": 3
   },
   "file_extension": ".py",
   "mimetype": "text/x-python",
   "name": "python",
   "nbconvert_exporter": "python",
   "pygments_lexer": "ipython3",
   "version": "3.8.5"
  }
 },
 "nbformat": 4,
 "nbformat_minor": 4
}
