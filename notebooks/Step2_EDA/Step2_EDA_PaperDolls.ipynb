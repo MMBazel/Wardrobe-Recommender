{
 "cells": [
  {
   "cell_type": "markdown",
   "metadata": {},
   "source": [
    "# Step 2: Data Collection & Initial EDA of Candidate Datasets\n",
    "## Dataset 2: PaperDoll/Chictopia\n",
    "\n",
    "### MLE Capstone: Outfit Recommender - Spring 2021\n",
    "### By: Bazeley, Mikiko \n",
    "### GH: [@mmbazel](https://github.com/MMBazel)  \n",
    "\n",
    "In this notebook, I'll be exploring one of three datasets (DeepFashion, Paperdoll, and iMaterialist). \n",
    "\n",
    "Specifically in this notebook we'll: \n",
    "\n",
    "☑️ Load the data\n",
    "\n",
    "☑️ Explore the dimensions of the dataset\n",
    "\n",
    "☑️ Understand what categories are being represented\n",
    "\n",
    "☑️ Explore samples of the data (the meta data dictionary with catgories & attributes labels, the Train 🚂 file, and finally the images 📸 themselves)\n",
    "\n",
    "☑️ Understand distributions of categories, attributes"
   ]
  },
  {
   "cell_type": "markdown",
   "metadata": {},
   "source": [
    "<hr style=\"border-top: 5px solid black; margin-top: 1px; margin-bottom: 1px\"></hr>\n",
    "\n",
    "## Explanation of the data, according to the dataset page here: \n",
    "https://github.com/kyamagu/paperdoll/tree/master/data/chictopia\n",
    "\n",
    "### Files\n",
    "\n",
    "\n",
    "### ⚠️📝 Notes (About the Notebooks) ⚠️📝 \n",
    "\n",
    "My guiding principles:\n",
    "* ➡️ Be overly communicative = While that leads to verbose commenting, I hope that means I catch a bunch of questions early)  \n",
    "* ➡️ Human-readable over witty-optimization = For the most part I try to make everything I'm doing obvious\n",
    "* ➡️ Write as much code as needed, and no more = There's a time and place for error-catching & object-oriented code & there are ways to make the notebook reproducible. That's not quite the goal for this notebook (or any of the other notebooks in the early stages of the project) and my goal was to write just the code needed to get this step done.  "
   ]
  },
  {
   "cell_type": "markdown",
   "metadata": {},
   "source": [
    "<hr style=\"border-top: 5px solid black; margin-top: 1px; margin-bottom: 1px\"></hr>\n",
    "\n",
    "# <span style='background :red' > Step 1: Proper set-up & installation of necessary libraries & packages </span> \n",
    "\n",
    "1. Ensure you're using the right flavor of commands and that you have sqlite3 available to you. It's easy enough to pull up the terminal or whatever shell version youre using to check. \n"
   ]
  },
  {
   "cell_type": "code",
   "execution_count": null,
   "metadata": {},
   "outputs": [],
   "source": [
    "#!pip3 install lmdb\n",
    "#!pip3 install ipython-sql"
   ]
  },
  {
   "cell_type": "code",
   "execution_count": 53,
   "metadata": {},
   "outputs": [],
   "source": [
    "%load_ext sql"
   ]
  },
  {
   "cell_type": "code",
   "execution_count": 54,
   "metadata": {},
   "outputs": [
    {
     "name": "stdout",
     "output_type": "stream",
     "text": [
      "Packages Imported\n",
      "['Image', 'In', 'Out', '_', '_15', '_16', '_17', '_18', '_19', '_27', '_30', '_31', '_37', '_38', '_45', '_46', '_47', '_48', '_49', '__', '___', '__builtin__', '__builtins__', '__doc__', '__loader__', '__name__', '__package__', '__spec__', '_dh', '_exit_code', '_i', '_i1', '_i10', '_i11', '_i12', '_i13', '_i14', '_i15', '_i16', '_i17', '_i18', '_i19', '_i2', '_i20', '_i21', '_i22', '_i23', '_i24', '_i25', '_i26', '_i27', '_i28', '_i29', '_i3', '_i30', '_i31', '_i32', '_i33', '_i34', '_i35', '_i36', '_i37', '_i38', '_i39', '_i4', '_i40', '_i41', '_i42', '_i43', '_i44', '_i45', '_i46', '_i47', '_i48', '_i49', '_i5', '_i50', '_i51', '_i52', '_i53', '_i54', '_i6', '_i7', '_i8', '_i9', '_ih', '_ii', '_iii', '_oh', 'color_taggings_sample', 'create_engine', 'db', 'exit', 'garments_sample', 'get_ipython', 'io', 'json', 'lmdb', 'modules', 'np', 'os', 'pd', 'plt', 'query', 'quit', 'schema_list', 'sqlite3', 'stores_sample', 'sys', 't_name', 'table_list_dict', 'table_names_list', 'tables_columns', 'taggings_sample', 'trends_sample', 'users_sample']\n"
     ]
    }
   ],
   "source": [
    "##################### [TODO] SETUP #####################\n",
    "# [TODO] Import any utilities functions\n",
    "\n",
    "\n",
    "import json\n",
    "import os\n",
    "import sys\n",
    "from sqlalchemy import create_engine\n",
    "\n",
    "import io\n",
    "import lmdb\n",
    "import sqlite3\n",
    "import pandas as pd\n",
    "from PIL import Image\n",
    "\n",
    "import matplotlib.pyplot as plt\n",
    "import numpy as np\n",
    "import pandas as pd\n",
    "\n",
    "%matplotlib inline\n",
    "\n",
    "print('Packages Imported')\n",
    "\n",
    "modules = dir()\n",
    "\n",
    "print(modules)\n",
    "#print(os.environ)\n",
    "\n",
    "# [TODO] Package install/load"
   ]
  },
  {
   "cell_type": "code",
   "execution_count": 3,
   "metadata": {},
   "outputs": [
    {
     "name": "stdout",
     "output_type": "stream",
     "text": [
      "# packages in environment at /Users/mikikobazeley/opt/anaconda3/envs/SPRINGBOARD_MLE_CAPSTONE_ENV:\n",
      "#\n",
      "# Name                    Version                   Build  Channel\n",
      "_py-xgboost-mutex         2.0                       cpu_0  \n",
      "_pytorch_select           0.1                       cpu_0    anaconda\n",
      "_tflow_select             2.3.0                       mkl  \n",
      "absl-py                   0.11.0             pyhd3eb1b0_1  \n",
      "appnope                   0.1.2           py37hecd8cb5_1001  \n",
      "argon2-cffi               20.1.0           py37haf1e3a3_1    anaconda\n",
      "astor                     0.8.1            py37hecd8cb5_0  \n",
      "async_generator           1.10             py37h28b3542_0    anaconda\n",
      "attrs                     20.3.0             pyhd3eb1b0_0  \n",
      "backcall                  0.2.0              pyhd3eb1b0_0  \n",
      "blas                      1.0                         mkl  \n",
      "bleach                    3.3.0              pyhd3eb1b0_0  \n",
      "blis                      0.7.4                    pypi_0    pypi\n",
      "brotlipy                  0.7.0           py37haf1e3a3_1000    anaconda\n",
      "c-ares                    1.17.1               h9ed2024_0  \n",
      "ca-certificates           2020.12.5            h033912b_0    conda-forge\n",
      "catalogue                 2.0.1                    pypi_0    pypi\n",
      "catboost                  0.24.4           py37hf985489_0    conda-forge\n",
      "certifi                   2020.12.5        py37hf985489_1    conda-forge\n",
      "cffi                      1.14.3           py37hed5b41f_0    anaconda\n",
      "chardet                   3.0.4                 py37_1003    conda-forge\n",
      "click                     7.1.2              pyh9f0ad1d_0    conda-forge\n",
      "colour                    0.1.5                    pypi_0    pypi\n",
      "combo                     0.1.2                    pypi_0    pypi\n",
      "coverage                  5.4              py37h9ed2024_2  \n",
      "cryptography              3.3.1            py37hbcfaee0_0  \n",
      "cycler                    0.10.0                   py37_0    anaconda\n",
      "cymem                     2.0.5                    pypi_0    pypi\n",
      "decorator                 4.4.2              pyhd3eb1b0_0  \n",
      "defusedxml                0.6.0                      py_0    conda-forge\n",
      "dtreeviz                  1.1.4                    pypi_0    pypi\n",
      "entrypoints               0.3                      py37_0    anaconda\n",
      "et_xmlfile                1.0.1                   py_1001  \n",
      "fastai                    2.2.5                    pypi_0    pypi\n",
      "fastcore                  1.3.19                   pypi_0    pypi\n",
      "fastprogress              1.0.0                    pypi_0    pypi\n",
      "filelock                  3.0.12             pyh9f0ad1d_0    conda-forge\n",
      "freetype                  2.10.4               ha233b18_0    conda-forge\n",
      "gast                      0.2.2                    py37_0  \n",
      "gdown                     3.12.2             pyh9f0ad1d_0    conda-forge\n",
      "google-pasta              0.2.0                      py_0  \n",
      "grpcio                    1.35.0           py37h97de6d8_0  \n",
      "h5py                      2.10.0           py37h0601b69_1  \n",
      "hdf5                      1.10.6               hdbbcd12_0  \n",
      "idna                      2.10               pyh9f0ad1d_0    conda-forge\n",
      "importlib-metadata        3.4.0                    pypi_0    pypi\n",
      "importlib_metadata        2.0.0                         1    conda-forge\n",
      "iniconfig                 1.1.1                    pypi_0    pypi\n",
      "intel-openmp              2019.4                      233    anaconda\n",
      "ipykernel                 5.4.3            py37he01cfaa_0    conda-forge\n",
      "ipython                   7.20.0           py37h01d92e1_1  \n",
      "ipython_genutils          0.2.0              pyhd3eb1b0_1  \n",
      "jdcal                     1.4.1                      py_0  \n",
      "jedi                      0.17.2           py37hecd8cb5_1  \n",
      "jinja2                    2.11.3             pyhd3eb1b0_0  \n",
      "joblib                    1.0.0                    pypi_0    pypi\n",
      "jpeg                      9b                   he5867d9_2    anaconda\n",
      "json5                     0.9.5                      py_0    anaconda\n",
      "jsonschema                3.2.0                      py_2    conda-forge\n",
      "jupyter_client            6.1.7                      py_0    conda-forge\n",
      "jupyter_core              4.7.1            py37hecd8cb5_0  \n",
      "jupyterlab                2.2.9              pyhd8ed1ab_0    conda-forge\n",
      "jupyterlab_pygments       0.1.2                      py_0    anaconda\n",
      "jupyterlab_server         1.2.0                      py_0    conda-forge\n",
      "keras-applications        1.0.8                      py_1  \n",
      "keras-preprocessing       1.1.2              pyhd3eb1b0_0  \n",
      "kiwisolver                1.2.0            py37h04f5b5a_0    anaconda\n",
      "lcms2                     2.11                 h92f6f08_0    anaconda\n",
      "libcxx                    10.0.0                        1    conda-forge\n",
      "libedit                   3.1.20191231         h1de35cc_1    anaconda\n",
      "libffi                    3.3                  hb1e8313_2    anaconda\n",
      "libgfortran               3.0.1                h93005f0_2  \n",
      "libllvm10                 10.0.1               h76017ad_5  \n",
      "libmklml                  2019.0.5                      0    anaconda\n",
      "libpng                    1.6.37               ha441bb4_0    anaconda\n",
      "libprotobuf               3.14.0               h2842e9f_0  \n",
      "libsodium                 1.0.18               h1de35cc_0    anaconda\n",
      "libtiff                   4.1.0                hcb84e12_1  \n",
      "libxgboost                0.90                 hb1e8313_1  \n",
      "llvm-openmp               10.0.0               h28b9765_0    conda-forge\n",
      "llvmlite                  0.35.0                   pypi_0    pypi\n",
      "lmdb                      1.1.1                    pypi_0    pypi\n",
      "lz4-c                     1.9.3                h23ab428_0  \n",
      "markdown                  3.3.3            py37hecd8cb5_0  \n",
      "markupsafe                1.1.1            py37h1de35cc_0    conda-forge\n",
      "matplotlib                3.3.2                hecd8cb5_0  \n",
      "matplotlib-base           3.3.2            py37h181983e_0  \n",
      "mistune                   0.8.4            py37h1de35cc_0    anaconda\n",
      "mkl                       2019.4                      233    anaconda\n",
      "mkl-service               2.3.0            py37hfbe908c_0    anaconda\n",
      "mkl_fft                   1.2.0            py37hc64f4ea_0    anaconda\n",
      "mkl_random                1.1.1            py37h959d312_0    anaconda\n",
      "murmurhash                1.0.5                    pypi_0    pypi\n",
      "nbclient                  0.5.1                      py_0    conda-forge\n",
      "nbconvert                 6.0.7                    py37_0    anaconda\n",
      "nbformat                  5.1.2              pyhd3eb1b0_1  \n",
      "ncurses                   6.2                  h0a44026_1    anaconda\n",
      "nest-asyncio              1.4.3              pyhd3eb1b0_0  \n",
      "ninja                     1.10.2           py37hf7b0b51_0  \n",
      "notebook                  6.2.0            py37hecd8cb5_0  \n",
      "numba                     0.52.0                   pypi_0    pypi\n",
      "numpy                     1.19.1           py37h3b9f5b6_0    anaconda\n",
      "numpy-base                1.19.1           py37hcfb5961_0    anaconda\n",
      "olefile                   0.46                       py_0    conda-forge\n",
      "openpyxl                  3.0.6              pyhd3eb1b0_0  \n",
      "openssl                   1.1.1j               hbcf498f_0    conda-forge\n",
      "opt_einsum                3.1.0                      py_0  \n",
      "packaging                 20.9               pyhd3eb1b0_0  \n",
      "pandas                    1.2.1            py37hb2f4e1b_0  \n",
      "pandoc                    2.11                 h0dc7051_0    anaconda\n",
      "pandocfilters             1.4.3            py37hecd8cb5_1  \n",
      "parso                     0.7.0                      py_0    anaconda\n",
      "pathy                     0.3.5                    pypi_0    pypi\n",
      "patsy                     0.5.1                    py37_0  \n",
      "pdpbox                    0.2.0                    pypi_0    pypi\n",
      "pexpect                   4.8.0              pyhd3eb1b0_3  \n",
      "pickleshare               0.7.5           pyhd3eb1b0_1003  \n",
      "pillow                    8.0.0            py37h1a82f1a_0    anaconda\n",
      "pip                       20.2.4                   py37_0    anaconda\n",
      "pluggy                    0.13.1                   pypi_0    pypi\n",
      "preshed                   3.0.5                    pypi_0    pypi\n",
      "prometheus_client         0.9.0              pyhd3eb1b0_0  \n",
      "prompt-toolkit            3.0.8                      py_0    conda-forge\n",
      "protobuf                  3.14.0           py37h23ab428_1  \n",
      "psutil                    5.8.0                    pypi_0    pypi\n",
      "ptyprocess                0.7.0              pyhd3eb1b0_2  \n",
      "py                        1.10.0                   pypi_0    pypi\n",
      "py-xgboost                0.90             py37hb1e8313_1    anaconda\n",
      "pycparser                 2.20               pyh9f0ad1d_2    conda-forge\n",
      "pydantic                  1.7.3                    pypi_0    pypi\n",
      "pydotplus                 2.0.2                    py37_1  \n",
      "pygments                  2.7.4              pyhd3eb1b0_0  \n",
      "pyod                      0.8.6              pyh44b312d_0    conda-forge\n",
      "pyopenssl                 20.0.1             pyhd8ed1ab_0    conda-forge\n",
      "pyparsing                 2.4.7              pyhd3eb1b0_0  \n",
      "pyrsistent                0.17.3           py37haf1e3a3_0    anaconda\n",
      "pysocks                   1.7.1                    py37_0    conda-forge\n",
      "pytest                    6.2.2                    pypi_0    pypi\n",
      "python                    3.7.9                h26836e1_0    anaconda\n",
      "python-dateutil           2.8.1              pyhd3eb1b0_0  \n",
      "python-dotenv             0.15.0             pyhd8ed1ab_0    conda-forge\n",
      "python-graphviz           0.16                     pypi_0    pypi\n",
      "python_abi                3.7                     1_cp37m    conda-forge\n",
      "pytz                      2021.1             pyhd3eb1b0_0  \n",
      "pyyaml                    5.4.1                    pypi_0    pypi\n",
      "pyzmq                     20.0.0           py37h23ab428_1  \n",
      "readline                  8.1                  h9ed2024_0  \n",
      "requests                  2.25.1             pyhd3deb0d_0    conda-forge\n",
      "scikit-learn              0.24.1                   pypi_0    pypi\n",
      "scipy                     1.6.0            py37h2515648_0  \n",
      "seaborn                   0.11.1             pyhd3eb1b0_0  \n",
      "send2trash                1.5.0              pyhd3eb1b0_1  \n",
      "setuptools                50.3.0           py37h0dc7051_1    anaconda\n",
      "six                       1.15.0                     py_0    anaconda\n",
      "smart-open                3.0.0                    pypi_0    pypi\n",
      "spacy                     3.0.1                    pypi_0    pypi\n",
      "spacy-legacy              3.0.1                    pypi_0    pypi\n",
      "sqlite                    3.33.0               hffcf06c_0    anaconda\n",
      "srsly                     2.4.0                    pypi_0    pypi\n",
      "statsmodels               0.12.0           py37haf1e3a3_0  \n",
      "suod                      0.0.6                    pypi_0    pypi\n",
      "tensorboard               2.0.0              pyhb38c66f_1  \n",
      "tensorflow                2.0.0           mkl_py37hda344b4_0  \n",
      "tensorflow-base           2.0.0           mkl_py37h66b1bf0_0  \n",
      "tensorflow-estimator      2.0.0              pyh2649769_0  \n",
      "termcolor                 1.1.0            py37hecd8cb5_1  \n",
      "terminado                 0.9.2            py37hecd8cb5_0  \n",
      "testpath                  0.4.4              pyhd3eb1b0_0  \n",
      "thinc                     8.0.1                    pypi_0    pypi\n",
      "threadpoolctl             2.1.0              pyh5ca1d4c_0  \n",
      "tk                        8.6.10               hb0a8c7a_0    conda-forge\n",
      "toml                      0.10.2                   pypi_0    pypi\n",
      "torch                     1.7.1                    pypi_0    pypi\n",
      "torchvision               0.8.2                    pypi_0    pypi\n",
      "tornado                   6.0.4            py37h1de35cc_1    anaconda\n",
      "tqdm                      4.56.0             pyhd8ed1ab_0    conda-forge\n",
      "traitlets                 5.0.5              pyhd3eb1b0_0  \n",
      "typer                     0.3.2                    pypi_0    pypi\n",
      "typing-extensions         3.7.4.3                  pypi_0    pypi\n",
      "urllib3                   1.26.3             pyhd8ed1ab_0    conda-forge\n",
      "wasabi                    0.8.2                    pypi_0    pypi\n",
      "wcwidth                   0.2.5                      py_0    anaconda\n",
      "webencodings              0.5.1                    py37_1    anaconda\n",
      "werkzeug                  1.0.1              pyhd3eb1b0_0  \n",
      "wget                      3.2                      pypi_0    pypi\n",
      "wheel                     0.36.2             pyhd3eb1b0_0  \n",
      "wrapt                     1.12.1           py37h1de35cc_1  \n",
      "xlrd                      2.0.1              pyhd3eb1b0_0  \n",
      "xz                        5.2.5                h1de35cc_0    anaconda\n",
      "zeromq                    4.3.3                hb1e8313_3    anaconda\n",
      "zipp                      3.4.0              pyhd3eb1b0_0  \n",
      "zlib                      1.2.11               h1de35cc_3    anaconda\n",
      "zstd                      1.4.5                h41d2c2f_0    anaconda\n"
     ]
    }
   ],
   "source": [
    "# Confirm all the right libraries are present\n",
    "# This is an important step because there's a good chance\n",
    "# that for some pckaes where you use pip or pip3 install\n",
    "# they could download to the wrong directory if you're not\n",
    "# using the right pip executable\n",
    "\n",
    "!conda list"
   ]
  },
  {
   "cell_type": "code",
   "execution_count": 4,
   "metadata": {},
   "outputs": [
    {
     "name": "stdout",
     "output_type": "stream",
     "text": [
      "/Users/mikikobazeley/Github/personal/MMBazel/Wardrobe-Recommender/notebooks/Step2_EDA\r\n"
     ]
    }
   ],
   "source": [
    "# Confirm path of working directory\n",
    "!pwd "
   ]
  },
  {
   "cell_type": "markdown",
   "metadata": {},
   "source": [
    "<hr style=\"border-top: 5px solid black; margin-top: 1px; margin-bottom: 1px\"></hr>\n",
    "\n",
    "# <span style='background :red' > Step 2: Download the Chictopia Datasets</span> "
   ]
  },
  {
   "cell_type": "markdown",
   "metadata": {},
   "source": [
    "⚠️ Best way to not mess this process up is to follow the insteructions here exactly: https://github.com/kyamagu/paperdoll/tree/master/data/chictopia\n",
    "\n",
    "Make sure you have installed: \n",
    "➡️ wget (I used homebrew to install & manage so it's globally available on my mac as opposed to just the conda env => !brew install wget)"
   ]
  },
  {
   "cell_type": "markdown",
   "metadata": {},
   "source": [
    "## <span style='background :orange' > Clone the Github Repo </span> "
   ]
  },
  {
   "cell_type": "code",
   "execution_count": 5,
   "metadata": {},
   "outputs": [],
   "source": [
    "# Use git to clone PaperDolls repository. Note Git LFS is used to host metadata file.\n",
    "# Then navigate to data/chictopia dir.\n",
    "#!git clone https://github.com/kyamagu/paperdoll /Volumes/MiniGator/Projects/Datasets/Paperdoll"
   ]
  },
  {
   "cell_type": "code",
   "execution_count": 6,
   "metadata": {},
   "outputs": [
    {
     "name": "stdout",
     "output_type": "stream",
     "text": [
      "\u001b[30m\u001b[43m.\u001b[m\u001b[m/              \u001b[30m\u001b[43m.git\u001b[m\u001b[m/           \u001b[31m.gitignore\u001b[m\u001b[m*     \u001b[31mREADME.md\u001b[m\u001b[m*\r\n",
      "\u001b[30m\u001b[43m..\u001b[m\u001b[m/             \u001b[31m.gitattributes\u001b[m\u001b[m* \u001b[31mLICENSE.txt\u001b[m\u001b[m*    \u001b[30m\u001b[43mdata\u001b[m\u001b[m/\r\n"
     ]
    }
   ],
   "source": [
    "# Confirm zipfile has been downloaded to the repo\n",
    "# Replace path with the path-to-dowloaded-dataset\n",
    "!ls -a -F /Volumes/MiniGator/Projects/Datasets/Paperdoll"
   ]
  },
  {
   "cell_type": "code",
   "execution_count": 7,
   "metadata": {},
   "outputs": [
    {
     "name": "stdout",
     "output_type": "stream",
     "text": [
      "\u001b[30m\u001b[43m.\u001b[m\u001b[m/          \u001b[30m\u001b[43m..\u001b[m\u001b[m/         \u001b[31m.gitignore\u001b[m\u001b[m* \u001b[30m\u001b[43mchictopia\u001b[m\u001b[m/\r\n"
     ]
    }
   ],
   "source": [
    "!ls -a -F /Volumes/MiniGator/Projects/Datasets/Paperdoll/data"
   ]
  },
  {
   "cell_type": "code",
   "execution_count": 8,
   "metadata": {},
   "outputs": [
    {
     "name": "stdout",
     "output_type": "stream",
     "text": [
      "\u001b[30m\u001b[43m.\u001b[m\u001b[m/                  \u001b[31m._chictopia.sql.gz\u001b[m\u001b[m* \u001b[31mchictopia.sql.gz\u001b[m\u001b[m*   \u001b[30m\u001b[43mphotos\u001b[m\u001b[m/\r\n",
      "\u001b[30m\u001b[43m..\u001b[m\u001b[m/                 \u001b[31mREADME.md\u001b[m\u001b[m*          \u001b[31mchictopia.sqlite3\u001b[m\u001b[m*  \u001b[31mphotos.lmdb.tar\u001b[m\u001b[m*\r\n"
     ]
    }
   ],
   "source": [
    "!ls -a -F /Volumes/MiniGator/Projects/Datasets/Paperdoll/data/chictopia"
   ]
  },
  {
   "cell_type": "code",
   "execution_count": 9,
   "metadata": {},
   "outputs": [],
   "source": [
    "#Uncomment first line to install. \n",
    "#!brew install wget"
   ]
  },
  {
   "cell_type": "markdown",
   "metadata": {},
   "source": [
    "## <span style='background :orange' > Download the image data from remote </span> "
   ]
  },
  {
   "cell_type": "code",
   "execution_count": 10,
   "metadata": {},
   "outputs": [],
   "source": [
    "# If the command doesn't work as a magic command in Jupyter; \n",
    "# run it in the vanilla terminal. \n",
    "# Download the photo data (~40GB)\n",
    "\n",
    "#!wget https://s3-ap-northeast-1.amazonaws.com/kyamagu-public/chictopia2/photos.lmdb.tar -P /Volumes/MiniGator/Projects/Datasets/Paperdoll/data/chictopia"
   ]
  },
  {
   "cell_type": "code",
   "execution_count": 12,
   "metadata": {},
   "outputs": [
    {
     "name": "stdout",
     "output_type": "stream",
     "text": [
      "\u001b[31m/Volumes/MiniGator/Projects/Datasets/Paperdoll/data/chictopia/photos.lmdb.tar\u001b[m\u001b[m\r\n"
     ]
    }
   ],
   "source": [
    "# Check again because I'm paranoid\n",
    "!ls /Volumes/MiniGator/Projects/Datasets/Paperdoll/data/chictopia/photos.lmdb.tar"
   ]
  },
  {
   "cell_type": "markdown",
   "metadata": {},
   "source": [
    "## <span style='background :orange' > Unzip photos file </span> "
   ]
  },
  {
   "cell_type": "code",
   "execution_count": null,
   "metadata": {},
   "outputs": [],
   "source": [
    "# Create a directory to make sure the photos get unzipped to a specific place\n",
    "#!mkdir /Volumes/MiniGator/Projects/Datasets/Paperdoll/data/chictopia/photos/"
   ]
  },
  {
   "cell_type": "code",
   "execution_count": null,
   "metadata": {},
   "outputs": [],
   "source": [
    "# Extract the LMDB content\n",
    "# LMDB stores raw PNG binary. The key is photo id and the value is binary. \n",
    "# See the notebook demo for how to open.\n",
    "# Consider using pv for tracking\n",
    "# https://stackoverflow.com/questions/19372373/how-to-add-progress-bar-to-a-somearchive-tar-xz-extract\n",
    "# Also: https://stackoverflow.com/questions/13707429/decompress-gzip-file-to-specific-directory\n",
    "\n",
    "#!tar -xf /Volumes/MiniGator/Projects/Datasets/Paperdoll/data/chictopia/photos.lmdb.tar -C /Volumes/MiniGator/Projects/Datasets/Paperdoll/data/chictopia/photos/"
   ]
  },
  {
   "cell_type": "markdown",
   "metadata": {},
   "source": [
    "## <span style='background :orange' > Unzip SQL file to create db, tables and load SQLite3 Chictopia DB</span> "
   ]
  },
  {
   "cell_type": "code",
   "execution_count": null,
   "metadata": {},
   "outputs": [],
   "source": [
    "# First reconstruct the metadata SQLite3 file. \n",
    "# The following command will reconstruct the SQLite3 database file.\n",
    "#!gunzip -c /Volumes/MiniGator/Projects/Datasets/Paperdoll/data/chictopia/chictopia.sql.gz | sqlite3 /Volumes/MiniGator/Projects/Datasets/Paperdoll/data/chictopia/chictopia.sqlite3"
   ]
  },
  {
   "cell_type": "code",
   "execution_count": 13,
   "metadata": {},
   "outputs": [
    {
     "name": "stdout",
     "output_type": "stream",
     "text": [
      "\u001b[30m\u001b[43m.\u001b[m\u001b[m/                  \u001b[31m._chictopia.sql.gz\u001b[m\u001b[m* \u001b[31mchictopia.sql.gz\u001b[m\u001b[m*   \u001b[30m\u001b[43mphotos\u001b[m\u001b[m/\r\n",
      "\u001b[30m\u001b[43m..\u001b[m\u001b[m/                 \u001b[31mREADME.md\u001b[m\u001b[m*          \u001b[31mchictopia.sqlite3\u001b[m\u001b[m*  \u001b[31mphotos.lmdb.tar\u001b[m\u001b[m*\r\n"
     ]
    }
   ],
   "source": [
    "# Check that we see a sqlite3 file\n",
    "!ls -F -a /Volumes/MiniGator/Projects/Datasets/Paperdoll/data/chictopia/"
   ]
  },
  {
   "cell_type": "markdown",
   "metadata": {},
   "source": [
    "<hr style=\"border-top: 5px solid black; margin-top: 1px; margin-bottom: 1px\"></hr>\n",
    "\n",
    "# <span style='background :red' > Step 3: Use SQL to start initial exploration 🔬  </span> "
   ]
  },
  {
   "cell_type": "markdown",
   "metadata": {},
   "source": [
    "We want to understand:\n",
    "\n",
    "☑️ What tables exist\n",
    "\n",
    "☑️ The columns & data types for each \n",
    "\n",
    "☑️ Entites & relationships being captured\n",
    "\n",
    "\n",
    "\n",
    "<span style='background :yellow' > 💡 We'll connect using the sqlite3 package & query with pandas instead of setting up the ful blown SQLAlchemy connection for the EDA. </span> \n",
    "\n",
    "See https://bit.ly/3r8hUC4 for the example usage notebook included with the dataset's repo."
   ]
  },
  {
   "cell_type": "code",
   "execution_count": 14,
   "metadata": {},
   "outputs": [],
   "source": [
    "#Connecting\n",
    "db = sqlite3.connect('file:/Volumes/MiniGator/Projects/Datasets/Paperdoll/data/chictopia/chictopia.sqlite3?mode=ro', uri=True)"
   ]
  },
  {
   "cell_type": "code",
   "execution_count": 61,
   "metadata": {},
   "outputs": [
    {
     "name": "stdout",
     "output_type": "stream",
     "text": [
      "(sqlite3.OperationalError) near \"%\": syntax error\n",
      "[SQL: %%sql select * from 'users']\n",
      "(Background on this error at: http://sqlalche.me/e/13/e3q8)\n"
     ]
    }
   ],
   "source": [
    "%%sql sqlite:////Volumes//MiniGator//Projects//Datasets//Paperdoll//data//chictopia//chictopia.sqlite3\n",
    "    \n",
    "%%sql select * from 'users' "
   ]
  },
  {
   "cell_type": "code",
   "execution_count": 15,
   "metadata": {},
   "outputs": [
    {
     "data": {
      "text/html": [
       "<div>\n",
       "<style scoped>\n",
       "    .dataframe tbody tr th:only-of-type {\n",
       "        vertical-align: middle;\n",
       "    }\n",
       "\n",
       "    .dataframe tbody tr th {\n",
       "        vertical-align: top;\n",
       "    }\n",
       "\n",
       "    .dataframe thead th {\n",
       "        text-align: right;\n",
       "    }\n",
       "</style>\n",
       "<table border=\"1\" class=\"dataframe\">\n",
       "  <thead>\n",
       "    <tr style=\"text-align: right;\">\n",
       "      <th></th>\n",
       "      <th>type</th>\n",
       "      <th>name</th>\n",
       "      <th>tbl_name</th>\n",
       "      <th>rootpage</th>\n",
       "      <th>sql</th>\n",
       "    </tr>\n",
       "  </thead>\n",
       "  <tbody>\n",
       "    <tr>\n",
       "      <th>16</th>\n",
       "      <td>index</td>\n",
       "      <td>index_users_on_street_id</td>\n",
       "      <td>users</td>\n",
       "      <td>392559</td>\n",
       "      <td>CREATE INDEX \"index_users_on_street_id\" ON \"us...</td>\n",
       "    </tr>\n",
       "    <tr>\n",
       "      <th>48</th>\n",
       "      <td>index</td>\n",
       "      <td>index_friendships_on_user_id_and_to_id</td>\n",
       "      <td>friendships</td>\n",
       "      <td>512678</td>\n",
       "      <td>CREATE UNIQUE INDEX \"index_friendships_on_user...</td>\n",
       "    </tr>\n",
       "    <tr>\n",
       "      <th>35</th>\n",
       "      <td>index</td>\n",
       "      <td>index_users_on_status</td>\n",
       "      <td>users</td>\n",
       "      <td>477563</td>\n",
       "      <td>CREATE INDEX \"index_users_on_status\" ON \"users...</td>\n",
       "    </tr>\n",
       "    <tr>\n",
       "      <th>6</th>\n",
       "      <td>table</td>\n",
       "      <td>tags</td>\n",
       "      <td>tags</td>\n",
       "      <td>83538</td>\n",
       "      <td>CREATE TABLE \"tags\" (\"id\" INTEGER PRIMARY KEY ...</td>\n",
       "    </tr>\n",
       "    <tr>\n",
       "      <th>15</th>\n",
       "      <td>table</td>\n",
       "      <td>photos</td>\n",
       "      <td>photos</td>\n",
       "      <td>326399</td>\n",
       "      <td>CREATE TABLE \"photos\" (\"id\" INTEGER PRIMARY KE...</td>\n",
       "    </tr>\n",
       "    <tr>\n",
       "      <th>23</th>\n",
       "      <td>index</td>\n",
       "      <td>index_garments_on_color_id</td>\n",
       "      <td>garments</td>\n",
       "      <td>406651</td>\n",
       "      <td>CREATE INDEX \"index_garments_on_color_id\" ON \"...</td>\n",
       "    </tr>\n",
       "    <tr>\n",
       "      <th>53</th>\n",
       "      <td>index</td>\n",
       "      <td>index_photos_on_status</td>\n",
       "      <td>photos</td>\n",
       "      <td>553463</td>\n",
       "      <td>CREATE INDEX \"index_photos_on_status\" ON \"phot...</td>\n",
       "    </tr>\n",
       "    <tr>\n",
       "      <th>0</th>\n",
       "      <td>table</td>\n",
       "      <td>schema_migrations</td>\n",
       "      <td>schema_migrations</td>\n",
       "      <td>2</td>\n",
       "      <td>CREATE TABLE \"schema_migrations\" (\"version\" va...</td>\n",
       "    </tr>\n",
       "    <tr>\n",
       "      <th>39</th>\n",
       "      <td>index</td>\n",
       "      <td>index_users_on_updated_at</td>\n",
       "      <td>users</td>\n",
       "      <td>497368</td>\n",
       "      <td>CREATE INDEX \"index_users_on_updated_at\" ON \"u...</td>\n",
       "    </tr>\n",
       "    <tr>\n",
       "      <th>3</th>\n",
       "      <td>table</td>\n",
       "      <td>posts</td>\n",
       "      <td>posts</td>\n",
       "      <td>6519</td>\n",
       "      <td>CREATE TABLE \"posts\" (\"id\" INTEGER PRIMARY KEY...</td>\n",
       "    </tr>\n",
       "  </tbody>\n",
       "</table>\n",
       "</div>"
      ],
      "text/plain": [
       "     type                                    name           tbl_name  \\\n",
       "16  index                index_users_on_street_id              users   \n",
       "48  index  index_friendships_on_user_id_and_to_id        friendships   \n",
       "35  index                   index_users_on_status              users   \n",
       "6   table                                    tags               tags   \n",
       "15  table                                  photos             photos   \n",
       "23  index              index_garments_on_color_id           garments   \n",
       "53  index                  index_photos_on_status             photos   \n",
       "0   table                       schema_migrations  schema_migrations   \n",
       "39  index               index_users_on_updated_at              users   \n",
       "3   table                                   posts              posts   \n",
       "\n",
       "    rootpage                                                sql  \n",
       "16    392559  CREATE INDEX \"index_users_on_street_id\" ON \"us...  \n",
       "48    512678  CREATE UNIQUE INDEX \"index_friendships_on_user...  \n",
       "35    477563  CREATE INDEX \"index_users_on_status\" ON \"users...  \n",
       "6      83538  CREATE TABLE \"tags\" (\"id\" INTEGER PRIMARY KEY ...  \n",
       "15    326399  CREATE TABLE \"photos\" (\"id\" INTEGER PRIMARY KE...  \n",
       "23    406651  CREATE INDEX \"index_garments_on_color_id\" ON \"...  \n",
       "53    553463  CREATE INDEX \"index_photos_on_status\" ON \"phot...  \n",
       "0          2  CREATE TABLE \"schema_migrations\" (\"version\" va...  \n",
       "39    497368  CREATE INDEX \"index_users_on_updated_at\" ON \"u...  \n",
       "3       6519  CREATE TABLE \"posts\" (\"id\" INTEGER PRIMARY KEY...  "
      ]
     },
     "execution_count": 15,
     "metadata": {},
     "output_type": "execute_result"
    }
   ],
   "source": [
    "# Gettin schema\n",
    "schema_list = pd.read_sql(\"\"\"SELECT * \n",
    "FROM sqlite_schema\n",
    "\"\"\",con=db)\n",
    "\n",
    "schema_list.sample(n=10)"
   ]
  },
  {
   "cell_type": "code",
   "execution_count": 16,
   "metadata": {},
   "outputs": [
    {
     "data": {
      "text/html": [
       "<div>\n",
       "<style scoped>\n",
       "    .dataframe tbody tr th:only-of-type {\n",
       "        vertical-align: middle;\n",
       "    }\n",
       "\n",
       "    .dataframe tbody tr th {\n",
       "        vertical-align: top;\n",
       "    }\n",
       "\n",
       "    .dataframe thead th {\n",
       "        text-align: right;\n",
       "    }\n",
       "</style>\n",
       "<table border=\"1\" class=\"dataframe\">\n",
       "  <thead>\n",
       "    <tr style=\"text-align: right;\">\n",
       "      <th></th>\n",
       "      <th>type</th>\n",
       "      <th>name</th>\n",
       "      <th>tbl_name</th>\n",
       "      <th>rootpage</th>\n",
       "      <th>sql</th>\n",
       "    </tr>\n",
       "  </thead>\n",
       "  <tbody>\n",
       "    <tr>\n",
       "      <th>0</th>\n",
       "      <td>table</td>\n",
       "      <td>schema_migrations</td>\n",
       "      <td>schema_migrations</td>\n",
       "      <td>2</td>\n",
       "      <td>CREATE TABLE \"schema_migrations\" (\"version\" va...</td>\n",
       "    </tr>\n",
       "    <tr>\n",
       "      <th>1</th>\n",
       "      <td>table</td>\n",
       "      <td>users</td>\n",
       "      <td>users</td>\n",
       "      <td>3</td>\n",
       "      <td>CREATE TABLE \"users\" (\"id\" INTEGER PRIMARY KEY...</td>\n",
       "    </tr>\n",
       "    <tr>\n",
       "      <th>2</th>\n",
       "      <td>table</td>\n",
       "      <td>sqlite_sequence</td>\n",
       "      <td>sqlite_sequence</td>\n",
       "      <td>4</td>\n",
       "      <td>CREATE TABLE sqlite_sequence(name,seq)</td>\n",
       "    </tr>\n",
       "    <tr>\n",
       "      <th>3</th>\n",
       "      <td>table</td>\n",
       "      <td>posts</td>\n",
       "      <td>posts</td>\n",
       "      <td>6519</td>\n",
       "      <td>CREATE TABLE \"posts\" (\"id\" INTEGER PRIMARY KEY...</td>\n",
       "    </tr>\n",
       "    <tr>\n",
       "      <th>4</th>\n",
       "      <td>table</td>\n",
       "      <td>streets</td>\n",
       "      <td>streets</td>\n",
       "      <td>73296</td>\n",
       "      <td>CREATE TABLE \"streets\" (\"id\" INTEGER PRIMARY K...</td>\n",
       "    </tr>\n",
       "    <tr>\n",
       "      <th>5</th>\n",
       "      <td>table</td>\n",
       "      <td>garments</td>\n",
       "      <td>garments</td>\n",
       "      <td>73368</td>\n",
       "      <td>CREATE TABLE \"garments\" (\"id\" INTEGER PRIMARY ...</td>\n",
       "    </tr>\n",
       "    <tr>\n",
       "      <th>6</th>\n",
       "      <td>table</td>\n",
       "      <td>tags</td>\n",
       "      <td>tags</td>\n",
       "      <td>83538</td>\n",
       "      <td>CREATE TABLE \"tags\" (\"id\" INTEGER PRIMARY KEY ...</td>\n",
       "    </tr>\n",
       "    <tr>\n",
       "      <th>7</th>\n",
       "      <td>table</td>\n",
       "      <td>trends</td>\n",
       "      <td>trends</td>\n",
       "      <td>84335</td>\n",
       "      <td>CREATE TABLE \"trends\" (\"id\" INTEGER PRIMARY KE...</td>\n",
       "    </tr>\n",
       "    <tr>\n",
       "      <th>8</th>\n",
       "      <td>table</td>\n",
       "      <td>fanships</td>\n",
       "      <td>fanships</td>\n",
       "      <td>86349</td>\n",
       "      <td>CREATE TABLE \"fanships\" (\"id\" INTEGER PRIMARY ...</td>\n",
       "    </tr>\n",
       "    <tr>\n",
       "      <th>9</th>\n",
       "      <td>table</td>\n",
       "      <td>friendships</td>\n",
       "      <td>friendships</td>\n",
       "      <td>93471</td>\n",
       "      <td>CREATE TABLE \"friendships\" (\"id\" INTEGER PRIMA...</td>\n",
       "    </tr>\n",
       "    <tr>\n",
       "      <th>10</th>\n",
       "      <td>table</td>\n",
       "      <td>bookmarks</td>\n",
       "      <td>bookmarks</td>\n",
       "      <td>120965</td>\n",
       "      <td>CREATE TABLE \"bookmarks\" (\"id\" INTEGER PRIMARY...</td>\n",
       "    </tr>\n",
       "    <tr>\n",
       "      <th>11</th>\n",
       "      <td>table</td>\n",
       "      <td>stores</td>\n",
       "      <td>stores</td>\n",
       "      <td>124513</td>\n",
       "      <td>CREATE TABLE \"stores\" (\"id\" INTEGER PRIMARY KE...</td>\n",
       "    </tr>\n",
       "    <tr>\n",
       "      <th>12</th>\n",
       "      <td>table</td>\n",
       "      <td>comments</td>\n",
       "      <td>comments</td>\n",
       "      <td>124514</td>\n",
       "      <td>CREATE TABLE \"comments\" (\"id\" INTEGER PRIMARY ...</td>\n",
       "    </tr>\n",
       "    <tr>\n",
       "      <th>13</th>\n",
       "      <td>table</td>\n",
       "      <td>color_taggings</td>\n",
       "      <td>color_taggings</td>\n",
       "      <td>318924</td>\n",
       "      <td>CREATE TABLE \"color_taggings\" (\"id\" INTEGER PR...</td>\n",
       "    </tr>\n",
       "    <tr>\n",
       "      <th>14</th>\n",
       "      <td>table</td>\n",
       "      <td>taggings</td>\n",
       "      <td>taggings</td>\n",
       "      <td>322506</td>\n",
       "      <td>CREATE TABLE \"taggings\" (\"id\" INTEGER PRIMARY ...</td>\n",
       "    </tr>\n",
       "    <tr>\n",
       "      <th>15</th>\n",
       "      <td>table</td>\n",
       "      <td>photos</td>\n",
       "      <td>photos</td>\n",
       "      <td>326399</td>\n",
       "      <td>CREATE TABLE \"photos\" (\"id\" INTEGER PRIMARY KE...</td>\n",
       "    </tr>\n",
       "  </tbody>\n",
       "</table>\n",
       "</div>"
      ],
      "text/plain": [
       "     type               name           tbl_name  rootpage  \\\n",
       "0   table  schema_migrations  schema_migrations         2   \n",
       "1   table              users              users         3   \n",
       "2   table    sqlite_sequence    sqlite_sequence         4   \n",
       "3   table              posts              posts      6519   \n",
       "4   table            streets            streets     73296   \n",
       "5   table           garments           garments     73368   \n",
       "6   table               tags               tags     83538   \n",
       "7   table             trends             trends     84335   \n",
       "8   table           fanships           fanships     86349   \n",
       "9   table        friendships        friendships     93471   \n",
       "10  table          bookmarks          bookmarks    120965   \n",
       "11  table             stores             stores    124513   \n",
       "12  table           comments           comments    124514   \n",
       "13  table     color_taggings     color_taggings    318924   \n",
       "14  table           taggings           taggings    322506   \n",
       "15  table             photos             photos    326399   \n",
       "\n",
       "                                                  sql  \n",
       "0   CREATE TABLE \"schema_migrations\" (\"version\" va...  \n",
       "1   CREATE TABLE \"users\" (\"id\" INTEGER PRIMARY KEY...  \n",
       "2              CREATE TABLE sqlite_sequence(name,seq)  \n",
       "3   CREATE TABLE \"posts\" (\"id\" INTEGER PRIMARY KEY...  \n",
       "4   CREATE TABLE \"streets\" (\"id\" INTEGER PRIMARY K...  \n",
       "5   CREATE TABLE \"garments\" (\"id\" INTEGER PRIMARY ...  \n",
       "6   CREATE TABLE \"tags\" (\"id\" INTEGER PRIMARY KEY ...  \n",
       "7   CREATE TABLE \"trends\" (\"id\" INTEGER PRIMARY KE...  \n",
       "8   CREATE TABLE \"fanships\" (\"id\" INTEGER PRIMARY ...  \n",
       "9   CREATE TABLE \"friendships\" (\"id\" INTEGER PRIMA...  \n",
       "10  CREATE TABLE \"bookmarks\" (\"id\" INTEGER PRIMARY...  \n",
       "11  CREATE TABLE \"stores\" (\"id\" INTEGER PRIMARY KE...  \n",
       "12  CREATE TABLE \"comments\" (\"id\" INTEGER PRIMARY ...  \n",
       "13  CREATE TABLE \"color_taggings\" (\"id\" INTEGER PR...  \n",
       "14  CREATE TABLE \"taggings\" (\"id\" INTEGER PRIMARY ...  \n",
       "15  CREATE TABLE \"photos\" (\"id\" INTEGER PRIMARY KE...  "
      ]
     },
     "execution_count": 16,
     "metadata": {},
     "output_type": "execute_result"
    }
   ],
   "source": [
    "# Preview tables\n",
    "schema_list.loc[schema_list['type'] == 'table']"
   ]
  },
  {
   "cell_type": "code",
   "execution_count": 17,
   "metadata": {},
   "outputs": [
    {
     "data": {
      "text/html": [
       "<div>\n",
       "<style scoped>\n",
       "    .dataframe tbody tr th:only-of-type {\n",
       "        vertical-align: middle;\n",
       "    }\n",
       "\n",
       "    .dataframe tbody tr th {\n",
       "        vertical-align: top;\n",
       "    }\n",
       "\n",
       "    .dataframe thead th {\n",
       "        text-align: right;\n",
       "    }\n",
       "</style>\n",
       "<table border=\"1\" class=\"dataframe\">\n",
       "  <thead>\n",
       "    <tr style=\"text-align: right;\">\n",
       "      <th></th>\n",
       "      <th>type</th>\n",
       "      <th>name</th>\n",
       "      <th>tbl_name</th>\n",
       "      <th>rootpage</th>\n",
       "      <th>sql</th>\n",
       "    </tr>\n",
       "  </thead>\n",
       "  <tbody>\n",
       "    <tr>\n",
       "      <th>16</th>\n",
       "      <td>index</td>\n",
       "      <td>index_users_on_street_id</td>\n",
       "      <td>users</td>\n",
       "      <td>392559</td>\n",
       "      <td>CREATE INDEX \"index_users_on_street_id\" ON \"us...</td>\n",
       "    </tr>\n",
       "    <tr>\n",
       "      <th>17</th>\n",
       "      <td>index</td>\n",
       "      <td>index_posts_on_user_id</td>\n",
       "      <td>posts</td>\n",
       "      <td>392956</td>\n",
       "      <td>CREATE INDEX \"index_posts_on_user_id\" ON \"post...</td>\n",
       "    </tr>\n",
       "    <tr>\n",
       "      <th>18</th>\n",
       "      <td>index</td>\n",
       "      <td>index_posts_on_type</td>\n",
       "      <td>posts</td>\n",
       "      <td>394661</td>\n",
       "      <td>CREATE INDEX \"index_posts_on_type\" ON \"posts\" ...</td>\n",
       "    </tr>\n",
       "    <tr>\n",
       "      <th>19</th>\n",
       "      <td>index</td>\n",
       "      <td>index_posts_on_style_id</td>\n",
       "      <td>posts</td>\n",
       "      <td>397378</td>\n",
       "      <td>CREATE INDEX \"index_posts_on_style_id\" ON \"pos...</td>\n",
       "    </tr>\n",
       "    <tr>\n",
       "      <th>20</th>\n",
       "      <td>index</td>\n",
       "      <td>index_posts_on_occasion_id</td>\n",
       "      <td>posts</td>\n",
       "      <td>398902</td>\n",
       "      <td>CREATE INDEX \"index_posts_on_occasion_id\" ON \"...</td>\n",
       "    </tr>\n",
       "    <tr>\n",
       "      <th>21</th>\n",
       "      <td>index</td>\n",
       "      <td>index_posts_on_season_id</td>\n",
       "      <td>posts</td>\n",
       "      <td>400450</td>\n",
       "      <td>CREATE INDEX \"index_posts_on_season_id\" ON \"po...</td>\n",
       "    </tr>\n",
       "    <tr>\n",
       "      <th>22</th>\n",
       "      <td>index</td>\n",
       "      <td>index_garments_on_clothing_id</td>\n",
       "      <td>garments</td>\n",
       "      <td>401805</td>\n",
       "      <td>CREATE INDEX \"index_garments_on_clothing_id\" O...</td>\n",
       "    </tr>\n",
       "    <tr>\n",
       "      <th>23</th>\n",
       "      <td>index</td>\n",
       "      <td>index_garments_on_color_id</td>\n",
       "      <td>garments</td>\n",
       "      <td>406651</td>\n",
       "      <td>CREATE INDEX \"index_garments_on_color_id\" ON \"...</td>\n",
       "    </tr>\n",
       "    <tr>\n",
       "      <th>24</th>\n",
       "      <td>index</td>\n",
       "      <td>index_garments_on_brand_id</td>\n",
       "      <td>garments</td>\n",
       "      <td>411314</td>\n",
       "      <td>CREATE INDEX \"index_garments_on_brand_id\" ON \"...</td>\n",
       "    </tr>\n",
       "    <tr>\n",
       "      <th>25</th>\n",
       "      <td>index</td>\n",
       "      <td>index_garments_on_trend_id</td>\n",
       "      <td>garments</td>\n",
       "      <td>416255</td>\n",
       "      <td>CREATE INDEX \"index_garments_on_trend_id\" ON \"...</td>\n",
       "    </tr>\n",
       "  </tbody>\n",
       "</table>\n",
       "</div>"
      ],
      "text/plain": [
       "     type                           name  tbl_name  rootpage  \\\n",
       "16  index       index_users_on_street_id     users    392559   \n",
       "17  index         index_posts_on_user_id     posts    392956   \n",
       "18  index            index_posts_on_type     posts    394661   \n",
       "19  index        index_posts_on_style_id     posts    397378   \n",
       "20  index     index_posts_on_occasion_id     posts    398902   \n",
       "21  index       index_posts_on_season_id     posts    400450   \n",
       "22  index  index_garments_on_clothing_id  garments    401805   \n",
       "23  index     index_garments_on_color_id  garments    406651   \n",
       "24  index     index_garments_on_brand_id  garments    411314   \n",
       "25  index     index_garments_on_trend_id  garments    416255   \n",
       "\n",
       "                                                  sql  \n",
       "16  CREATE INDEX \"index_users_on_street_id\" ON \"us...  \n",
       "17  CREATE INDEX \"index_posts_on_user_id\" ON \"post...  \n",
       "18  CREATE INDEX \"index_posts_on_type\" ON \"posts\" ...  \n",
       "19  CREATE INDEX \"index_posts_on_style_id\" ON \"pos...  \n",
       "20  CREATE INDEX \"index_posts_on_occasion_id\" ON \"...  \n",
       "21  CREATE INDEX \"index_posts_on_season_id\" ON \"po...  \n",
       "22  CREATE INDEX \"index_garments_on_clothing_id\" O...  \n",
       "23  CREATE INDEX \"index_garments_on_color_id\" ON \"...  \n",
       "24  CREATE INDEX \"index_garments_on_brand_id\" ON \"...  \n",
       "25  CREATE INDEX \"index_garments_on_trend_id\" ON \"...  "
      ]
     },
     "execution_count": 17,
     "metadata": {},
     "output_type": "execute_result"
    }
   ],
   "source": [
    "# Preview 10 indices\n",
    "schema_list.loc[schema_list['type'] == 'index'][:10]"
   ]
  },
  {
   "cell_type": "code",
   "execution_count": 18,
   "metadata": {},
   "outputs": [
    {
     "data": {
      "text/html": [
       "<div>\n",
       "<style scoped>\n",
       "    .dataframe tbody tr th:only-of-type {\n",
       "        vertical-align: middle;\n",
       "    }\n",
       "\n",
       "    .dataframe tbody tr th {\n",
       "        vertical-align: top;\n",
       "    }\n",
       "\n",
       "    .dataframe thead th {\n",
       "        text-align: right;\n",
       "    }\n",
       "</style>\n",
       "<table border=\"1\" class=\"dataframe\">\n",
       "  <thead>\n",
       "    <tr style=\"text-align: right;\">\n",
       "      <th></th>\n",
       "      <th>type</th>\n",
       "      <th>name</th>\n",
       "      <th>tbl_name</th>\n",
       "      <th>rootpage</th>\n",
       "      <th>sql</th>\n",
       "    </tr>\n",
       "  </thead>\n",
       "  <tbody>\n",
       "  </tbody>\n",
       "</table>\n",
       "</div>"
      ],
      "text/plain": [
       "Empty DataFrame\n",
       "Columns: [type, name, tbl_name, rootpage, sql]\n",
       "Index: []"
      ]
     },
     "execution_count": 18,
     "metadata": {},
     "output_type": "execute_result"
    }
   ],
   "source": [
    "# Schema only has ables & indices\n",
    "schema_list.loc[(schema_list['type'] != 'index') & (schema_list['type'] != 'table') ]"
   ]
  },
  {
   "cell_type": "code",
   "execution_count": 19,
   "metadata": {},
   "outputs": [
    {
     "data": {
      "text/plain": [
       "['users',\n",
       " 'posts',\n",
       " 'streets',\n",
       " 'garments',\n",
       " 'tags',\n",
       " 'trends',\n",
       " 'fanships',\n",
       " 'friendships',\n",
       " 'bookmarks',\n",
       " 'stores',\n",
       " 'comments',\n",
       " 'color_taggings',\n",
       " 'taggings',\n",
       " 'photos']"
      ]
     },
     "execution_count": 19,
     "metadata": {},
     "output_type": "execute_result"
    }
   ],
   "source": [
    "# Now we want to start creating analytics around the tables\n",
    "table_names_list = list(schema_list.loc[schema_list['type'] == 'table']['tbl_name'])\n",
    "\n",
    "table_names_list.remove('schema_migrations')\n",
    "table_names_list.remove('sqlite_sequence')\n",
    "\n",
    "table_names_list"
   ]
  },
  {
   "cell_type": "code",
   "execution_count": 36,
   "metadata": {},
   "outputs": [],
   "source": [
    "# We're going to grab the tablenames and their columns\n",
    "table_list_dict = {}\n",
    "\n",
    "\n",
    "#Note: You cannot parameterize tablenames directly using \n",
    "# pandas read_sql\n",
    "# See link: https://stackoverflow.com/questions/5870284/can-i-use-parameters-for-the-table-name-in-sqlite3\n",
    "# You can however re-build the query string each time & concatenate tablename \n",
    "\n",
    "for t_name in table_names_list:\n",
    "    query = f'SELECT * FROM {t_name} where 1=2'\n",
    "    table_list_dict[t_name] = pd.read_sql(query, con=db)"
   ]
  },
  {
   "cell_type": "code",
   "execution_count": 31,
   "metadata": {},
   "outputs": [
    {
     "data": {
      "text/plain": [
       "{'users':                              0\n",
       " 0                           id\n",
       " 1                         name\n",
       " 2                         type\n",
       " 3                    street_id\n",
       " 4                        views\n",
       " 5                  chic_points\n",
       " 6                       status\n",
       " 7                  description\n",
       " 8              bookmarks_count\n",
       " 9               comments_count\n",
       " 10               friends_count\n",
       " 11                  fans_count\n",
       " 12  favorite_chictopians_count\n",
       " 13                  created_at\n",
       " 14                  updated_at,\n",
       " 'posts':                   0\n",
       " 0                id\n",
       " 1      chictopia_id\n",
       " 2           user_id\n",
       " 3              type\n",
       " 4            status\n",
       " 5             votes\n",
       " 6             title\n",
       " 7              date\n",
       " 8       description\n",
       " 9          style_id\n",
       " 10      occasion_id\n",
       " 11        season_id\n",
       " 12   comments_count\n",
       " 13  bookmarks_count\n",
       " 14       created_at\n",
       " 15       updated_at,\n",
       " 'streets':               0\n",
       " 0            id\n",
       " 1          name\n",
       " 2  chictopia_id\n",
       " 3   users_count,\n",
       " 'garments':              0\n",
       " 0           id\n",
       " 1  clothing_id\n",
       " 2     color_id\n",
       " 3     brand_id\n",
       " 4     trend_id\n",
       " 5     store_id\n",
       " 6      post_id,\n",
       " 'tags':                 0\n",
       " 0              id\n",
       " 1            name\n",
       " 2            type\n",
       " 3  garments_count,\n",
       " 'trends':                 0\n",
       " 0              id\n",
       " 1            name\n",
       " 2    chictopia_id\n",
       " 3  taggings_count\n",
       " 4  garments_count,\n",
       " 'fanships':             0\n",
       " 0          id\n",
       " 1     user_id\n",
       " 2       to_id\n",
       " 3  created_at\n",
       " 4  updated_at,\n",
       " 'friendships':             0\n",
       " 0          id\n",
       " 1     user_id\n",
       " 2       to_id\n",
       " 3  created_at\n",
       " 4  updated_at,\n",
       " 'bookmarks':          0\n",
       " 0       id\n",
       " 1  user_id\n",
       " 2  post_id,\n",
       " 'stores':                 0\n",
       " 0              id\n",
       " 1             uri\n",
       " 2            name\n",
       " 3  garments_count,\n",
       " 'comments':             0\n",
       " 0          id\n",
       " 1     user_id\n",
       " 2     post_id\n",
       " 3        text\n",
       " 4        date\n",
       " 5  comment_id\n",
       " 6  created_at\n",
       " 7  updated_at,\n",
       " 'color_taggings':           0\n",
       " 0        id\n",
       " 1   post_id\n",
       " 2  color_id,\n",
       " 'taggings':             0\n",
       " 0          id\n",
       " 1     post_id\n",
       " 2    trend_id\n",
       " 3  created_at\n",
       " 4  updated_at,\n",
       " 'photos':                     0\n",
       " 0                  id\n",
       " 1             post_id\n",
       " 2                path\n",
       " 3              status\n",
       " 4      file_file_name\n",
       " 5      file_file_size\n",
       " 6   file_content_type\n",
       " 7     file_updated_at\n",
       " 8               width\n",
       " 9              height\n",
       " 10         created_at\n",
       " 11         updated_at}"
      ]
     },
     "execution_count": 31,
     "metadata": {},
     "output_type": "execute_result"
    }
   ],
   "source": [
    "tables_columns = {}\n",
    "\n",
    "for t_name in table_names_list:\n",
    "    tables_columns[t_name] = pd.DataFrame(table_list_dict[t_name].columns)\n",
    "    \n",
    "tables_columns"
   ]
  },
  {
   "cell_type": "markdown",
   "metadata": {},
   "source": [
    "<hr style=\"border-top: 5px solid black; margin-top: 1px; margin-bottom: 1px\"></hr>\n",
    "\n",
    "# <span style='background :red' > Step 4A: 🔬 Deeper EDA & Exploration of Some of the Relationships 📚</span> "
   ]
  },
  {
   "cell_type": "markdown",
   "metadata": {},
   "source": [
    "☑️ Explore samples of the tables\n",
    "\n",
    "☑️ Understand relationships"
   ]
  },
  {
   "cell_type": "markdown",
   "metadata": {},
   "source": [
    "## <span style='background :orange' > Get a sample of each of the tables </span>\n"
   ]
  },
  {
   "cell_type": "code",
   "execution_count": 37,
   "metadata": {},
   "outputs": [
    {
     "data": {
      "text/html": [
       "<div>\n",
       "<style scoped>\n",
       "    .dataframe tbody tr th:only-of-type {\n",
       "        vertical-align: middle;\n",
       "    }\n",
       "\n",
       "    .dataframe tbody tr th {\n",
       "        vertical-align: top;\n",
       "    }\n",
       "\n",
       "    .dataframe thead th {\n",
       "        text-align: right;\n",
       "    }\n",
       "</style>\n",
       "<table border=\"1\" class=\"dataframe\">\n",
       "  <thead>\n",
       "    <tr style=\"text-align: right;\">\n",
       "      <th></th>\n",
       "      <th>id</th>\n",
       "      <th>name</th>\n",
       "      <th>type</th>\n",
       "      <th>street_id</th>\n",
       "      <th>views</th>\n",
       "      <th>chic_points</th>\n",
       "      <th>status</th>\n",
       "      <th>description</th>\n",
       "      <th>bookmarks_count</th>\n",
       "      <th>comments_count</th>\n",
       "      <th>friends_count</th>\n",
       "      <th>fans_count</th>\n",
       "      <th>favorite_chictopians_count</th>\n",
       "      <th>created_at</th>\n",
       "      <th>updated_at</th>\n",
       "    </tr>\n",
       "  </thead>\n",
       "  <tbody>\n",
       "    <tr>\n",
       "      <th>24</th>\n",
       "      <td>25</td>\n",
       "      <td>_stylorectic</td>\n",
       "      <td>Styleicon</td>\n",
       "      <td>13.0</td>\n",
       "      <td>25460</td>\n",
       "      <td>15588</td>\n",
       "      <td>2</td>\n",
       "      <td>&lt;p&gt;http://stylorectic.blogspot.com/&lt;/p&gt;\\n&lt;p&gt;&lt;/p&gt;</td>\n",
       "      <td>32</td>\n",
       "      <td>674</td>\n",
       "      <td>1425</td>\n",
       "      <td>1092</td>\n",
       "      <td>40</td>\n",
       "      <td>2012-09-07 23:05:44.123676</td>\n",
       "      <td>2012-12-15 15:22:04.157207</td>\n",
       "    </tr>\n",
       "    <tr>\n",
       "      <th>61</th>\n",
       "      <td>63</td>\n",
       "      <td>Amandas_Armoire</td>\n",
       "      <td>Stylecouncil</td>\n",
       "      <td>NaN</td>\n",
       "      <td>7188</td>\n",
       "      <td>2712</td>\n",
       "      <td>2</td>\n",
       "      <td></td>\n",
       "      <td>6</td>\n",
       "      <td>366</td>\n",
       "      <td>249</td>\n",
       "      <td>114</td>\n",
       "      <td>11</td>\n",
       "      <td>2012-09-07 23:05:50.323072</td>\n",
       "      <td>2012-12-15 15:23:36.321442</td>\n",
       "    </tr>\n",
       "    <tr>\n",
       "      <th>4</th>\n",
       "      <td>5</td>\n",
       "      <td>lindarrr</td>\n",
       "      <td>Styleicon</td>\n",
       "      <td>5.0</td>\n",
       "      <td>67730</td>\n",
       "      <td>11792</td>\n",
       "      <td>2</td>\n",
       "      <td>&lt;p&gt;&lt;a rel=\"nofollow\" href=\"http://www.chictopi...</td>\n",
       "      <td>7</td>\n",
       "      <td>353</td>\n",
       "      <td>585</td>\n",
       "      <td>746</td>\n",
       "      <td>24</td>\n",
       "      <td>2012-09-07 23:05:21.815427</td>\n",
       "      <td>2012-12-15 14:59:40.168670</td>\n",
       "    </tr>\n",
       "    <tr>\n",
       "      <th>82</th>\n",
       "      <td>86</td>\n",
       "      <td>athena</td>\n",
       "      <td>Stylecouncil</td>\n",
       "      <td>NaN</td>\n",
       "      <td>1967</td>\n",
       "      <td>555</td>\n",
       "      <td>2</td>\n",
       "      <td>&lt;p&gt;the artist formally known as athena can be ...</td>\n",
       "      <td>13</td>\n",
       "      <td>111</td>\n",
       "      <td>26</td>\n",
       "      <td>2</td>\n",
       "      <td>11</td>\n",
       "      <td>2012-09-07 23:05:52.515512</td>\n",
       "      <td>2012-12-15 15:25:13.834617</td>\n",
       "    </tr>\n",
       "    <tr>\n",
       "      <th>52</th>\n",
       "      <td>54</td>\n",
       "      <td>Elenita</td>\n",
       "      <td>Styleicon</td>\n",
       "      <td>34.0</td>\n",
       "      <td>39848</td>\n",
       "      <td>13239</td>\n",
       "      <td>2</td>\n",
       "      <td>&lt;p&gt;&lt;a rel=\"nofollow\" href=\"http://elenita.no\" ...</td>\n",
       "      <td>5</td>\n",
       "      <td>376</td>\n",
       "      <td>771</td>\n",
       "      <td>999</td>\n",
       "      <td>18</td>\n",
       "      <td>2012-09-07 23:05:48.992975</td>\n",
       "      <td>2012-12-15 15:29:35.571852</td>\n",
       "    </tr>\n",
       "    <tr>\n",
       "      <th>90</th>\n",
       "      <td>94</td>\n",
       "      <td>Joachim</td>\n",
       "      <td>Stylecouncil</td>\n",
       "      <td>50.0</td>\n",
       "      <td>6776</td>\n",
       "      <td>2558</td>\n",
       "      <td>2</td>\n",
       "      <td></td>\n",
       "      <td>0</td>\n",
       "      <td>2</td>\n",
       "      <td>240</td>\n",
       "      <td>132</td>\n",
       "      <td>0</td>\n",
       "      <td>2012-09-07 23:05:53.046797</td>\n",
       "      <td>2012-12-15 15:27:16.334566</td>\n",
       "    </tr>\n",
       "    <tr>\n",
       "      <th>38</th>\n",
       "      <td>39</td>\n",
       "      <td>highsociety</td>\n",
       "      <td>Stylecouncil</td>\n",
       "      <td>24.0</td>\n",
       "      <td>4343</td>\n",
       "      <td>800</td>\n",
       "      <td>2</td>\n",
       "      <td>&lt;p&gt;I own an online store High Society Clothing...</td>\n",
       "      <td>15</td>\n",
       "      <td>12</td>\n",
       "      <td>82</td>\n",
       "      <td>24</td>\n",
       "      <td>1</td>\n",
       "      <td>2012-09-07 23:05:47.237984</td>\n",
       "      <td>2012-12-15 15:15:58.057538</td>\n",
       "    </tr>\n",
       "    <tr>\n",
       "      <th>32</th>\n",
       "      <td>33</td>\n",
       "      <td>bizzy</td>\n",
       "      <td>Stylecouncil</td>\n",
       "      <td>19.0</td>\n",
       "      <td>13729</td>\n",
       "      <td>5966</td>\n",
       "      <td>2</td>\n",
       "      <td></td>\n",
       "      <td>0</td>\n",
       "      <td>23</td>\n",
       "      <td>361</td>\n",
       "      <td>294</td>\n",
       "      <td>1</td>\n",
       "      <td>2012-09-07 23:05:46.151928</td>\n",
       "      <td>2012-12-15 15:17:04.224043</td>\n",
       "    </tr>\n",
       "    <tr>\n",
       "      <th>62</th>\n",
       "      <td>64</td>\n",
       "      <td>allikat</td>\n",
       "      <td>Stylecouncil</td>\n",
       "      <td>39.0</td>\n",
       "      <td>668</td>\n",
       "      <td>381</td>\n",
       "      <td>2</td>\n",
       "      <td></td>\n",
       "      <td>36</td>\n",
       "      <td>1</td>\n",
       "      <td>59</td>\n",
       "      <td>0</td>\n",
       "      <td>0</td>\n",
       "      <td>2012-09-07 23:05:50.387951</td>\n",
       "      <td>2012-12-15 15:22:27.888225</td>\n",
       "    </tr>\n",
       "    <tr>\n",
       "      <th>75</th>\n",
       "      <td>78</td>\n",
       "      <td>stmannequins</td>\n",
       "      <td>Stylecouncil</td>\n",
       "      <td>30.0</td>\n",
       "      <td>1024</td>\n",
       "      <td>430</td>\n",
       "      <td>2</td>\n",
       "      <td>&lt;p&gt;simple, comfortable but sparkly&lt;/p&gt;</td>\n",
       "      <td>3</td>\n",
       "      <td>13</td>\n",
       "      <td>81</td>\n",
       "      <td>5</td>\n",
       "      <td>3</td>\n",
       "      <td>2012-09-07 23:05:51.649718</td>\n",
       "      <td>2012-12-15 15:24:51.402547</td>\n",
       "    </tr>\n",
       "  </tbody>\n",
       "</table>\n",
       "</div>"
      ],
      "text/plain": [
       "    id             name          type  street_id  views  chic_points  status  \\\n",
       "24  25     _stylorectic     Styleicon       13.0  25460        15588       2   \n",
       "61  63  Amandas_Armoire  Stylecouncil        NaN   7188         2712       2   \n",
       "4    5         lindarrr     Styleicon        5.0  67730        11792       2   \n",
       "82  86           athena  Stylecouncil        NaN   1967          555       2   \n",
       "52  54          Elenita     Styleicon       34.0  39848        13239       2   \n",
       "90  94          Joachim  Stylecouncil       50.0   6776         2558       2   \n",
       "38  39      highsociety  Stylecouncil       24.0   4343          800       2   \n",
       "32  33            bizzy  Stylecouncil       19.0  13729         5966       2   \n",
       "62  64          allikat  Stylecouncil       39.0    668          381       2   \n",
       "75  78     stmannequins  Stylecouncil       30.0   1024          430       2   \n",
       "\n",
       "                                          description  bookmarks_count  \\\n",
       "24   <p>http://stylorectic.blogspot.com/</p>\\n<p></p>               32   \n",
       "61                                                                   6   \n",
       "4   <p><a rel=\"nofollow\" href=\"http://www.chictopi...                7   \n",
       "82  <p>the artist formally known as athena can be ...               13   \n",
       "52  <p><a rel=\"nofollow\" href=\"http://elenita.no\" ...                5   \n",
       "90                                                                   0   \n",
       "38  <p>I own an online store High Society Clothing...               15   \n",
       "32                                                                   0   \n",
       "62                                                                  36   \n",
       "75             <p>simple, comfortable but sparkly</p>                3   \n",
       "\n",
       "    comments_count  friends_count  fans_count  favorite_chictopians_count  \\\n",
       "24             674           1425        1092                          40   \n",
       "61             366            249         114                          11   \n",
       "4              353            585         746                          24   \n",
       "82             111             26           2                          11   \n",
       "52             376            771         999                          18   \n",
       "90               2            240         132                           0   \n",
       "38              12             82          24                           1   \n",
       "32              23            361         294                           1   \n",
       "62               1             59           0                           0   \n",
       "75              13             81           5                           3   \n",
       "\n",
       "                    created_at                  updated_at  \n",
       "24  2012-09-07 23:05:44.123676  2012-12-15 15:22:04.157207  \n",
       "61  2012-09-07 23:05:50.323072  2012-12-15 15:23:36.321442  \n",
       "4   2012-09-07 23:05:21.815427  2012-12-15 14:59:40.168670  \n",
       "82  2012-09-07 23:05:52.515512  2012-12-15 15:25:13.834617  \n",
       "52  2012-09-07 23:05:48.992975  2012-12-15 15:29:35.571852  \n",
       "90  2012-09-07 23:05:53.046797  2012-12-15 15:27:16.334566  \n",
       "38  2012-09-07 23:05:47.237984  2012-12-15 15:15:58.057538  \n",
       "32  2012-09-07 23:05:46.151928  2012-12-15 15:17:04.224043  \n",
       "62  2012-09-07 23:05:50.387951  2012-12-15 15:22:27.888225  \n",
       "75  2012-09-07 23:05:51.649718  2012-12-15 15:24:51.402547  "
      ]
     },
     "execution_count": 37,
     "metadata": {},
     "output_type": "execute_result"
    }
   ],
   "source": [
    "# Gettin schema\n",
    "\n",
    "# Tables = ['users','posts','streets','garments','tags','trends','fanships','friendships',\n",
    "# 'bookmarks','stores','comments','color_taggings','taggings','photos']\n",
    "\n",
    "\n",
    "users_sample = pd.read_sql(\"\"\"SELECT * \n",
    "FROM users limit 100\n",
    "\"\"\",con=db)\n",
    "\n",
    "users_sample.sample(n=10)"
   ]
  },
  {
   "cell_type": "code",
   "execution_count": 45,
   "metadata": {},
   "outputs": [
    {
     "data": {
      "text/html": [
       "<div>\n",
       "<style scoped>\n",
       "    .dataframe tbody tr th:only-of-type {\n",
       "        vertical-align: middle;\n",
       "    }\n",
       "\n",
       "    .dataframe tbody tr th {\n",
       "        vertical-align: top;\n",
       "    }\n",
       "\n",
       "    .dataframe thead th {\n",
       "        text-align: right;\n",
       "    }\n",
       "</style>\n",
       "<table border=\"1\" class=\"dataframe\">\n",
       "  <thead>\n",
       "    <tr style=\"text-align: right;\">\n",
       "      <th></th>\n",
       "      <th>id</th>\n",
       "      <th>clothing_id</th>\n",
       "      <th>color_id</th>\n",
       "      <th>brand_id</th>\n",
       "      <th>trend_id</th>\n",
       "      <th>store_id</th>\n",
       "      <th>post_id</th>\n",
       "    </tr>\n",
       "  </thead>\n",
       "  <tbody>\n",
       "    <tr>\n",
       "      <th>37</th>\n",
       "      <td>38</td>\n",
       "      <td>NaN</td>\n",
       "      <td>NaN</td>\n",
       "      <td>NaN</td>\n",
       "      <td>34.0</td>\n",
       "      <td>None</td>\n",
       "      <td>146</td>\n",
       "    </tr>\n",
       "    <tr>\n",
       "      <th>74</th>\n",
       "      <td>75</td>\n",
       "      <td>60.0</td>\n",
       "      <td>9.0</td>\n",
       "      <td>56.0</td>\n",
       "      <td>61.0</td>\n",
       "      <td>None</td>\n",
       "      <td>264</td>\n",
       "    </tr>\n",
       "    <tr>\n",
       "      <th>81</th>\n",
       "      <td>82</td>\n",
       "      <td>31.0</td>\n",
       "      <td>12.0</td>\n",
       "      <td>NaN</td>\n",
       "      <td>NaN</td>\n",
       "      <td>None</td>\n",
       "      <td>3</td>\n",
       "    </tr>\n",
       "    <tr>\n",
       "      <th>94</th>\n",
       "      <td>95</td>\n",
       "      <td>63.0</td>\n",
       "      <td>10.0</td>\n",
       "      <td>NaN</td>\n",
       "      <td>NaN</td>\n",
       "      <td>None</td>\n",
       "      <td>17</td>\n",
       "    </tr>\n",
       "    <tr>\n",
       "      <th>70</th>\n",
       "      <td>71</td>\n",
       "      <td>31.0</td>\n",
       "      <td>NaN</td>\n",
       "      <td>56.0</td>\n",
       "      <td>56.0</td>\n",
       "      <td>None</td>\n",
       "      <td>252</td>\n",
       "    </tr>\n",
       "    <tr>\n",
       "      <th>10</th>\n",
       "      <td>11</td>\n",
       "      <td>NaN</td>\n",
       "      <td>NaN</td>\n",
       "      <td>NaN</td>\n",
       "      <td>11.0</td>\n",
       "      <td>None</td>\n",
       "      <td>98</td>\n",
       "    </tr>\n",
       "    <tr>\n",
       "      <th>84</th>\n",
       "      <td>85</td>\n",
       "      <td>60.0</td>\n",
       "      <td>10.0</td>\n",
       "      <td>43.0</td>\n",
       "      <td>NaN</td>\n",
       "      <td>None</td>\n",
       "      <td>277</td>\n",
       "    </tr>\n",
       "    <tr>\n",
       "      <th>86</th>\n",
       "      <td>87</td>\n",
       "      <td>16.0</td>\n",
       "      <td>10.0</td>\n",
       "      <td>NaN</td>\n",
       "      <td>NaN</td>\n",
       "      <td>None</td>\n",
       "      <td>7</td>\n",
       "    </tr>\n",
       "    <tr>\n",
       "      <th>80</th>\n",
       "      <td>81</td>\n",
       "      <td>42.0</td>\n",
       "      <td>38.0</td>\n",
       "      <td>54.0</td>\n",
       "      <td>NaN</td>\n",
       "      <td>None</td>\n",
       "      <td>277</td>\n",
       "    </tr>\n",
       "    <tr>\n",
       "      <th>30</th>\n",
       "      <td>31</td>\n",
       "      <td>16.0</td>\n",
       "      <td>28.0</td>\n",
       "      <td>29.0</td>\n",
       "      <td>NaN</td>\n",
       "      <td>None</td>\n",
       "      <td>13</td>\n",
       "    </tr>\n",
       "  </tbody>\n",
       "</table>\n",
       "</div>"
      ],
      "text/plain": [
       "    id  clothing_id  color_id  brand_id  trend_id store_id  post_id\n",
       "37  38          NaN       NaN       NaN      34.0     None      146\n",
       "74  75         60.0       9.0      56.0      61.0     None      264\n",
       "81  82         31.0      12.0       NaN       NaN     None        3\n",
       "94  95         63.0      10.0       NaN       NaN     None       17\n",
       "70  71         31.0       NaN      56.0      56.0     None      252\n",
       "10  11          NaN       NaN       NaN      11.0     None       98\n",
       "84  85         60.0      10.0      43.0       NaN     None      277\n",
       "86  87         16.0      10.0       NaN       NaN     None        7\n",
       "80  81         42.0      38.0      54.0       NaN     None      277\n",
       "30  31         16.0      28.0      29.0       NaN     None       13"
      ]
     },
     "execution_count": 45,
     "metadata": {},
     "output_type": "execute_result"
    }
   ],
   "source": [
    "# Gettin schema\n",
    "\n",
    "# Tables = ['users','posts','streets','garments','tags','trends','fanships','friendships',\n",
    "# 'bookmarks','stores','comments','color_taggings','taggings','photos']\n",
    "\n",
    "\n",
    "garments_sample = pd.read_sql(\"\"\"SELECT * \n",
    "FROM garments limit 100\n",
    "\"\"\",con=db)\n",
    "\n",
    "garments_sample.sample(n=10)"
   ]
  },
  {
   "cell_type": "code",
   "execution_count": 47,
   "metadata": {},
   "outputs": [
    {
     "data": {
      "text/html": [
       "<div>\n",
       "<style scoped>\n",
       "    .dataframe tbody tr th:only-of-type {\n",
       "        vertical-align: middle;\n",
       "    }\n",
       "\n",
       "    .dataframe tbody tr th {\n",
       "        vertical-align: top;\n",
       "    }\n",
       "\n",
       "    .dataframe thead th {\n",
       "        text-align: right;\n",
       "    }\n",
       "</style>\n",
       "<table border=\"1\" class=\"dataframe\">\n",
       "  <thead>\n",
       "    <tr style=\"text-align: right;\">\n",
       "      <th></th>\n",
       "      <th>id</th>\n",
       "      <th>post_id</th>\n",
       "      <th>trend_id</th>\n",
       "      <th>created_at</th>\n",
       "      <th>updated_at</th>\n",
       "    </tr>\n",
       "  </thead>\n",
       "  <tbody>\n",
       "    <tr>\n",
       "      <th>14</th>\n",
       "      <td>15</td>\n",
       "      <td>12</td>\n",
       "      <td>89</td>\n",
       "      <td>2012-09-07 23:13:33.628753</td>\n",
       "      <td>2012-09-07 23:13:33.628753</td>\n",
       "    </tr>\n",
       "    <tr>\n",
       "      <th>50</th>\n",
       "      <td>51</td>\n",
       "      <td>128</td>\n",
       "      <td>157</td>\n",
       "      <td>2012-09-07 23:17:01.889801</td>\n",
       "      <td>2012-09-07 23:17:01.889801</td>\n",
       "    </tr>\n",
       "    <tr>\n",
       "      <th>91</th>\n",
       "      <td>92</td>\n",
       "      <td>1221</td>\n",
       "      <td>273</td>\n",
       "      <td>2012-09-07 23:23:20.549136</td>\n",
       "      <td>2012-09-07 23:23:20.549136</td>\n",
       "    </tr>\n",
       "    <tr>\n",
       "      <th>47</th>\n",
       "      <td>48</td>\n",
       "      <td>18</td>\n",
       "      <td>151</td>\n",
       "      <td>2012-09-07 23:16:52.801671</td>\n",
       "      <td>2012-09-07 23:16:52.801671</td>\n",
       "    </tr>\n",
       "    <tr>\n",
       "      <th>6</th>\n",
       "      <td>7</td>\n",
       "      <td>137</td>\n",
       "      <td>80</td>\n",
       "      <td>2012-09-07 23:12:43.688446</td>\n",
       "      <td>2012-09-07 23:12:43.688446</td>\n",
       "    </tr>\n",
       "    <tr>\n",
       "      <th>16</th>\n",
       "      <td>17</td>\n",
       "      <td>260</td>\n",
       "      <td>91</td>\n",
       "      <td>2012-09-07 23:13:46.808778</td>\n",
       "      <td>2012-09-07 23:13:46.808778</td>\n",
       "    </tr>\n",
       "    <tr>\n",
       "      <th>90</th>\n",
       "      <td>91</td>\n",
       "      <td>1974</td>\n",
       "      <td>287</td>\n",
       "      <td>2012-09-07 23:22:36.345585</td>\n",
       "      <td>2012-09-07 23:22:36.345585</td>\n",
       "    </tr>\n",
       "    <tr>\n",
       "      <th>44</th>\n",
       "      <td>45</td>\n",
       "      <td>388</td>\n",
       "      <td>139</td>\n",
       "      <td>2012-09-07 23:16:51.931053</td>\n",
       "      <td>2012-09-07 23:16:51.931053</td>\n",
       "    </tr>\n",
       "    <tr>\n",
       "      <th>51</th>\n",
       "      <td>52</td>\n",
       "      <td>128</td>\n",
       "      <td>57</td>\n",
       "      <td>2012-09-07 23:17:02.039877</td>\n",
       "      <td>2012-09-07 23:17:02.039877</td>\n",
       "    </tr>\n",
       "    <tr>\n",
       "      <th>25</th>\n",
       "      <td>26</td>\n",
       "      <td>295</td>\n",
       "      <td>92</td>\n",
       "      <td>2012-09-07 23:14:24.048772</td>\n",
       "      <td>2012-09-07 23:14:24.048772</td>\n",
       "    </tr>\n",
       "  </tbody>\n",
       "</table>\n",
       "</div>"
      ],
      "text/plain": [
       "    id  post_id  trend_id                  created_at  \\\n",
       "14  15       12        89  2012-09-07 23:13:33.628753   \n",
       "50  51      128       157  2012-09-07 23:17:01.889801   \n",
       "91  92     1221       273  2012-09-07 23:23:20.549136   \n",
       "47  48       18       151  2012-09-07 23:16:52.801671   \n",
       "6    7      137        80  2012-09-07 23:12:43.688446   \n",
       "16  17      260        91  2012-09-07 23:13:46.808778   \n",
       "90  91     1974       287  2012-09-07 23:22:36.345585   \n",
       "44  45      388       139  2012-09-07 23:16:51.931053   \n",
       "51  52      128        57  2012-09-07 23:17:02.039877   \n",
       "25  26      295        92  2012-09-07 23:14:24.048772   \n",
       "\n",
       "                    updated_at  \n",
       "14  2012-09-07 23:13:33.628753  \n",
       "50  2012-09-07 23:17:01.889801  \n",
       "91  2012-09-07 23:23:20.549136  \n",
       "47  2012-09-07 23:16:52.801671  \n",
       "6   2012-09-07 23:12:43.688446  \n",
       "16  2012-09-07 23:13:46.808778  \n",
       "90  2012-09-07 23:22:36.345585  \n",
       "44  2012-09-07 23:16:51.931053  \n",
       "51  2012-09-07 23:17:02.039877  \n",
       "25  2012-09-07 23:14:24.048772  "
      ]
     },
     "execution_count": 47,
     "metadata": {},
     "output_type": "execute_result"
    }
   ],
   "source": [
    "# Gettin schema\n",
    "\n",
    "# Tables = ['users','posts','streets','garments','tags','trends','fanships','friendships',\n",
    "# 'bookmarks','stores','comments','color_taggings','taggings','photos']\n",
    "\n",
    "\n",
    "taggings_sample = pd.read_sql(\"\"\"SELECT * \n",
    "FROM taggings limit 100\n",
    "\"\"\",con=db)\n",
    "\n",
    "taggings_sample.sample(n=10)"
   ]
  },
  {
   "cell_type": "code",
   "execution_count": 48,
   "metadata": {},
   "outputs": [
    {
     "data": {
      "text/html": [
       "<div>\n",
       "<style scoped>\n",
       "    .dataframe tbody tr th:only-of-type {\n",
       "        vertical-align: middle;\n",
       "    }\n",
       "\n",
       "    .dataframe tbody tr th {\n",
       "        vertical-align: top;\n",
       "    }\n",
       "\n",
       "    .dataframe thead th {\n",
       "        text-align: right;\n",
       "    }\n",
       "</style>\n",
       "<table border=\"1\" class=\"dataframe\">\n",
       "  <thead>\n",
       "    <tr style=\"text-align: right;\">\n",
       "      <th></th>\n",
       "      <th>id</th>\n",
       "      <th>name</th>\n",
       "      <th>chictopia_id</th>\n",
       "      <th>taggings_count</th>\n",
       "      <th>garments_count</th>\n",
       "    </tr>\n",
       "  </thead>\n",
       "  <tbody>\n",
       "    <tr>\n",
       "      <th>10</th>\n",
       "      <td>11</td>\n",
       "      <td>pink tank</td>\n",
       "      <td>54402</td>\n",
       "      <td>0</td>\n",
       "      <td>3</td>\n",
       "    </tr>\n",
       "    <tr>\n",
       "      <th>83</th>\n",
       "      <td>84</td>\n",
       "      <td>silk, tunic</td>\n",
       "      <td>53161</td>\n",
       "      <td>0</td>\n",
       "      <td>1</td>\n",
       "    </tr>\n",
       "    <tr>\n",
       "      <th>81</th>\n",
       "      <td>82</td>\n",
       "      <td>buckles</td>\n",
       "      <td>3676</td>\n",
       "      <td>4</td>\n",
       "      <td>53</td>\n",
       "    </tr>\n",
       "    <tr>\n",
       "      <th>28</th>\n",
       "      <td>29</td>\n",
       "      <td>h&amp;m bikini</td>\n",
       "      <td>52072</td>\n",
       "      <td>0</td>\n",
       "      <td>1</td>\n",
       "    </tr>\n",
       "    <tr>\n",
       "      <th>61</th>\n",
       "      <td>62</td>\n",
       "      <td>leather pants</td>\n",
       "      <td>3770</td>\n",
       "      <td>899</td>\n",
       "      <td>275</td>\n",
       "    </tr>\n",
       "    <tr>\n",
       "      <th>78</th>\n",
       "      <td>79</td>\n",
       "      <td>givenchy, peep toe, cyana trendland</td>\n",
       "      <td>55347</td>\n",
       "      <td>0</td>\n",
       "      <td>1</td>\n",
       "    </tr>\n",
       "    <tr>\n",
       "      <th>20</th>\n",
       "      <td>21</td>\n",
       "      <td>skinny</td>\n",
       "      <td>366</td>\n",
       "      <td>254</td>\n",
       "      <td>4224</td>\n",
       "    </tr>\n",
       "    <tr>\n",
       "      <th>52</th>\n",
       "      <td>53</td>\n",
       "      <td>my mom's navy skirt</td>\n",
       "      <td>50892</td>\n",
       "      <td>0</td>\n",
       "      <td>1</td>\n",
       "    </tr>\n",
       "    <tr>\n",
       "      <th>94</th>\n",
       "      <td>95</td>\n",
       "      <td>classic</td>\n",
       "      <td>221</td>\n",
       "      <td>2522</td>\n",
       "      <td>320</td>\n",
       "    </tr>\n",
       "    <tr>\n",
       "      <th>38</th>\n",
       "      <td>39</td>\n",
       "      <td>gold hoops</td>\n",
       "      <td>12299</td>\n",
       "      <td>0</td>\n",
       "      <td>18</td>\n",
       "    </tr>\n",
       "  </tbody>\n",
       "</table>\n",
       "</div>"
      ],
      "text/plain": [
       "    id                                 name  chictopia_id  taggings_count  \\\n",
       "10  11                            pink tank         54402               0   \n",
       "83  84                          silk, tunic         53161               0   \n",
       "81  82                              buckles          3676               4   \n",
       "28  29                           h&m bikini         52072               0   \n",
       "61  62                        leather pants          3770             899   \n",
       "78  79  givenchy, peep toe, cyana trendland         55347               0   \n",
       "20  21                               skinny           366             254   \n",
       "52  53                  my mom's navy skirt         50892               0   \n",
       "94  95                              classic           221            2522   \n",
       "38  39                           gold hoops         12299               0   \n",
       "\n",
       "    garments_count  \n",
       "10               3  \n",
       "83               1  \n",
       "81              53  \n",
       "28               1  \n",
       "61             275  \n",
       "78               1  \n",
       "20            4224  \n",
       "52               1  \n",
       "94             320  \n",
       "38              18  "
      ]
     },
     "execution_count": 48,
     "metadata": {},
     "output_type": "execute_result"
    }
   ],
   "source": [
    "# Gettin schema\n",
    "\n",
    "# Tables = ['users','posts','streets','garments','tags','trends','fanships','friendships',\n",
    "# 'bookmarks','stores','comments','color_taggings','taggings','photos']\n",
    "\n",
    "\n",
    "trends_sample = pd.read_sql(\"\"\"SELECT * \n",
    "FROM trends limit 100\n",
    "\"\"\",con=db)\n",
    "\n",
    "trends_sample.sample(n=10)"
   ]
  },
  {
   "cell_type": "code",
   "execution_count": 49,
   "metadata": {},
   "outputs": [
    {
     "data": {
      "text/html": [
       "<div>\n",
       "<style scoped>\n",
       "    .dataframe tbody tr th:only-of-type {\n",
       "        vertical-align: middle;\n",
       "    }\n",
       "\n",
       "    .dataframe tbody tr th {\n",
       "        vertical-align: top;\n",
       "    }\n",
       "\n",
       "    .dataframe thead th {\n",
       "        text-align: right;\n",
       "    }\n",
       "</style>\n",
       "<table border=\"1\" class=\"dataframe\">\n",
       "  <thead>\n",
       "    <tr style=\"text-align: right;\">\n",
       "      <th></th>\n",
       "      <th>id</th>\n",
       "      <th>post_id</th>\n",
       "      <th>color_id</th>\n",
       "    </tr>\n",
       "  </thead>\n",
       "  <tbody>\n",
       "    <tr>\n",
       "      <th>98</th>\n",
       "      <td>99</td>\n",
       "      <td>12</td>\n",
       "      <td>12</td>\n",
       "    </tr>\n",
       "    <tr>\n",
       "      <th>18</th>\n",
       "      <td>19</td>\n",
       "      <td>45</td>\n",
       "      <td>28</td>\n",
       "    </tr>\n",
       "    <tr>\n",
       "      <th>70</th>\n",
       "      <td>71</td>\n",
       "      <td>67</td>\n",
       "      <td>34</td>\n",
       "    </tr>\n",
       "    <tr>\n",
       "      <th>37</th>\n",
       "      <td>38</td>\n",
       "      <td>17</td>\n",
       "      <td>10</td>\n",
       "    </tr>\n",
       "    <tr>\n",
       "      <th>9</th>\n",
       "      <td>10</td>\n",
       "      <td>35</td>\n",
       "      <td>11</td>\n",
       "    </tr>\n",
       "    <tr>\n",
       "      <th>25</th>\n",
       "      <td>26</td>\n",
       "      <td>264</td>\n",
       "      <td>34</td>\n",
       "    </tr>\n",
       "    <tr>\n",
       "      <th>99</th>\n",
       "      <td>100</td>\n",
       "      <td>12</td>\n",
       "      <td>11</td>\n",
       "    </tr>\n",
       "    <tr>\n",
       "      <th>81</th>\n",
       "      <td>82</td>\n",
       "      <td>385</td>\n",
       "      <td>12</td>\n",
       "    </tr>\n",
       "    <tr>\n",
       "      <th>75</th>\n",
       "      <td>76</td>\n",
       "      <td>379</td>\n",
       "      <td>10</td>\n",
       "    </tr>\n",
       "    <tr>\n",
       "      <th>65</th>\n",
       "      <td>66</td>\n",
       "      <td>711</td>\n",
       "      <td>82</td>\n",
       "    </tr>\n",
       "  </tbody>\n",
       "</table>\n",
       "</div>"
      ],
      "text/plain": [
       "     id  post_id  color_id\n",
       "98   99       12        12\n",
       "18   19       45        28\n",
       "70   71       67        34\n",
       "37   38       17        10\n",
       "9    10       35        11\n",
       "25   26      264        34\n",
       "99  100       12        11\n",
       "81   82      385        12\n",
       "75   76      379        10\n",
       "65   66      711        82"
      ]
     },
     "execution_count": 49,
     "metadata": {},
     "output_type": "execute_result"
    }
   ],
   "source": [
    "# Gettin schema\n",
    "\n",
    "# Tables = ['users','posts','streets','garments','tags','trends','fanships','friendships',\n",
    "# 'bookmarks','stores','comments','color_taggings','taggings','photos']\n",
    "\n",
    "\n",
    "color_taggings_sample = pd.read_sql(\"\"\"SELECT * \n",
    "FROM color_taggings limit 100\n",
    "\"\"\",con=db)\n",
    "\n",
    "color_taggings_sample.sample(n=10)"
   ]
  },
  {
   "cell_type": "code",
   "execution_count": null,
   "metadata": {},
   "outputs": [],
   "source": []
  },
  {
   "cell_type": "markdown",
   "metadata": {},
   "source": [
    "\n",
    "# <span style='background :pink' > ⬆️ LEFT OFF ABOVE ⬆️  </span> "
   ]
  },
  {
   "cell_type": "markdown",
   "metadata": {},
   "source": [
    "## <span style='background :orange' > High-Level Describing </span>"
   ]
  },
  {
   "cell_type": "code",
   "execution_count": null,
   "metadata": {
    "scrolled": true
   },
   "outputs": [],
   "source": [
    "label_descriptions_df.info()"
   ]
  },
  {
   "cell_type": "code",
   "execution_count": null,
   "metadata": {},
   "outputs": [],
   "source": [
    "label_descriptions_df.describe()"
   ]
  },
  {
   "cell_type": "markdown",
   "metadata": {},
   "source": [
    "## <span style='background :orange' > Examining individual cells & entries </span>"
   ]
  },
  {
   "cell_type": "code",
   "execution_count": null,
   "metadata": {},
   "outputs": [],
   "source": [
    "# This corresponds to the first row & first column (categories)\n",
    "label_descriptions_df.loc[0][0]"
   ]
  },
  {
   "cell_type": "code",
   "execution_count": null,
   "metadata": {},
   "outputs": [],
   "source": [
    "# This corresponds to the first row & second column (attributes)\n",
    "label_descriptions_df.loc[0][1]"
   ]
  },
  {
   "cell_type": "code",
   "execution_count": null,
   "metadata": {},
   "outputs": [],
   "source": [
    "# This corresponds to the second row & first column (categories)\n",
    "label_descriptions_df.loc[1][0]"
   ]
  },
  {
   "cell_type": "code",
   "execution_count": null,
   "metadata": {},
   "outputs": [],
   "source": [
    "# This corresponds to the second row & second column (attributes)\n",
    "label_descriptions_df.loc[1][1]"
   ]
  },
  {
   "cell_type": "code",
   "execution_count": null,
   "metadata": {},
   "outputs": [],
   "source": [
    "# This corresponds to the 16th row & first column (categories)\n",
    "label_descriptions_df.loc[15][0]"
   ]
  },
  {
   "cell_type": "markdown",
   "metadata": {},
   "source": [
    "## <span style='background :orange' > Examining Nulls </span>"
   ]
  },
  {
   "cell_type": "markdown",
   "metadata": {},
   "source": [
    "⚠️ The creators of the dataset did something interesting -- they stuck two separate dictioanies together in a single JSON file. So while it looks like there are nulls in the categories column past 46 corresponding to attributes, that's not quite accurate. \n",
    "\n",
    "🤔 As we need to explore the \"nulls\" we need to remember they're not \"true nulls\" but the result of the dataset author's decision to save space & memory by dumping two lists of separate lengths together."
   ]
  },
  {
   "cell_type": "code",
   "execution_count": null,
   "metadata": {},
   "outputs": [],
   "source": [
    "# Let's locate all rows of categories that don't have attributes\n",
    "\n",
    "label_desc_isNull_df = label_descriptions_df.loc[pd.isnull(label_descriptions_df['categories'])]\n",
    "label_desc_isNull_df"
   ]
  },
  {
   "cell_type": "code",
   "execution_count": null,
   "metadata": {},
   "outputs": [],
   "source": [
    "label_desc_isNull_df.head(20)"
   ]
  },
  {
   "cell_type": "code",
   "execution_count": null,
   "metadata": {},
   "outputs": [],
   "source": [
    "#Let's check out some specfic exaples\n",
    "label_desc_isNull_df.loc[46][1]"
   ]
  },
  {
   "cell_type": "code",
   "execution_count": null,
   "metadata": {},
   "outputs": [],
   "source": [
    "label_desc_isNull_df.loc[62][1]"
   ]
  },
  {
   "cell_type": "code",
   "execution_count": null,
   "metadata": {},
   "outputs": [],
   "source": [
    "label_desc_isNull_df.loc[65][1]"
   ]
  },
  {
   "cell_type": "code",
   "execution_count": null,
   "metadata": {},
   "outputs": [],
   "source": [
    "label_desc_isNull_df.tail(20)"
   ]
  },
  {
   "cell_type": "code",
   "execution_count": null,
   "metadata": {},
   "outputs": [],
   "source": [
    "label_desc_isNull_df.loc[293][1]"
   ]
  },
  {
   "cell_type": "code",
   "execution_count": null,
   "metadata": {},
   "outputs": [],
   "source": [
    "label_desc_isNull_df.loc[274][1]"
   ]
  },
  {
   "cell_type": "code",
   "execution_count": null,
   "metadata": {},
   "outputs": [],
   "source": [
    "label_desc_isNull_df.loc[287][1]"
   ]
  },
  {
   "cell_type": "markdown",
   "metadata": {},
   "source": [
    "## <span style='background :orange' > Cleaning Up Categories & Attributes Dicts </span>"
   ]
  },
  {
   "cell_type": "markdown",
   "metadata": {},
   "source": [
    "### <span style='background :yellow' > Cleaning Up Categories </span>\n",
    "\n",
    "We're going to pull out and split the categories list from the attributes list. We'll also make the columns easier to track by renaming, etc."
   ]
  },
  {
   "cell_type": "code",
   "execution_count": null,
   "metadata": {},
   "outputs": [],
   "source": [
    "# We'll save off a copy of the dataframe for inspection. \n",
    "# It'll be deleted manually later once we're happy with the quality.\n",
    "\n",
    "categories_notNull_df = label_descriptions_df.loc[pd.notnull(label_descriptions_df['categories'])]\n",
    "categories_notNull_df = pd.json_normalize(categories_notNull_df['categories'])\n",
    "categories_notNull_df.to_csv('../../data/interim/categories_notNull_df.csv')\n",
    "categories_notNull_df"
   ]
  },
  {
   "cell_type": "code",
   "execution_count": null,
   "metadata": {},
   "outputs": [],
   "source": [
    "categories_notNull_df = categories_notNull_df.rename(\n",
    "                                columns={'id':'id_categories',\n",
    "                                        'name':'name_categories',\n",
    "                                        'supercategory':'supercategory_categories',\n",
    "                                        'level':'level_categories'})\n",
    "categories_notNull_df = categories_notNull_df.set_index('id_categories')\n",
    "categories_notNull_df"
   ]
  },
  {
   "cell_type": "code",
   "execution_count": null,
   "metadata": {},
   "outputs": [],
   "source": [
    "#Checking out the distribution of the categories \n",
    "categories_notNull_df['supercategory_categories'].value_counts().plot(kind='bar')"
   ]
  },
  {
   "cell_type": "markdown",
   "metadata": {},
   "source": [
    "### <span style='background :yellow' > Cleaning Up Attributes </span>\n",
    "\n",
    "Same exact process as we did with categories above. "
   ]
  },
  {
   "cell_type": "code",
   "execution_count": null,
   "metadata": {},
   "outputs": [],
   "source": [
    "# We'll save off a copy of the dataframe for inspection. \n",
    "# It'll be deleted manually later once we're happy with the quality.\n",
    "\n",
    "attributes_df = pd.json_normalize(label_descriptions_df['attributes'])\n",
    "attributes_df.to_csv('../../data/interim/attributes_df.csv')\n",
    "attributes_df"
   ]
  },
  {
   "cell_type": "code",
   "execution_count": null,
   "metadata": {},
   "outputs": [],
   "source": [
    "# Especially for attributes, it's important we set the id_attributes column as the index\n",
    "# as we intend to use the dataframes for merging later.\n",
    "# The reason why we'd want to set the index instead of just using the default pandas index?\n",
    "# You'll see later but essentially the dataset creators, when creating the JSON file,\n",
    "# skipped numbering the attribute ID's i.e. starting from Attribute ID=281 skip\n",
    "# ahead by 40+. \n",
    "# Lucikly this seems to align with the attribute ID's captured in the Train file.\n",
    "# Keep going, more explanation below.\n",
    "\n",
    "\n",
    "attributes_df = attributes_df.rename(columns={'id':'id_attributes',\n",
    "                                        'name':'name_attributes',\n",
    "                                        'supercategory':'supercategory_attributes',\n",
    "                                        'level':'level_attributes'})\n",
    "attributes_df = attributes_df.set_index('id_attributes')\n",
    "attributes_df"
   ]
  },
  {
   "cell_type": "code",
   "execution_count": null,
   "metadata": {},
   "outputs": [],
   "source": [
    "attributes_df['supercategory_attributes'].value_counts().plot(kind='bar')"
   ]
  },
  {
   "cell_type": "markdown",
   "metadata": {},
   "source": [
    "<hr style=\"border-top: 5px solid black; margin-top: 1px; margin-bottom: 1px\"></hr>\n",
    "\n",
    "# <span style='background :red' > Step 4B: 🔬 Deeper EDA & Exploration of Train 🚂 File </span> "
   ]
  },
  {
   "cell_type": "markdown",
   "metadata": {},
   "source": [
    "## <span style='background :orange' > Loading the train.csv file 🚂 </span> "
   ]
  },
  {
   "cell_type": "markdown",
   "metadata": {},
   "source": [
    "We can note the following:\n",
    "1. The same image is repeated multiple times but with a unique:\n",
    "    * ClassId\n",
    "    * Encoded Pixels\n",
    "    * AttributesIds\n",
    "    \n",
    "2. Not all ImageIds have corresponding AttributesIds\n",
    "3. AtributeIds are off, starting at AttributeId = 281, which jumps from the prior entry of AttributeId = 234. We also see that the column AttributeIds in the train data_df include AttrbiuteId values of 300+. As part of futher processing we'd need to visually confirm that the train images with AttributeId's of 235-293 are correctly labeled. "
   ]
  },
  {
   "cell_type": "code",
   "execution_count": null,
   "metadata": {},
   "outputs": [],
   "source": [
    "# We load one chunk to visually examine (so that we dont overload the notebook memory)\n",
    "with pd.read_csv(\"/Volumes/MiniGator/Projects/Datasets/iMaterialist/train.csv\",chunksize=100) as reader:\n",
    "    print(reader.get_chunk(20))"
   ]
  },
  {
   "cell_type": "code",
   "execution_count": null,
   "metadata": {},
   "outputs": [],
   "source": [
    "# Now I'll load the file straight; for bigger files howver, it can make sense\n",
    "# to still do lazy loading\n",
    "\n",
    "train_df = pd.read_csv(\"/Volumes/MiniGator/Projects/Datasets/iMaterialist/train.csv\")"
   ]
  },
  {
   "cell_type": "markdown",
   "metadata": {},
   "source": [
    "## <span style='background :orange' > Examine the Train file 🚂</span> "
   ]
  },
  {
   "cell_type": "code",
   "execution_count": null,
   "metadata": {},
   "outputs": [],
   "source": [
    "train_df.head(20)"
   ]
  },
  {
   "cell_type": "code",
   "execution_count": null,
   "metadata": {},
   "outputs": [],
   "source": [
    "train_df.info()"
   ]
  },
  {
   "cell_type": "markdown",
   "metadata": {},
   "source": [
    "## <span style='background :orange' > Get Top-Level Counts of Combined Train 🚊  File & Classes Dict 📚 </span> "
   ]
  },
  {
   "cell_type": "code",
   "execution_count": null,
   "metadata": {},
   "outputs": [],
   "source": [
    "# In the Train data:\n",
    "# ClassId corresponds to the category ID\n",
    "# Each row in train contains a category label & multiple attribute labels\n",
    "\n",
    "train_df[['ClassId','ImageId']].rename(columns={'ImageId':'counts_'}).groupby(['ClassId']).count().merge(categories_notNull_df,how='left',left_on='ClassId',right_index=True).reset_index().sort_values('counts_',ascending=False).set_index('name_categories')"
   ]
  },
  {
   "cell_type": "markdown",
   "metadata": {},
   "source": [
    "### <span style='background :yellow' > Visualize entire distribution of supercategory categories </span> "
   ]
  },
  {
   "cell_type": "code",
   "execution_count": null,
   "metadata": {},
   "outputs": [],
   "source": [
    "train_df[['ClassId','ImageId']].rename(columns={'ImageId':'counts_'}).groupby(['ClassId']).count().merge(categories_notNull_df,how='left',left_on='ClassId',right_index=True).reset_index().sort_values('counts_',ascending=False).set_index('supercategory_categories').plot(kind='barh',y='counts_',use_index=True)"
   ]
  },
  {
   "cell_type": "markdown",
   "metadata": {},
   "source": [
    "### <span style='background :yellow' > Visualize top 15 categories by supercategory count</span> "
   ]
  },
  {
   "cell_type": "code",
   "execution_count": null,
   "metadata": {},
   "outputs": [],
   "source": [
    "train_df[['ClassId','ImageId']].rename(columns={'ImageId':'counts_'}).groupby(['ClassId']).count().merge(categories_notNull_df,how='left',left_on='ClassId',right_index=True).reset_index().sort_values('counts_',ascending=False).set_index('supercategory_categories').iloc[:15].plot(kind='barh',y='counts_',use_index=True)"
   ]
  },
  {
   "cell_type": "markdown",
   "metadata": {},
   "source": [
    "### <span style='background :yellow' > Visualize entire distribution of fine category (not super category) count </span> "
   ]
  },
  {
   "cell_type": "code",
   "execution_count": null,
   "metadata": {},
   "outputs": [],
   "source": [
    "train_df[['ClassId','ImageId']].rename(columns={'ImageId':'counts_'}).groupby(['ClassId']).count().merge(categories_notNull_df,how='left',left_on='ClassId',right_index=True).reset_index().sort_values('counts_',ascending=False).set_index('name_categories').plot(kind='barh',y='counts_',use_index=True)"
   ]
  },
  {
   "cell_type": "markdown",
   "metadata": {},
   "source": [
    "### <span style='background :yellow' > Visualize top 15 of fine category (not super category) count </span> "
   ]
  },
  {
   "cell_type": "code",
   "execution_count": null,
   "metadata": {},
   "outputs": [],
   "source": [
    "train_df[['ClassId','ImageId']].rename(columns={'ImageId':'counts_'}).groupby(['ClassId']).count().merge(categories_notNull_df,how='left',left_on='ClassId',right_index=True).reset_index().sort_values('counts_',ascending=False).set_index('name_categories').iloc[:15].plot(kind='barh',y='counts_',use_index=True)"
   ]
  },
  {
   "cell_type": "markdown",
   "metadata": {},
   "source": [
    "## <span style='background :orange' > Get Top-Level Counts of Combined Train 🚊  File & Attributes Dict 📚 </span> "
   ]
  },
  {
   "cell_type": "markdown",
   "metadata": {},
   "source": [
    "### <span style='background :yellow' > Select out columns to start analysis of attributes</span> "
   ]
  },
  {
   "cell_type": "code",
   "execution_count": null,
   "metadata": {},
   "outputs": [],
   "source": [
    "# Remember: The same image is represented multiple times with a unique ClassId \n",
    "# (aka one image can have multiple items of clothing) and each ClassId (item of clothing)\n",
    "# can have multiple attributes (details like tpye of fabric, buttons, etc)\n",
    "# This is why the AttributesIds column has a list of values\n",
    "\n",
    "train_with_attributes = train_df[['ImageId','ClassId','AttributesIds']]\n",
    "train_with_attributes"
   ]
  },
  {
   "cell_type": "markdown",
   "metadata": {},
   "source": [
    "### <span style='background :yellow' > Explode out attributes to make a long train_attributes dataframe </span> "
   ]
  },
  {
   "cell_type": "code",
   "execution_count": null,
   "metadata": {},
   "outputs": [],
   "source": [
    "# Not all images have associated detailed attributes \n",
    "# If we just try to explode out the NaN values, we'll get an error\n",
    "# So we need to convert the AttributesIds into a list of values (str)\n",
    "# such that we can then encapsulate as a list, use pd.explode, \n",
    "# and then recast as int so we can merge on the indices.\n",
    "# Phew!\n",
    "\n",
    "train_with_attributes['AttributesIds'] = train_with_attributes['AttributesIds'].replace(np.nan,-1000).astype(str)\n",
    "train_with_attributes['AttributesIds'] = train_with_attributes['AttributesIds'].apply(lambda x: list(x.split(\",\")))\n",
    "\n",
    "train_with_attributes_long = train_with_attributes.explode('AttributesIds')\n",
    "train_with_attributes_long['AttributesIds'] = train_with_attributes_long['AttributesIds'].astype(int)\n",
    "train_with_attributes_long"
   ]
  },
  {
   "cell_type": "code",
   "execution_count": null,
   "metadata": {},
   "outputs": [],
   "source": [
    "# Now we have a count of number of times (not images but occurrences) of the attributes\n",
    "train_with_attributes_long[['AttributesIds','ImageId']].rename(columns={'ImageId':'counts_'}).groupby(['AttributesIds']).count().merge(attributes_df,how='left',left_on='AttributesIds',right_index=True).reset_index().sort_values('counts_',ascending=False).set_index('name_attributes')"
   ]
  },
  {
   "cell_type": "code",
   "execution_count": null,
   "metadata": {},
   "outputs": [],
   "source": [
    "# This should be an ugly mess of a chart -- long tail but we also have a bunch of the \n",
    "# top-level categories being repeated\n",
    "train_with_attributes_long[['AttributesIds','ImageId']].rename(columns={'ImageId':'counts_'}).groupby(['AttributesIds']).count().merge(attributes_df,how='left',left_on='AttributesIds',right_index=True).reset_index().sort_values('counts_',ascending=False).set_index('name_attributes').plot(kind='barh',y='counts_',use_index=True)"
   ]
  },
  {
   "cell_type": "code",
   "execution_count": null,
   "metadata": {},
   "outputs": [],
   "source": [
    "# Grabbing just the first 15, we see there are a bunch of occurrences of NaN\n",
    "# This isnt surprising as the dataset creators described how only a subset of the original data\n",
    "# had additional detailed attributes information.\n",
    "train_with_attributes_long[['AttributesIds','ImageId']].rename(columns={'ImageId':'counts_'}).groupby(['AttributesIds']).count().merge(attributes_df,how='left',left_on='AttributesIds',right_index=True).reset_index().sort_values('counts_',ascending=False).set_index('name_attributes').iloc[:15].plot(kind='barh',y='counts_',use_index=True)"
   ]
  },
  {
   "cell_type": "code",
   "execution_count": null,
   "metadata": {},
   "outputs": [],
   "source": [
    "# Ignoring Nan, checking out the top 30 attributes\n",
    "train_with_attributes_long[['AttributesIds','ImageId']].rename(columns={'ImageId':'counts_'}).groupby(['AttributesIds']).count().merge(attributes_df,how='left',left_on='AttributesIds',right_index=True).reset_index().sort_values('counts_',ascending=False).set_index('name_attributes').iloc[1:30].plot(kind='barh',y='counts_',use_index=True)"
   ]
  },
  {
   "cell_type": "markdown",
   "metadata": {},
   "source": [
    "## <span style='background :orange' > Finishing EDA 🔬 by Previewing Some Random Images 📸 </span> "
   ]
  },
  {
   "cell_type": "markdown",
   "metadata": {},
   "source": [
    "💡 Ideally, it would be best to do a random selection of the images to preview by grabbing a list of the image_file names, creating a list of random numbers, then picking the image whose index corresponds to the random number element. \n",
    "\n",
    "🤔 Given that this is just meant to be a cursory preview, we'll do that in later noteboks for the dataset that ultimately gets selected."
   ]
  },
  {
   "cell_type": "code",
   "execution_count": null,
   "metadata": {},
   "outputs": [],
   "source": [
    "path_to_dir = '/Volumes/MiniGator/Projects/Datasets/iMaterialist/train'"
   ]
  },
  {
   "cell_type": "code",
   "execution_count": null,
   "metadata": {},
   "outputs": [],
   "source": [
    "listOfImageNames = ['00000663ed1ff0c4e0132b9b9ac53f6e.jpg',\n",
    "                    '0000fe7c9191fba733c8a69cfaf962b7.jpg',\n",
    "                    '0002ec21ddb8477e98b2cbb87ea2e269.jpg',\n",
    "                    '0002f5a0ebc162ecfb73e2c91e3b8f62.jpg',\n",
    "                    '0004467156e47b0eb6de4aa6479cbd15.jpg',\n",
    "                    '00048c3a2fb9c29340473c4cfc06424a.jpg',\n",
    "                    '0006ea84499fd9a06fefbdf47a5eb4c0.jpg'\n",
    "                   ]"
   ]
  },
  {
   "cell_type": "code",
   "execution_count": null,
   "metadata": {},
   "outputs": [],
   "source": [
    "for imageName in listOfImageNames:\n",
    "    display(Image(filename=f'{path_to_dir}//{imageName}'))"
   ]
  }
 ],
 "metadata": {
  "kernelspec": {
   "display_name": "Python 3",
   "language": "python",
   "name": "python3"
  },
  "language_info": {
   "codemirror_mode": {
    "name": "ipython",
    "version": 3
   },
   "file_extension": ".py",
   "mimetype": "text/x-python",
   "name": "python",
   "nbconvert_exporter": "python",
   "pygments_lexer": "ipython3",
   "version": "3.7.9"
  }
 },
 "nbformat": 4,
 "nbformat_minor": 4
}
