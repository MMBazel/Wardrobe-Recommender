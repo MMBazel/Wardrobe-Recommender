{
 "cells": [
  {
   "cell_type": "markdown",
   "metadata": {},
   "source": [
    "# Step 5: Data Wrangling & Exploration\n",
    "## Dataset: DeepFashion\n",
    "\n",
    "### MLE Capstone: Outfit Recommender - Spring 2021\n",
    "### By: Bazeley, Mikiko \n",
    "### GH: [@mmbazel](https://github.com/MMBazel)  \n",
    "\n",
    "In this notebook, I'll be exploring one of three datasets (DeepFashion, Paperdoll, and iMaterialist). \n",
    "\n",
    "Specifically in this notebook we'll: \n",
    "\n",
    "☑️ Cleaning the data\n",
    "\n",
    "☑️ Dealing with missing\tvalues\n",
    "\n",
    "☑️ Handling outliers\n",
    "\n",
    "☑️ Dealing with class imbalance"
   ]
  },
  {
   "cell_type": "markdown",
   "metadata": {},
   "source": [
    "<hr style=\"border-top: 5px solid black; margin-top: 1px; margin-bottom: 1px\"></hr>\n",
    "\n",
    "## Explanation of the data, according to the dataset page here: \n",
    "http://mmlab.ie.cuhk.edu.hk/projects/DeepFashion.html\n",
    "\n",
    "\n",
    "### Files/Folders:\n",
    "* Anno_coarse (16.6 MB)/\n",
    "        * list_attr_cloth.txt\n",
    "        * list_attr_img.txt\n",
    "        * list_bbox.txt\n",
    "        * list_category_cloth.txt\n",
    "        * list_category_img.txt\n",
    "        * list_landmarks.txt\n",
    "        \n",
    "* Anno_fine/\n",
    "        * (see all files above)\n",
    "        * train_attr.txt, train_bbox.txt, train_cate.txt, train_landmarks.txt, train.txt\n",
    "        * test_attr.txt, test_bbox.txt, test_cate.txt, test_landmarks.txt, test.txt\n",
    "        * val_attr.txt, val_bbox.txt, val_cate.txt, val_landmarks.txt, val.txt\n",
    "* Eval/\n",
    "        * list_eval_partition.txt\n",
    "* Img/\n",
    "        * img_highres.zip (28 GB)\n",
    "        * img.zip (2 GB)\n",
    "\n",
    "\n",
    "\n",
    "### ⚠️📝 Notes (About the Notebooks) ⚠️📝 \n",
    "\n",
    "My guiding principles:\n",
    "* ➡️ Be overly communicative = While that leads to verbose commenting, I hope that means I catch a bunch of questions early)  \n",
    "* ➡️ Human-readable over witty-optimization = For the most part I try to make everything I'm doing obvious\n",
    "* ➡️ Write as much code as needed, and no more = There's a time and place for error-catching & object-oriented code & there are ways to make the notebook reproducible. That's not quite the goal for this notebook (or any of the other notebooks in the early stages of the project) and my goal was to write just the code needed to get this step done.  "
   ]
  },
  {
   "cell_type": "markdown",
   "metadata": {},
   "source": [
    "<hr style=\"border-top: 5px solid black; margin-top: 1px; margin-bottom: 1px\"></hr>\n",
    "\n",
    "# <span style='background :red' > Step 1: Proper set-up & installation of necessary libraries & packages </span> \n"
   ]
  },
  {
   "cell_type": "code",
   "execution_count": 1,
   "metadata": {},
   "outputs": [],
   "source": [
    "#!pip3 install lmdb\n",
    "#!pip3 install ipython-sql\n",
    "#!brew install wget"
   ]
  },
  {
   "cell_type": "code",
   "execution_count": 2,
   "metadata": {},
   "outputs": [
    {
     "name": "stdout",
     "output_type": "stream",
     "text": [
      "Packages Imported\n",
      "['Image', 'In', 'Out', '_', '__', '___', '__builtin__', '__builtins__', '__doc__', '__loader__', '__name__', '__package__', '__spec__', '_dh', '_i', '_i1', '_i2', '_ih', '_ii', '_iii', '_oh', 'create_engine', 'exit', 'get_ipython', 'io', 'json', 'lmdb', 'np', 'os', 'pd', 'plt', 'quit', 'sqlite3', 'sys']\n"
     ]
    }
   ],
   "source": [
    "##################### [TODO] SETUP #####################\n",
    "# [TODO] Import any utilities functions\n",
    "\n",
    "\n",
    "import json\n",
    "import os\n",
    "import sys\n",
    "from sqlalchemy import create_engine\n",
    "\n",
    "import io\n",
    "import lmdb\n",
    "import sqlite3\n",
    "import pandas as pd\n",
    "from PIL import Image\n",
    "\n",
    "import matplotlib.pyplot as plt\n",
    "import numpy as np\n",
    "import pandas as pd\n",
    "\n",
    "%matplotlib inline\n",
    "%load_ext sql\n",
    "\n",
    "print('Packages Imported')\n",
    "\n",
    "modules = dir()\n",
    "\n",
    "print(modules)\n",
    "#print(os.environ)\n",
    "\n",
    "# [TODO] Package install/load"
   ]
  },
  {
   "cell_type": "code",
   "execution_count": 3,
   "metadata": {},
   "outputs": [
    {
     "name": "stdout",
     "output_type": "stream",
     "text": [
      "# packages in environment at /Users/mikikobazeley/opt/anaconda3/envs/SPRINGBOARD_MLE_CAPSTONE_ENV:\r\n",
      "#\r\n",
      "# Name                    Version                   Build  Channel\r\n",
      "_py-xgboost-mutex         2.0                       cpu_0  \r\n",
      "_pytorch_select           0.1                       cpu_0    anaconda\r\n",
      "_tflow_select             2.3.0                       mkl  \r\n",
      "absl-py                   0.11.0             pyhd3eb1b0_1  \r\n",
      "appnope                   0.1.2           py37hecd8cb5_1001  \r\n",
      "argon2-cffi               20.1.0           py37haf1e3a3_1    anaconda\r\n",
      "astor                     0.8.1            py37hecd8cb5_0  \r\n",
      "async_generator           1.10             py37h28b3542_0    anaconda\r\n",
      "attrs                     20.3.0             pyhd3eb1b0_0  \r\n",
      "backcall                  0.2.0              pyhd3eb1b0_0  \r\n",
      "blas                      1.0                         mkl  \r\n",
      "bleach                    3.3.0              pyhd3eb1b0_0  \r\n",
      "blis                      0.7.4                    pypi_0    pypi\r\n",
      "brotlipy                  0.7.0           py37haf1e3a3_1000    anaconda\r\n",
      "c-ares                    1.17.1               h9ed2024_0  \r\n",
      "ca-certificates           2020.12.5            h033912b_0    conda-forge\r\n",
      "catalogue                 2.0.1                    pypi_0    pypi\r\n",
      "catboost                  0.24.4           py37hf985489_0    conda-forge\r\n",
      "certifi                   2020.12.5        py37hf985489_1    conda-forge\r\n",
      "cffi                      1.14.3           py37hed5b41f_0    anaconda\r\n",
      "chardet                   3.0.4                 py37_1003    conda-forge\r\n",
      "click                     7.1.2              pyh9f0ad1d_0    conda-forge\r\n",
      "colour                    0.1.5                    pypi_0    pypi\r\n",
      "combo                     0.1.2                    pypi_0    pypi\r\n",
      "coverage                  5.4              py37h9ed2024_2  \r\n",
      "cryptography              3.3.1            py37hbcfaee0_0  \r\n",
      "cycler                    0.10.0                   py37_0    anaconda\r\n",
      "cymem                     2.0.5                    pypi_0    pypi\r\n",
      "decorator                 4.4.2              pyhd3eb1b0_0  \r\n",
      "defusedxml                0.6.0                      py_0    conda-forge\r\n",
      "dtreeviz                  1.1.4                    pypi_0    pypi\r\n",
      "entrypoints               0.3                      py37_0    anaconda\r\n",
      "et_xmlfile                1.0.1                   py_1001  \r\n",
      "fastai                    2.2.5                    pypi_0    pypi\r\n",
      "fastcore                  1.3.19                   pypi_0    pypi\r\n",
      "fastprogress              1.0.0                    pypi_0    pypi\r\n",
      "filelock                  3.0.12             pyh9f0ad1d_0    conda-forge\r\n",
      "freetype                  2.10.4               ha233b18_0    conda-forge\r\n",
      "gast                      0.2.2                    py37_0  \r\n",
      "gdown                     3.12.2             pyh9f0ad1d_0    conda-forge\r\n",
      "google-pasta              0.2.0                      py_0  \r\n",
      "grpcio                    1.35.0           py37h97de6d8_0  \r\n",
      "h5py                      2.10.0           py37h0601b69_1  \r\n",
      "hdf5                      1.10.6               hdbbcd12_0  \r\n",
      "idna                      2.10               pyh9f0ad1d_0    conda-forge\r\n",
      "importlib-metadata        3.4.0                    pypi_0    pypi\r\n",
      "importlib_metadata        2.0.0                         1    conda-forge\r\n",
      "iniconfig                 1.1.1                    pypi_0    pypi\r\n",
      "intel-openmp              2019.4                      233    anaconda\r\n",
      "ipykernel                 5.4.3            py37he01cfaa_0    conda-forge\r\n",
      "ipython                   7.20.0           py37h01d92e1_1  \r\n",
      "ipython-sql               0.4.0                    pypi_0    pypi\r\n",
      "ipython_genutils          0.2.0              pyhd3eb1b0_1  \r\n",
      "jdcal                     1.4.1                      py_0  \r\n",
      "jedi                      0.17.2           py37hecd8cb5_1  \r\n",
      "jinja2                    2.11.3             pyhd3eb1b0_0  \r\n",
      "joblib                    1.0.0                    pypi_0    pypi\r\n",
      "jpeg                      9b                   he5867d9_2    anaconda\r\n",
      "json5                     0.9.5                      py_0    anaconda\r\n",
      "jsonschema                3.2.0                      py_2    conda-forge\r\n",
      "jupyter_client            6.1.7                      py_0    conda-forge\r\n",
      "jupyter_core              4.7.1            py37hecd8cb5_0  \r\n",
      "jupyterlab                2.2.9              pyhd8ed1ab_0    conda-forge\r\n",
      "jupyterlab_pygments       0.1.2                      py_0    anaconda\r\n",
      "jupyterlab_server         1.2.0                      py_0    conda-forge\r\n",
      "keras-applications        1.0.8                      py_1  \r\n",
      "keras-preprocessing       1.1.2              pyhd3eb1b0_0  \r\n",
      "kiwisolver                1.2.0            py37h04f5b5a_0    anaconda\r\n",
      "lcms2                     2.11                 h92f6f08_0    anaconda\r\n",
      "libcxx                    10.0.0                        1    conda-forge\r\n",
      "libedit                   3.1.20191231         h1de35cc_1    anaconda\r\n",
      "libffi                    3.3                  hb1e8313_2    anaconda\r\n",
      "libgfortran               3.0.1                h93005f0_2  \r\n",
      "libllvm10                 10.0.1               h76017ad_5  \r\n",
      "libmklml                  2019.0.5                      0    anaconda\r\n",
      "libpng                    1.6.37               ha441bb4_0    anaconda\r\n",
      "libprotobuf               3.14.0               h2842e9f_0  \r\n",
      "libsodium                 1.0.18               h1de35cc_0    anaconda\r\n",
      "libtiff                   4.1.0                hcb84e12_1  \r\n",
      "libxgboost                0.90                 hb1e8313_1  \r\n",
      "llvm-openmp               10.0.0               h28b9765_0    conda-forge\r\n",
      "llvmlite                  0.35.0                   pypi_0    pypi\r\n",
      "lmdb                      1.1.1                    pypi_0    pypi\r\n",
      "lz4-c                     1.9.3                h23ab428_0  \r\n",
      "markdown                  3.3.3            py37hecd8cb5_0  \r\n",
      "markupsafe                1.1.1            py37h1de35cc_0    conda-forge\r\n",
      "matplotlib                3.3.2                hecd8cb5_0  \r\n",
      "matplotlib-base           3.3.2            py37h181983e_0  \r\n",
      "mistune                   0.8.4            py37h1de35cc_0    anaconda\r\n",
      "mkl                       2019.4                      233    anaconda\r\n",
      "mkl-service               2.3.0            py37hfbe908c_0    anaconda\r\n",
      "mkl_fft                   1.2.0            py37hc64f4ea_0    anaconda\r\n",
      "mkl_random                1.1.1            py37h959d312_0    anaconda\r\n",
      "murmurhash                1.0.5                    pypi_0    pypi\r\n",
      "nbclient                  0.5.1                      py_0    conda-forge\r\n",
      "nbconvert                 6.0.7                    py37_0    anaconda\r\n",
      "nbformat                  5.1.2              pyhd3eb1b0_1  \r\n",
      "ncurses                   6.2                  h0a44026_1    anaconda\r\n",
      "nest-asyncio              1.4.3              pyhd3eb1b0_0  \r\n",
      "ninja                     1.10.2           py37hf7b0b51_0  \r\n",
      "notebook                  6.2.0            py37hecd8cb5_0  \r\n",
      "numba                     0.52.0                   pypi_0    pypi\r\n",
      "numpy                     1.19.1           py37h3b9f5b6_0    anaconda\r\n",
      "numpy-base                1.19.1           py37hcfb5961_0    anaconda\r\n",
      "olefile                   0.46                       py_0    conda-forge\r\n",
      "openpyxl                  3.0.6              pyhd3eb1b0_0  \r\n",
      "openssl                   1.1.1j               hbcf498f_0    conda-forge\r\n",
      "opt_einsum                3.1.0                      py_0  \r\n",
      "packaging                 20.9               pyhd3eb1b0_0  \r\n",
      "pandas                    1.2.1            py37hb2f4e1b_0  \r\n",
      "pandoc                    2.11                 h0dc7051_0    anaconda\r\n",
      "pandocfilters             1.4.3            py37hecd8cb5_1  \r\n",
      "parso                     0.7.0                      py_0    anaconda\r\n",
      "pathy                     0.3.5                    pypi_0    pypi\r\n",
      "patsy                     0.5.1                    py37_0  \r\n",
      "pdpbox                    0.2.0                    pypi_0    pypi\r\n",
      "pexpect                   4.8.0              pyhd3eb1b0_3  \r\n",
      "pickleshare               0.7.5           pyhd3eb1b0_1003  \r\n",
      "pillow                    8.0.0            py37h1a82f1a_0    anaconda\r\n",
      "pip                       20.2.4                   py37_0    anaconda\r\n",
      "pluggy                    0.13.1                   pypi_0    pypi\r\n",
      "preshed                   3.0.5                    pypi_0    pypi\r\n",
      "prettytable               0.7.2                    pypi_0    pypi\r\n",
      "prometheus_client         0.9.0              pyhd3eb1b0_0  \r\n",
      "prompt-toolkit            3.0.8                      py_0    conda-forge\r\n",
      "protobuf                  3.14.0           py37h23ab428_1  \r\n",
      "psutil                    5.8.0                    pypi_0    pypi\r\n",
      "ptyprocess                0.7.0              pyhd3eb1b0_2  \r\n",
      "py                        1.10.0                   pypi_0    pypi\r\n",
      "py-xgboost                0.90             py37hb1e8313_1    anaconda\r\n",
      "pycparser                 2.20               pyh9f0ad1d_2    conda-forge\r\n",
      "pydantic                  1.7.3                    pypi_0    pypi\r\n",
      "pydotplus                 2.0.2                    py37_1  \r\n",
      "pygments                  2.7.4              pyhd3eb1b0_0  \r\n",
      "pyod                      0.8.6              pyh44b312d_0    conda-forge\r\n",
      "pyopenssl                 20.0.1             pyhd8ed1ab_0    conda-forge\r\n",
      "pyparsing                 2.4.7              pyhd3eb1b0_0  \r\n",
      "pyrsistent                0.17.3           py37haf1e3a3_0    anaconda\r\n",
      "pysocks                   1.7.1                    py37_0    conda-forge\r\n",
      "pytest                    6.2.2                    pypi_0    pypi\r\n",
      "python                    3.7.9                h26836e1_0    anaconda\r\n",
      "python-dateutil           2.8.1              pyhd3eb1b0_0  \r\n",
      "python-dotenv             0.15.0             pyhd8ed1ab_0    conda-forge\r\n",
      "python-graphviz           0.16                     pypi_0    pypi\r\n",
      "python_abi                3.7                     1_cp37m    conda-forge\r\n",
      "pytz                      2021.1             pyhd3eb1b0_0  \r\n",
      "pyyaml                    5.4.1                    pypi_0    pypi\r\n",
      "pyzmq                     20.0.0           py37h23ab428_1  \r\n",
      "readline                  8.1                  h9ed2024_0  \r\n",
      "requests                  2.25.1             pyhd3deb0d_0    conda-forge\r\n",
      "scikit-learn              0.24.1                   pypi_0    pypi\r\n",
      "scipy                     1.6.0            py37h2515648_0  \r\n",
      "seaborn                   0.11.1             pyhd3eb1b0_0  \r\n",
      "send2trash                1.5.0              pyhd3eb1b0_1  \r\n",
      "setuptools                50.3.0           py37h0dc7051_1    anaconda\r\n",
      "six                       1.15.0                     py_0    anaconda\r\n",
      "smart-open                3.0.0                    pypi_0    pypi\r\n",
      "spacy                     3.0.1                    pypi_0    pypi\r\n",
      "spacy-legacy              3.0.1                    pypi_0    pypi\r\n",
      "sqlalchemy                1.3.23                   pypi_0    pypi\r\n",
      "sqlite                    3.33.0               hffcf06c_0    anaconda\r\n",
      "sqlparse                  0.4.1                    pypi_0    pypi\r\n",
      "srsly                     2.4.0                    pypi_0    pypi\r\n",
      "statsmodels               0.12.0           py37haf1e3a3_0  \r\n",
      "suod                      0.0.6                    pypi_0    pypi\r\n",
      "tensorboard               2.0.0              pyhb38c66f_1  \r\n",
      "tensorflow                2.0.0           mkl_py37hda344b4_0  \r\n",
      "tensorflow-base           2.0.0           mkl_py37h66b1bf0_0  \r\n",
      "tensorflow-estimator      2.0.0              pyh2649769_0  \r\n",
      "termcolor                 1.1.0            py37hecd8cb5_1  \r\n",
      "terminado                 0.9.2            py37hecd8cb5_0  \r\n",
      "testpath                  0.4.4              pyhd3eb1b0_0  \r\n",
      "thinc                     8.0.1                    pypi_0    pypi\r\n",
      "threadpoolctl             2.1.0              pyh5ca1d4c_0  \r\n",
      "tk                        8.6.10               hb0a8c7a_0    conda-forge\r\n",
      "toml                      0.10.2                   pypi_0    pypi\r\n",
      "torch                     1.7.1                    pypi_0    pypi\r\n",
      "torchvision               0.8.2                    pypi_0    pypi\r\n",
      "tornado                   6.0.4            py37h1de35cc_1    anaconda\r\n",
      "tqdm                      4.56.0             pyhd8ed1ab_0    conda-forge\r\n",
      "traitlets                 5.0.5              pyhd3eb1b0_0  \r\n",
      "typer                     0.3.2                    pypi_0    pypi\r\n",
      "typing-extensions         3.7.4.3                  pypi_0    pypi\r\n",
      "urllib3                   1.26.3             pyhd8ed1ab_0    conda-forge\r\n",
      "wasabi                    0.8.2                    pypi_0    pypi\r\n",
      "wcwidth                   0.2.5                      py_0    anaconda\r\n",
      "webencodings              0.5.1                    py37_1    anaconda\r\n",
      "werkzeug                  1.0.1              pyhd3eb1b0_0  \r\n",
      "wget                      3.2                      pypi_0    pypi\r\n",
      "wheel                     0.36.2             pyhd3eb1b0_0  \r\n",
      "wrapt                     1.12.1           py37h1de35cc_1  \r\n",
      "xlrd                      2.0.1              pyhd3eb1b0_0  \r\n",
      "xz                        5.2.5                h1de35cc_0    anaconda\r\n",
      "zeromq                    4.3.3                hb1e8313_3    anaconda\r\n",
      "zipp                      3.4.0              pyhd3eb1b0_0  \r\n",
      "zlib                      1.2.11               h1de35cc_3    anaconda\r\n",
      "zstd                      1.4.5                h41d2c2f_0    anaconda\r\n"
     ]
    }
   ],
   "source": [
    "# Confirm all the right libraries are present\n",
    "# This is an important step because there's a good chance\n",
    "# that for some pckaes where you use pip or pip3 install\n",
    "# they could download to the wrong directory if you're not\n",
    "# using the right pip executable\n",
    "\n",
    "!conda list"
   ]
  },
  {
   "cell_type": "code",
   "execution_count": 4,
   "metadata": {},
   "outputs": [
    {
     "name": "stdout",
     "output_type": "stream",
     "text": [
      "/Users/mikikobazeley/Github/personal/MMBazel/Wardrobe-Recommender/notebooks/Step2_EDA\r\n"
     ]
    }
   ],
   "source": [
    "# Confirm path of working directory\n",
    "!pwd "
   ]
  },
  {
   "cell_type": "markdown",
   "metadata": {},
   "source": [
    "<hr style=\"border-top: 5px solid black; margin-top: 1px; margin-bottom: 1px\"></hr>\n",
    "\n",
    "# <span style='background :red' > Step 2: Download the DeepFashion Dataset from GDrive</span> "
   ]
  },
  {
   "cell_type": "markdown",
   "metadata": {},
   "source": [
    "⚠️ Best way is to download the Google Drive folder you want (in this case, \"Category and Attribute Prediction Benchmark\") as a zipped folder and then unzip to an external (as opposed to locally). The size will kill Jupyter locally and massively slow down you computer if you don't have enough memory.\n",
    "\n",
    "💡 Make sure to download the files manually -- Google Drive doesn't allow programmatically accessing the download link anymore: https://drive.google.com/drive/folders/0B7EVK8r0v71pWGplNFhjc01NbzQ?usp=sharing"
   ]
  },
  {
   "cell_type": "markdown",
   "metadata": {},
   "source": [
    "## <span style='background :orange' > Check Datasets Downloaded Properly </span> "
   ]
  },
  {
   "cell_type": "code",
   "execution_count": 5,
   "metadata": {},
   "outputs": [
    {
     "name": "stdout",
     "output_type": "stream",
     "text": [
      "\u001b[30m\u001b[43mCategory_and_Attribute_Prediction_Benchmark\u001b[m\u001b[m\r\n"
     ]
    }
   ],
   "source": [
    "# Note: I chose to download everything to an external\n",
    "# First check that we have a folder for the Category & Attribute datasets\n",
    "# If not create using:\n",
    "\n",
    "#!mkdir <path-to-DeepFashion-Folder-on-your-external>/Category_and_Attribute_Prediction_Benchmark\n",
    "!ls /Volumes/MiniGator/Projects/Datasets/DeepFashion"
   ]
  },
  {
   "cell_type": "code",
   "execution_count": 6,
   "metadata": {},
   "outputs": [
    {
     "name": "stdout",
     "output_type": "stream",
     "text": [
      "\u001b[30m\u001b[43mAnno_coarse\u001b[m\u001b[m/ \u001b[30m\u001b[43mAnno_fine\u001b[m\u001b[m/   \u001b[30m\u001b[43mEval\u001b[m\u001b[m/        \u001b[30m\u001b[43mImages\u001b[m\u001b[m/\r\n"
     ]
    }
   ],
   "source": [
    "# List files, marking whic ones are files vs folders\n",
    "\n",
    "!ls -F /Volumes/MiniGator/Projects/Datasets/DeepFashion/Category_and_Attribute_Prediction_Benchmark"
   ]
  },
  {
   "cell_type": "code",
   "execution_count": 7,
   "metadata": {},
   "outputs": [
    {
     "name": "stdout",
     "output_type": "stream",
     "text": [
      "\u001b[30m\u001b[43mimg\u001b[m\u001b[m/             \u001b[31mimg.zip\u001b[m\u001b[m*         \u001b[30m\u001b[43mimg_highres\u001b[m\u001b[m/     \u001b[31mimg_highres.zip\u001b[m\u001b[m*\r\n"
     ]
    }
   ],
   "source": [
    "# Check in the images folder\n",
    "\n",
    "!ls -F /Volumes/MiniGator/Projects/Datasets/DeepFashion/Category_and_Attribute_Prediction_Benchmark/Images"
   ]
  },
  {
   "cell_type": "markdown",
   "metadata": {},
   "source": [
    "## <span style='background :orange' > Unzip files </span> "
   ]
  },
  {
   "cell_type": "code",
   "execution_count": 8,
   "metadata": {},
   "outputs": [],
   "source": [
    "# Unzip all files ending in .zip \n",
    "# to DeepFashion/Category_and_Attribute_Prediction_Benchmark folder\n",
    "# on external drive\n",
    "\n",
    "#<Uncomment below>\n",
    "#!unzip /Volumes/MiniGator/Projects/Datasets/DeepFashion/Category_and_Attribute_Prediction_Benchmark/\\*.zip -d /Volumes/MiniGator/Projects/Datasets/DeepFashion/Category_and_Attribute_Prediction_Benchmark"
   ]
  },
  {
   "cell_type": "code",
   "execution_count": 9,
   "metadata": {},
   "outputs": [],
   "source": [
    "# Remove the .zip files\n",
    "\n",
    "#<Uncomment below>\n",
    "#!rm /Volumes/MiniGator/Projects/Datasets/DeepFashion/Category_and_Attribute_Prediction_Benchmark/*.zip"
   ]
  },
  {
   "cell_type": "code",
   "execution_count": 10,
   "metadata": {},
   "outputs": [
    {
     "name": "stdout",
     "output_type": "stream",
     "text": [
      "\u001b[30m\u001b[43mAnno_coarse\u001b[m\u001b[m/ \u001b[30m\u001b[43mAnno_fine\u001b[m\u001b[m/   \u001b[30m\u001b[43mEval\u001b[m\u001b[m/        \u001b[30m\u001b[43mImages\u001b[m\u001b[m/\r\n"
     ]
    }
   ],
   "source": [
    "# Check existing files\n",
    "\n",
    "!ls -F /Volumes/MiniGator/Projects/Datasets/DeepFashion/Category_and_Attribute_Prediction_Benchmark"
   ]
  },
  {
   "cell_type": "code",
   "execution_count": 11,
   "metadata": {},
   "outputs": [],
   "source": [
    "# Now we'll unzip the images\n",
    "\n",
    "#<Uncomment below>\n",
    "#!unzip /Volumes/MiniGator/Projects/Datasets/DeepFashion/Category_and_Attribute_Prediction_Benchmark/Images/img.zip -d /Volumes/MiniGator/Projects/Datasets/DeepFashion/Category_and_Attribute_Prediction_Benchmark/Images/"
   ]
  },
  {
   "cell_type": "code",
   "execution_count": 12,
   "metadata": {},
   "outputs": [],
   "source": [
    "# Now we'll unzip the images\n",
    "\n",
    "#<Uncomment below>\n",
    "#!unzip /Volumes/MiniGator/Projects/Datasets/DeepFashion/Category_and_Attribute_Prediction_Benchmark/Images/img_highres.zip -d /Volumes/MiniGator/Projects/Datasets/DeepFashion/Category_and_Attribute_Prediction_Benchmark/Images/"
   ]
  },
  {
   "cell_type": "markdown",
   "metadata": {},
   "source": [
    "## <span style='background :orange' > Let's confirm number of images 🧙‍♀️ 📸 </span> "
   ]
  },
  {
   "cell_type": "code",
   "execution_count": 13,
   "metadata": {},
   "outputs": [
    {
     "name": "stdout",
     "output_type": "stream",
     "text": [
      "    5620\r\n"
     ]
    }
   ],
   "source": [
    "# Let's get count number of folders of high res images\n",
    "!ls /Volumes/MiniGator/Projects/Datasets/DeepFashion/Category_and_Attribute_Prediction_Benchmark/Images/img_highres | wc -l"
   ]
  },
  {
   "cell_type": "code",
   "execution_count": 14,
   "metadata": {},
   "outputs": [
    {
     "name": "stdout",
     "output_type": "stream",
     "text": [
      "    4807\r\n"
     ]
    }
   ],
   "source": [
    "# Let's get count number of folders of regular res images\n",
    "!ls /Volumes/MiniGator/Projects/Datasets/DeepFashion/Category_and_Attribute_Prediction_Benchmark/Images/img | wc -l"
   ]
  },
  {
   "cell_type": "markdown",
   "metadata": {},
   "source": [
    "<hr style=\"border-top: 5px solid black; margin-top: 1px; margin-bottom: 1px\"></hr>\n",
    "\n",
    "# <span style='background :red' > Step 3: Use CLI to start initial exploration 🔬  </span> "
   ]
  },
  {
   "cell_type": "markdown",
   "metadata": {},
   "source": [
    "We want to understand:\n",
    "\n",
    "☑️ The data repository structure\n",
    "\n",
    "☑️ Number of files, types of files\n",
    "\n",
    "☑️ Type of information being captured & how it's represented \n",
    "\n",
    "\n",
    "\n",
    "<span style='background :yellow' > 💡 Given the size of the dataset, doing initial inspection with shell is fast & easy.\n",
    "No need to break Jupyter before even getting started.  </span> "
   ]
  },
  {
   "cell_type": "markdown",
   "metadata": {},
   "source": [
    "## <span style='background :orange' > Let's get into the text files 📒 for the Anno_coarse repo </span> "
   ]
  },
  {
   "cell_type": "code",
   "execution_count": 15,
   "metadata": {},
   "outputs": [
    {
     "name": "stdout",
     "output_type": "stream",
     "text": [
      "\u001b[31mlist_attr_cloth.txt\u001b[m\u001b[m*     \u001b[31mlist_bbox.txt\u001b[m\u001b[m*           \u001b[31mlist_category_img.txt\u001b[m\u001b[m*\r\n",
      "\u001b[31mlist_attr_img.txt\u001b[m\u001b[m*       \u001b[31mlist_category_cloth.txt\u001b[m\u001b[m* \u001b[31mlist_landmarks.txt\u001b[m\u001b[m*\r\n"
     ]
    }
   ],
   "source": [
    "!ls -F /Volumes/MiniGator/Projects/Datasets/DeepFashion/Category_and_Attribute_Prediction_Benchmark/Anno_coarse/"
   ]
  },
  {
   "cell_type": "markdown",
   "metadata": {},
   "source": [
    "### <span style='background :yellow' > 📙  File no.1: list_attr_cloth.txt  </span> \n",
    "\n",
    "---------------------------------------------------\n",
    "📝 Notes according to dataset README.txt:\n",
    "\n",
    "--------------- list_attr_cloth.txt --------------\n",
    "\n",
    "* First Row: number of attributes\n",
    "* Second Row: entry names\n",
    "\n",
    "Rest of the Rows: [attribute name] [attribute type]\n",
    "    \n",
    "\n",
    "\n",
    "Notes:\n",
    "1. In attribute type, \"1\" represents texture-related attributes, \"2\" represents fabric-related attributes, \"3\" represents shape-related attributes, \"4\" represents part-related attributes, \"5\" represents style-related attributes;\n",
    "2. The order of attribute labels accords with the order of attribute names;\n",
    "3. In attribute labels, \"1\" represents positive while \"-1\" represents negative, '0' represents unknown;\n",
    "4. Attribute prediction is treated as a multi-label tagging problem.\n"
   ]
  },
  {
   "cell_type": "code",
   "execution_count": 16,
   "metadata": {},
   "outputs": [
    {
     "name": "stdout",
     "output_type": "stream",
     "text": [
      "1000\r\n",
      "attribute_name  attribute_type\r\n",
      "a-line                       3\r\n",
      "abstract                     1\r\n",
      "abstract chevron             1\r\n",
      "abstract chevron print       1\r\n",
      "abstract diamond             1\r\n",
      "abstract floral              1\r\n",
      "abstract floral print        1\r\n",
      "abstract geo                 1\r\n"
     ]
    }
   ],
   "source": [
    "# Let preview file: list_attr_cloth.txt\n",
    "!head -n 10 /Volumes/MiniGator/Projects/Datasets/DeepFashion/Category_and_Attribute_Prediction_Benchmark/Anno_coarse/list_attr_cloth.txt"
   ]
  },
  {
   "cell_type": "code",
   "execution_count": 17,
   "metadata": {
    "scrolled": true
   },
   "outputs": [
    {
     "name": "stdout",
     "output_type": "stream",
     "text": [
      "zeppelin                     5\r\n",
      "zig                          1\r\n",
      "zigzag                       1\r\n",
      "zip                          4\r\n",
      "zip-front                    4\r\n",
      "zip-pocket                   4\r\n",
      "zip-up                       4\r\n",
      "zipped                       4\r\n",
      "zipper                       4\r\n",
      "zippered                     4\r\n"
     ]
    }
   ],
   "source": [
    "!tail -n 10 /Volumes/MiniGator/Projects/Datasets/DeepFashion/Category_and_Attribute_Prediction_Benchmark/Anno_coarse/list_attr_cloth.txt"
   ]
  },
  {
   "cell_type": "markdown",
   "metadata": {},
   "source": [
    "### <span style='background :yellow' > 📙  File no.2: list_attr_img.txt  </span> \n",
    "\n",
    "---------------------------------------------------\n",
    "📝 Notes according to dataset README.txt:\n",
    "\n",
    "--------------- list_attr_img.txt --------------\n",
    "\n",
    "* First Row: number of images\n",
    "* Second Row: entry names\n",
    "\n",
    "Rest of the Rows: [image name] [attribute labels]\n",
    "    \n",
    "\n",
    "\n",
    "Notes:\n",
    "1. In attribute type, \"1\" represents texture-related attributes, \"2\" represents fabric-related attributes, \"3\" represents shape-related attributes, \"4\" represents part-related attributes, \"5\" represents style-related attributes;\n",
    "2. The order of attribute labels accords with the order of attribute names;\n",
    "3. In attribute labels, \"1\" represents positive while \"-1\" represents negative, '0' represents unknown;\n",
    "4. Attribute prediction is treated as a multi-label tagging problem."
   ]
  },
  {
   "cell_type": "code",
   "execution_count": 18,
   "metadata": {},
   "outputs": [
    {
     "name": "stdout",
     "output_type": "stream",
     "text": [
      "289222\r\n",
      "image_name  attribute_labels\r\n",
      "img/Sheer_Pleated-Front_Blouse/img_00000001.jpg                        -1 -1 -1 -1 -1 -1 -1 -1 -1 -1 -1 -1 -1 -1 -1 -1 -1 -1 -1 -1 -1 -1 -1 -1 -1 -1 -1 -1 -1 -1 -1 -1 -1 -1 -1 -1 -1 -1 -1 -1 -1 -1 -1 -1 -1 -1 -1 -1 -1 -1 -1 -1 -1 -1 -1 -1 -1 -1 -1 -1 -1 -1 -1 -1 -1 -1 -1 -1 -1 -1 -1 -1 -1 -1 -1 -1 -1 -1 -1 -1 -1 -1 -1 -1 -1 -1 -1 -1 -1 -1 -1 -1 -1 -1 -1 -1 -1 -1 -1 -1 -1 -1 -1 -1 -1 -1 -1 -1 -1 -1 -1 -1 -1 -1 -1 -1 -1 -1 -1 -1 -1 -1 -1 -1 -1 -1 -1 -1 -1 -1 -1 -1 -1 -1 -1 -1 -1 -1 -1 -1 -1 -1 -1 -1 -1 -1 -1 -1 -1 -1 -1 -1 -1 -1 -1 -1 -1 -1 -1 -1 -1 -1 -1 -1 -1 -1 -1 -1 -1 -1 -1 -1 -1 -1 -1 -1 -1 -1 -1 -1 -1 -1 -1 -1 -1 -1 -1 -1 -1 -1 -1 -1 -1 -1 -1 -1 -1 -1 -1 -1 -1 -1 -1 -1 -1 -1 -1 -1 -1 -1 -1 -1 -1 -1 -1 -1 -1 -1 -1 -1 -1 -1 -1 -1 -1 -1 -1 -1 -1 -1 -1 -1 -1 -1 -1 -1 -1 -1 -1 -1 -1 -1 -1 -1 -1 -1 -1 -1 -1 -1 -1 -1 -1 -1 -1 -1 -1 -1 -1 -1 -1 -1 -1 -1 -1 -1 -1 -1 -1 -1 -1 -1 -1 -1 -1 -1 -1 -1 -1 -1 -1 -1 -1 -1 -1 -1 -1 -1 -1 -1 -1 -1 -1 -1 -1 -1 -1 -1 -1 -1 -1 -1 -1 -1 -1 -1 -1 -1 -1 -1 -1 -1 -1 -1 -1 -1 -1 -1 -1 -1 -1 -1 -1 -1 -1 -1 -1 -1 -1 -1 -1 -1 -1 -1 -1 -1 -1 -1 -1 -1 -1 -1 -1 -1 -1 -1 -1 -1 -1 -1 -1 -1 -1 -1 -1 -1 -1 -1 -1 -1 -1 -1 -1 -1 -1 -1 -1 -1 -1 -1 -1 -1 -1 -1 -1 -1 -1 -1 -1 -1 -1 -1 -1 -1 -1 -1 -1 -1 -1 -1 -1 -1 -1 -1 -1 -1 -1 -1 -1 -1 -1 -1 -1 -1 -1 -1 -1 -1 -1 -1 -1 -1 -1 -1 -1 -1 -1 -1 -1 -1 -1 -1 -1 -1 -1 -1 -1 -1 -1 -1 -1 -1 -1 -1 -1 -1 -1 -1 -1 -1 -1 -1 -1 -1 -1 -1 -1 -1 -1 -1 -1 -1 -1 -1 -1 -1 -1 -1 -1 -1 -1 -1 -1 -1 -1 -1 -1 -1 -1 -1 -1 -1 -1 -1 -1 -1 -1 -1 -1 -1 -1 -1 -1 -1 -1 -1 -1 -1 -1 -1 -1 -1 -1 -1 -1 -1 -1 -1 -1 -1 -1 -1 -1 -1 -1 -1 -1 -1 -1 -1 -1 -1 -1 -1 -1 -1 -1 -1 -1 -1 -1 -1 -1 -1 -1 -1 -1 -1 -1 -1 -1 -1 -1 -1 -1 -1 -1 -1 -1 -1 -1 -1 -1 -1 -1 -1 -1 -1 -1 -1 -1 -1 -1 -1 -1 -1 -1 -1 -1 -1 -1 -1 -1 -1 -1 -1 -1 -1 -1 -1 -1 -1 -1 -1 -1 -1 -1 -1 -1 -1 -1 -1 -1 -1 -1 -1 -1 -1 -1 -1 -1 -1 -1 -1 -1 -1 -1 -1 -1 -1 -1 -1 -1 -1 -1 -1 -1 -1 -1 -1 -1 -1 -1 -1 -1 -1 -1 -1 -1 -1 -1 -1 -1 -1 -1 -1 -1 -1 -1 -1 -1 -1 -1 -1 -1 -1 -1 -1 -1 -1 -1 -1 -1 -1 -1 -1 -1 -1 -1 -1 -1 -1 -1 -1 -1 -1 -1 -1 -1 -1 -1 -1 -1 -1 -1 -1 -1 -1 -1 -1 -1 -1 -1 -1 -1 -1 -1 -1 -1 -1 -1 -1 -1 -1 -1 -1 -1 -1 -1 -1 -1 -1 -1 -1 -1 -1 -1 -1 -1 -1 -1 -1 -1 -1 -1 -1 -1 -1 -1 -1 -1 -1 -1 -1 -1 -1 -1  1 -1 -1 -1 -1 -1 -1 -1 -1 -1 -1 -1 -1 -1 -1 -1 -1 -1 -1 -1 -1 -1 -1 -1 -1 -1 -1 -1 -1 -1 -1 -1 -1 -1 -1 -1 -1 -1 -1 -1 -1 -1 -1 -1 -1 -1 -1 -1 -1 -1 -1 -1 -1 -1 -1 -1 -1 -1 -1 -1 -1 -1 -1 -1 -1 -1 -1 -1 -1 -1 -1 -1 -1 -1 -1 -1 -1 -1 -1 -1 -1 -1 -1 -1 -1 -1 -1 -1 -1 -1 -1 -1 -1 -1 -1 -1 -1 -1 -1 -1 -1  1 -1 -1 -1 -1 -1 -1 -1 -1 -1 -1 -1 -1 -1 -1 -1 -1 -1 -1 -1 -1 -1 -1 -1 -1 -1 -1 -1 -1 -1 -1 -1 -1 -1 -1 -1 -1 -1 -1 -1 -1 -1 -1 -1 -1 -1 -1 -1 -1 -1 -1 -1 -1 -1 -1 -1 -1 -1 -1 -1 -1 -1 -1 -1 -1 -1 -1 -1 -1 -1 -1 -1 -1 -1 -1 -1 -1 -1 -1 -1 -1 -1 -1 -1 -1 -1 -1 -1 -1 -1 -1 -1 -1 -1 -1 -1 -1 -1 -1 -1 -1 -1 -1 -1 -1 -1 -1 -1 -1 -1 -1 -1 -1 -1 -1 -1 -1 -1 -1 -1 -1 -1 -1 -1 -1 -1 -1 -1 -1 -1 -1 -1 -1 -1 -1 -1 -1 -1 -1 -1 -1 -1 -1 -1 -1 -1 -1 -1 -1 -1 -1 -1 -1 -1 -1 -1 -1 -1 -1 -1 -1 -1 -1 -1 -1 -1 -1 -1 -1 -1 -1 -1 -1 -1 -1 -1 -1 -1 -1 -1 -1 -1\r\n"
     ]
    }
   ],
   "source": [
    "# Let preview file: list_attr_img.tx\n",
    "!head -n 3 /Volumes/MiniGator/Projects/Datasets/DeepFashion/Category_and_Attribute_Prediction_Benchmark/Anno_coarse/list_attr_img.txt"
   ]
  },
  {
   "cell_type": "code",
   "execution_count": 19,
   "metadata": {},
   "outputs": [
    {
     "name": "stdout",
     "output_type": "stream",
     "text": [
      "img/Paisley_Print_Babydoll_Dress/img_00000052.jpg                      -1 -1 -1 -1 -1 -1 -1 -1 -1 -1 -1 -1 -1 -1 -1 -1 -1 -1 -1 -1 -1 -1 -1 -1 -1 -1 -1 -1 -1 -1  1 -1 -1 -1 -1 -1 -1 -1 -1 -1 -1 -1 -1 -1 -1 -1 -1 -1 -1 -1 -1 -1 -1 -1 -1 -1 -1 -1 -1 -1 -1 -1 -1 -1 -1 -1 -1 -1 -1 -1 -1 -1 -1 -1 -1 -1 -1 -1 -1 -1 -1 -1 -1 -1 -1 -1 -1 -1 -1 -1 -1 -1 -1 -1 -1 -1 -1 -1 -1 -1 -1 -1 -1 -1 -1 -1 -1 -1 -1 -1 -1 -1 -1 -1 -1 -1 -1 -1 -1 -1 -1 -1 -1 -1 -1 -1 -1 -1 -1 -1 -1 -1 -1 -1 -1 -1 -1 -1 -1 -1 -1 -1 -1 -1 -1 -1 -1 -1 -1 -1 -1 -1 -1 -1 -1 -1 -1 -1 -1 -1 -1 -1 -1 -1 -1 -1 -1 -1 -1 -1 -1 -1 -1 -1 -1 -1 -1 -1 -1 -1 -1 -1 -1 -1 -1 -1 -1 -1 -1 -1 -1 -1 -1 -1 -1 -1 -1 -1 -1 -1 -1 -1 -1 -1 -1 -1 -1 -1 -1 -1 -1 -1 -1 -1 -1 -1 -1 -1 -1 -1 -1 -1 -1 -1 -1 -1 -1 -1 -1 -1 -1 -1 -1 -1 -1 -1 -1 -1 -1 -1 -1 -1 -1 -1 -1 -1 -1 -1 -1 -1 -1 -1 -1 -1 -1 -1 -1 -1 -1 -1 -1 -1 -1 -1 -1 -1 -1 -1 -1 -1 -1 -1 -1 -1 -1 -1 -1 -1 -1 -1 -1 -1 -1 -1 -1 -1 -1 -1 -1 -1 -1 -1 -1 -1 -1 -1 -1 -1 -1 -1 -1 -1 -1 -1 -1 -1 -1 -1 -1 -1 -1 -1 -1 -1 -1 -1 -1 -1 -1 -1 -1 -1 -1 -1 -1 -1 -1 -1 -1 -1 -1 -1 -1 -1 -1 -1 -1 -1 -1 -1 -1 -1 -1 -1 -1 -1 -1 -1 -1 -1 -1 -1 -1 -1 -1 -1 -1 -1 -1 -1 -1 -1 -1 -1 -1 -1 -1 -1 -1 -1 -1 -1 -1 -1 -1 -1 -1 -1 -1 -1 -1 -1 -1 -1 -1 -1 -1 -1 -1 -1 -1 -1 -1 -1 -1 -1 -1 -1 -1 -1 -1 -1 -1 -1 -1 -1 -1 -1 -1 -1 -1 -1 -1 -1 -1 -1 -1 -1 -1 -1 -1 -1 -1 -1 -1 -1 -1 -1 -1 -1 -1 -1 -1 -1 -1 -1 -1 -1 -1 -1 -1 -1 -1 -1 -1 -1 -1 -1 -1 -1 -1 -1 -1 -1 -1 -1 -1 -1 -1 -1 -1 -1 -1 -1 -1 -1 -1 -1 -1 -1 -1 -1 -1 -1 -1 -1 -1 -1 -1 -1 -1 -1 -1 -1 -1 -1 -1 -1 -1 -1 -1 -1 -1 -1 -1 -1 -1 -1 -1 -1 -1 -1 -1 -1 -1 -1 -1 -1 -1 -1 -1 -1 -1 -1 -1 -1 -1 -1 -1 -1 -1 -1 -1 -1 -1 -1 -1 -1 -1 -1 -1 -1 -1 -1 -1 -1 -1 -1 -1 -1 -1 -1 -1 -1 -1 -1 -1 -1 -1 -1 -1 -1 -1 -1 -1 -1 -1 -1 -1 -1 -1 -1 -1 -1 -1 -1 -1 -1 -1 -1 -1 -1 -1 -1 -1 -1 -1 -1 -1 -1 -1 -1 -1 -1 -1 -1 -1 -1 -1 -1 -1 -1 -1 -1 -1 -1 -1 -1 -1 -1 -1 -1 -1 -1 -1 -1 -1 -1 -1 -1 -1 -1 -1 -1 -1 -1 -1 -1 -1 -1 -1 -1 -1 -1 -1 -1 -1 -1 -1 -1 -1 -1 -1 -1 -1 -1 -1 -1 -1 -1 -1 -1 -1 -1 -1 -1 -1 -1 -1 -1 -1 -1 -1 -1 -1 -1 -1 -1 -1 -1 -1 -1 -1 -1 -1 -1 -1 -1 -1 -1 -1 -1 -1 -1 -1 -1 -1 -1 -1 -1 -1  1 -1 -1 -1 -1 -1 -1 -1 -1 -1 -1 -1 -1 -1 -1 -1 -1 -1 -1 -1 -1 -1 -1 -1 -1 -1 -1 -1 -1 -1 -1 -1 -1 -1 -1 -1 -1 -1 -1 -1 -1 -1 -1 -1 -1 -1 -1 -1 -1 -1 -1 -1 -1 -1 -1 -1 -1 -1 -1 -1 -1 -1 -1 -1 -1 -1 -1 -1 -1 -1 -1 -1 -1 -1 -1 -1 -1 -1 -1 -1 -1 -1 -1 -1 -1 -1 -1 -1 -1 -1 -1 -1 -1 -1 -1 -1 -1 -1 -1 -1 -1 -1 -1 -1 -1 -1 -1 -1 -1 -1 -1 -1 -1 -1 -1 -1 -1 -1 -1 -1 -1 -1 -1 -1 -1 -1 -1 -1 -1 -1 -1 -1 -1 -1 -1 -1 -1 -1 -1 -1 -1 -1 -1 -1 -1 -1 -1 -1 -1 -1 -1 -1 -1 -1 -1 -1 -1 -1 -1 -1 -1 -1 -1 -1 -1 -1 -1 -1 -1 -1 -1 -1 -1 -1 -1 -1 -1 -1 -1 -1 -1 -1 -1 -1 -1 -1 -1 -1 -1 -1 -1 -1 -1 -1 -1 -1 -1 -1 -1 -1 -1 -1 -1 -1 -1 -1 -1 -1 -1 -1 -1 -1 -1 -1 -1 -1 -1 -1 -1 -1 -1 -1 -1 -1 -1 -1 -1 -1 -1 -1 -1 -1 -1 -1 -1 -1 -1 -1 -1 -1 -1 -1 -1 -1 -1 -1 -1 -1 -1 -1 -1 -1 -1 -1 -1 -1 -1 -1 -1 -1 -1 -1 -1 -1 -1 -1 -1 -1 -1 -1 -1 -1 -1 -1 -1 -1 -1 -1 -1 -1 -1 -1 -1 -1 -1 -1 -1 -1 -1 -1 -1 -1 -1 -1 -1 -1 -1 -1 -1 -1 -1 -1 -1 -1 -1 -1 -1 -1 -1 -1 -1 -1 -1 -1 -1 -1 -1 -1 -1\r\n",
      "img/Paisley_Print_Babydoll_Dress/img_00000053.jpg                      -1 -1 -1 -1 -1 -1 -1 -1 -1 -1 -1 -1 -1 -1 -1 -1 -1 -1 -1 -1 -1 -1 -1 -1 -1 -1 -1 -1 -1 -1  1 -1 -1 -1 -1 -1 -1 -1 -1 -1 -1 -1 -1 -1 -1 -1 -1 -1 -1 -1 -1 -1 -1 -1 -1 -1 -1 -1 -1 -1 -1 -1 -1 -1 -1 -1 -1 -1 -1 -1 -1 -1 -1 -1 -1 -1 -1 -1 -1 -1 -1 -1 -1 -1 -1 -1 -1 -1 -1 -1 -1 -1 -1 -1 -1 -1 -1 -1 -1 -1 -1 -1 -1 -1 -1 -1 -1 -1 -1 -1 -1 -1 -1 -1 -1 -1 -1 -1 -1 -1 -1 -1 -1 -1 -1 -1 -1 -1 -1 -1 -1 -1 -1 -1 -1 -1 -1 -1 -1 -1 -1 -1 -1 -1 -1 -1 -1 -1 -1 -1 -1 -1 -1 -1 -1 -1 -1 -1 -1 -1 -1 -1 -1 -1 -1 -1 -1 -1 -1 -1 -1 -1 -1 -1 -1 -1 -1 -1 -1 -1 -1 -1 -1 -1 -1 -1 -1 -1 -1 -1 -1 -1 -1 -1 -1 -1 -1 -1 -1 -1 -1 -1 -1 -1 -1 -1 -1 -1 -1 -1 -1 -1 -1 -1 -1 -1 -1 -1 -1 -1 -1 -1 -1 -1 -1 -1 -1 -1 -1 -1 -1 -1 -1 -1 -1 -1 -1 -1 -1 -1 -1 -1 -1 -1 -1 -1 -1 -1 -1 -1 -1 -1 -1 -1 -1 -1 -1 -1 -1 -1 -1 -1 -1 -1 -1 -1 -1 -1 -1 -1 -1 -1 -1 -1 -1 -1 -1 -1 -1 -1 -1 -1 -1 -1 -1 -1 -1 -1 -1 -1 -1 -1 -1 -1 -1 -1 -1 -1 -1 -1 -1 -1 -1 -1 -1 -1 -1 -1 -1 -1 -1 -1 -1 -1 -1 -1 -1 -1 -1 -1 -1 -1 -1 -1 -1 -1 -1 -1 -1 -1 -1 -1 -1 -1 -1 -1 -1 -1 -1 -1 -1 -1 -1 -1 -1 -1 -1 -1 -1 -1 -1 -1 -1 -1 -1 -1 -1 -1 -1 -1 -1 -1 -1 -1 -1 -1 -1 -1 -1 -1 -1 -1 -1 -1 -1 -1 -1 -1 -1 -1 -1 -1 -1 -1 -1 -1 -1 -1 -1 -1 -1 -1 -1 -1 -1 -1 -1 -1 -1 -1 -1 -1 -1 -1 -1 -1 -1 -1 -1 -1 -1 -1 -1 -1 -1 -1 -1 -1 -1 -1 -1 -1 -1 -1 -1 -1 -1 -1 -1 -1 -1 -1 -1 -1 -1 -1 -1 -1 -1 -1 -1 -1 -1 -1 -1 -1 -1 -1 -1 -1 -1 -1 -1 -1 -1 -1 -1 -1 -1 -1 -1 -1 -1 -1 -1 -1 -1 -1 -1 -1 -1 -1 -1 -1 -1 -1 -1 -1 -1 -1 -1 -1 -1 -1 -1 -1 -1 -1 -1 -1 -1 -1 -1 -1 -1 -1 -1 -1 -1 -1 -1 -1 -1 -1 -1 -1 -1 -1 -1 -1 -1 -1 -1 -1 -1 -1 -1 -1 -1 -1 -1 -1 -1 -1 -1 -1 -1 -1 -1 -1 -1 -1 -1 -1 -1 -1 -1 -1 -1 -1 -1 -1 -1 -1 -1 -1 -1 -1 -1 -1 -1 -1 -1 -1 -1 -1 -1 -1 -1 -1 -1 -1 -1 -1 -1 -1 -1 -1 -1 -1 -1 -1 -1 -1 -1 -1 -1 -1 -1 -1 -1 -1 -1 -1 -1 -1 -1 -1 -1 -1 -1 -1 -1 -1 -1 -1 -1 -1 -1 -1 -1 -1 -1 -1 -1 -1 -1 -1 -1 -1 -1 -1 -1 -1 -1 -1 -1 -1 -1 -1 -1 -1 -1 -1 -1 -1 -1 -1 -1 -1 -1 -1 -1 -1 -1 -1 -1 -1 -1 -1 -1 -1 -1 -1 -1 -1 -1 -1 -1 -1 -1 -1 -1 -1 -1 -1 -1 -1 -1 -1 -1 -1 -1 -1 -1 -1 -1 -1 -1 -1 -1 -1 -1 -1 -1 -1 -1 -1 -1 -1 -1  1  1 -1 -1 -1 -1 -1 -1 -1 -1 -1 -1 -1 -1 -1 -1 -1 -1 -1 -1 -1 -1 -1 -1 -1 -1 -1 -1 -1 -1 -1 -1 -1 -1 -1 -1 -1 -1 -1 -1 -1 -1 -1 -1 -1 -1 -1 -1 -1  1 -1 -1 -1 -1 -1 -1 -1 -1 -1 -1 -1 -1 -1 -1 -1 -1 -1 -1 -1 -1 -1 -1 -1 -1 -1 -1 -1 -1 -1 -1 -1 -1 -1 -1 -1 -1 -1 -1 -1 -1 -1 -1 -1 -1 -1 -1 -1 -1 -1 -1 -1 -1 -1 -1 -1 -1 -1 -1 -1 -1 -1 -1 -1 -1 -1 -1 -1 -1 -1 -1 -1 -1 -1 -1 -1 -1 -1 -1 -1 -1 -1 -1 -1 -1 -1 -1 -1 -1 -1 -1 -1 -1 -1 -1 -1 -1 -1 -1 -1 -1 -1 -1 -1 -1 -1 -1 -1 -1 -1 -1 -1 -1 -1 -1 -1 -1 -1 -1 -1 -1 -1 -1 -1 -1 -1 -1 -1 -1 -1 -1 -1 -1 -1 -1 -1 -1 -1 -1 -1 -1 -1 -1 -1 -1 -1 -1 -1 -1 -1 -1 -1 -1 -1 -1 -1 -1 -1 -1 -1 -1 -1 -1 -1 -1 -1 -1 -1 -1 -1 -1 -1 -1 -1 -1 -1 -1 -1 -1 -1 -1 -1 -1 -1 -1 -1 -1 -1 -1 -1 -1 -1 -1 -1 -1 -1 -1 -1 -1 -1 -1 -1 -1 -1 -1 -1 -1 -1 -1 -1 -1 -1 -1 -1 -1 -1 -1 -1 -1 -1 -1 -1 -1 -1 -1 -1 -1 -1 -1 -1 -1 -1 -1 -1 -1 -1 -1 -1 -1 -1 -1 -1 -1 -1 -1 -1 -1 -1 -1 -1 -1 -1 -1 -1 -1 -1 -1 -1 -1 -1 -1 -1 -1 -1 -1 -1 -1 -1 -1 -1\r\n",
      "img/Paisley_Print_Babydoll_Dress/img_00000054.jpg                      -1 -1 -1 -1 -1 -1 -1 -1 -1 -1 -1 -1 -1 -1 -1 -1 -1 -1 -1 -1 -1 -1 -1 -1 -1 -1 -1 -1 -1 -1  1 -1 -1 -1 -1 -1 -1 -1 -1 -1 -1 -1 -1 -1 -1 -1 -1 -1 -1 -1 -1 -1 -1 -1 -1 -1 -1 -1 -1 -1 -1 -1 -1 -1 -1 -1 -1 -1 -1 -1 -1 -1 -1 -1 -1 -1 -1 -1 -1 -1 -1 -1 -1 -1 -1 -1 -1 -1 -1 -1 -1 -1 -1 -1 -1 -1 -1 -1 -1 -1 -1 -1 -1 -1 -1 -1 -1 -1 -1 -1 -1 -1 -1 -1 -1 -1 -1 -1 -1 -1 -1 -1 -1 -1 -1 -1 -1 -1 -1 -1 -1 -1 -1 -1 -1 -1 -1 -1 -1 -1 -1 -1 -1 -1 -1 -1 -1 -1 -1 -1 -1 -1 -1 -1 -1 -1 -1 -1 -1 -1 -1 -1 -1 -1 -1 -1 -1 -1 -1 -1 -1 -1 -1 -1 -1 -1 -1 -1 -1 -1 -1 -1 -1 -1 -1 -1 -1 -1 -1 -1 -1 -1 -1 -1 -1 -1 -1 -1 -1 -1 -1 -1 -1 -1 -1 -1 -1 -1 -1 -1 -1 -1 -1 -1 -1 -1 -1 -1 -1 -1 -1 -1 -1 -1 -1 -1 -1 -1 -1 -1 -1 -1 -1 -1 -1 -1 -1 -1 -1 -1 -1 -1 -1 -1 -1 -1 -1 -1 -1 -1 -1 -1 -1 -1 -1 -1 -1 -1 -1 -1 -1 -1 -1 -1 -1 -1 -1 -1 -1 -1 -1 -1 -1 -1 -1 -1 -1 -1 -1 -1 -1 -1 -1 -1 -1 -1 -1 -1 -1 -1 -1 -1 -1 -1 -1 -1 -1 -1 -1 -1 -1 -1 -1 -1 -1 -1 -1 -1 -1 -1 -1 -1 -1 -1 -1 -1 -1 -1 -1 -1 -1 -1 -1 -1 -1 -1 -1 -1 -1 -1 -1 -1 -1 -1 -1 -1 -1 -1 -1 -1 -1 -1 -1 -1 -1 -1 -1 -1 -1 -1 -1 -1 -1 -1 -1 -1 -1 -1 -1 -1 -1 -1 -1 -1 -1 -1 -1 -1 -1 -1 -1 -1 -1 -1 -1 -1 -1 -1 -1 -1 -1 -1 -1 -1 -1 -1 -1 -1 -1 -1 -1 -1 -1 -1 -1 -1 -1 -1 -1 -1 -1 -1 -1 -1 -1 -1 -1 -1 -1 -1 -1 -1 -1 -1 -1 -1 -1 -1 -1 -1 -1 -1 -1 -1 -1 -1 -1 -1 -1 -1 -1 -1 -1 -1 -1 -1 -1 -1 -1 -1 -1 -1 -1 -1 -1 -1 -1 -1 -1 -1 -1 -1 -1 -1 -1 -1 -1 -1 -1 -1 -1 -1 -1 -1 -1 -1 -1 -1 -1 -1 -1 -1 -1 -1 -1 -1 -1 -1 -1 -1 -1 -1 -1 -1 -1 -1 -1 -1 -1 -1 -1 -1 -1 -1 -1 -1 -1 -1 -1 -1 -1 -1 -1 -1 -1 -1 -1 -1 -1 -1 -1 -1 -1 -1 -1 -1 -1 -1 -1 -1 -1 -1 -1 -1 -1 -1 -1 -1 -1 -1 -1 -1 -1 -1 -1 -1 -1 -1 -1 -1 -1 -1 -1 -1 -1 -1 -1 -1 -1 -1 -1 -1 -1 -1 -1 -1 -1 -1 -1 -1 -1 -1 -1 -1 -1 -1 -1 -1 -1 -1 -1 -1 -1 -1 -1 -1 -1 -1 -1 -1 -1 -1 -1 -1 -1 -1 -1 -1 -1 -1 -1 -1 -1 -1 -1 -1 -1 -1 -1 -1 -1 -1 -1 -1 -1 -1 -1 -1 -1 -1 -1 -1 -1 -1 -1 -1 -1 -1 -1 -1 -1 -1 -1 -1 -1 -1 -1 -1 -1 -1 -1 -1 -1 -1 -1 -1 -1 -1 -1 -1 -1 -1 -1 -1 -1 -1 -1 -1 -1 -1 -1 -1 -1 -1 -1 -1 -1 -1 -1 -1 -1 -1 -1 -1 -1 -1 -1 -1 -1 -1 -1 -1 -1 -1 -1 -1 -1 -1 -1 -1 -1  1 -1 -1 -1 -1 -1 -1 -1 -1 -1 -1 -1 -1 -1 -1 -1 -1 -1 -1 -1 -1 -1 -1 -1 -1 -1 -1 -1 -1 -1 -1 -1 -1 -1 -1 -1 -1 -1 -1 -1 -1 -1 -1 -1 -1 -1 -1 -1 -1 -1 -1 -1 -1 -1 -1 -1 -1 -1 -1 -1 -1 -1 -1 -1 -1 -1 -1 -1 -1 -1 -1 -1 -1 -1 -1 -1 -1 -1 -1  1 -1 -1 -1 -1 -1 -1 -1 -1 -1 -1 -1 -1 -1 -1 -1 -1 -1 -1 -1 -1 -1 -1 -1 -1 -1 -1 -1 -1 -1 -1 -1 -1 -1 -1 -1 -1 -1 -1 -1 -1 -1 -1 -1 -1 -1 -1 -1 -1 -1 -1 -1 -1 -1 -1 -1 -1 -1 -1 -1 -1 -1 -1 -1 -1 -1 -1 -1 -1 -1 -1 -1 -1 -1 -1 -1 -1 -1 -1 -1 -1 -1 -1 -1 -1 -1 -1 -1 -1 -1 -1 -1 -1 -1 -1 -1 -1 -1 -1 -1 -1 -1 -1 -1 -1 -1 -1 -1 -1 -1 -1 -1 -1 -1 -1 -1 -1 -1 -1 -1  1 -1 -1 -1 -1 -1 -1 -1 -1 -1 -1 -1 -1 -1 -1 -1 -1 -1 -1 -1 -1 -1 -1 -1 -1 -1 -1 -1 -1 -1 -1 -1 -1 -1 -1 -1 -1 -1 -1 -1 -1 -1 -1 -1 -1 -1 -1 -1 -1 -1 -1 -1 -1 -1 -1 -1 -1 -1 -1 -1 -1 -1 -1 -1 -1 -1 -1 -1 -1 -1 -1 -1 -1 -1 -1 -1 -1 -1 -1 -1 -1 -1 -1 -1 -1 -1 -1 -1 -1 -1 -1 -1 -1 -1 -1 -1 -1 -1 -1 -1 -1 -1 -1 -1 -1 -1 -1 -1 -1 -1 -1 -1 -1 -1 -1 -1 -1 -1 -1 -1\r\n"
     ]
    }
   ],
   "source": [
    "!tail -n 3 /Volumes/MiniGator/Projects/Datasets/DeepFashion/Category_and_Attribute_Prediction_Benchmark/Anno_coarse/list_attr_img.txt"
   ]
  },
  {
   "cell_type": "markdown",
   "metadata": {},
   "source": [
    "### <span style='background :yellow' > 📙  File no.3: list_category_cloth.txt </span> \n",
    "\n",
    "---------------------------------------------------\n",
    "📝 Notes according to dataset README.txt:\n",
    "\n",
    "--------------- list_category_cloth.txt --------------\n",
    "\n",
    "* First Row: number of categories\n",
    "* Second Row: entry names\n",
    "\n",
    "Rest of the Rows: [category name] [category type]\n",
    "    \n",
    "Notes:\n",
    "1. In category type, \"1\" represents upper-body clothes, \"2\" represents lower-body clothes, \"3\" represents full-body clothes;\n",
    "2. The order of category labels accords with the order of category names;\n",
    "3. In category labels, the number represents the category id in category names;\n",
    "4. For the clothing categories, \"Cape\", \"Nightdress\", \"Shirtdress\" and \"Sundress\" have been merged into \"Dress\";\n",
    "5. Category prediction is treated as a 1-of-K classification problem.\n"
   ]
  },
  {
   "cell_type": "code",
   "execution_count": 20,
   "metadata": {},
   "outputs": [
    {
     "name": "stdout",
     "output_type": "stream",
     "text": [
      "50\r\n",
      "category_name  category_type\r\n",
      "Anorak         1\r\n",
      "Blazer         1\r\n",
      "Blouse         1\r\n",
      "Bomber         1\r\n",
      "Button-Down    1\r\n",
      "Cardigan       1\r\n",
      "Flannel        1\r\n",
      "Halter         1\r\n"
     ]
    }
   ],
   "source": [
    "# Let preview file: list_attr_cloth.txt\n",
    "!head -n 10 /Volumes/MiniGator/Projects/Datasets/DeepFashion/Category_and_Attribute_Prediction_Benchmark/Anno_coarse/list_category_cloth.txt"
   ]
  },
  {
   "cell_type": "code",
   "execution_count": 21,
   "metadata": {
    "scrolled": false
   },
   "outputs": [
    {
     "name": "stdout",
     "output_type": "stream",
     "text": [
      "Dress          3\r\n",
      "Jumpsuit       3\r\n",
      "Kaftan         3\r\n",
      "Kimono         3\r\n",
      "Nightdress     3\r\n",
      "Onesie         3\r\n",
      "Robe           3\r\n",
      "Romper         3\r\n",
      "Shirtdress     3\r\n",
      "Sundress       3\r\n"
     ]
    }
   ],
   "source": [
    "!tail -n 10 /Volumes/MiniGator/Projects/Datasets/DeepFashion/Category_and_Attribute_Prediction_Benchmark/Anno_coarse/list_category_cloth.txt"
   ]
  },
  {
   "cell_type": "markdown",
   "metadata": {},
   "source": [
    "### <span style='background :yellow' > 📙  File no.4: list_category_img.txt </span> \n",
    "\n",
    "---------------------------------------------------\n",
    "📝 Notes according to dataset README.txt:\n",
    "\n",
    "--------------- list_category_img.txt --------------\n",
    "\n",
    "* First Row: number of images\n",
    "* Second Row: entry names\n",
    "\n",
    "Rest of the Rows: [image name] [category label]\n",
    "    \n",
    "Notes:\n",
    "1. In category type, \"1\" represents upper-body clothes, \"2\" represents lower-body clothes, \"3\" represents full-body clothes;\n",
    "2. The order of category labels accords with the order of category names;\n",
    "3. In category labels, the number represents the category id in category names;\n",
    "4. For the clothing categories, \"Cape\", \"Nightdress\", \"Shirtdress\" and \"Sundress\" have been merged into \"Dress\";\n",
    "5. Category prediction is treated as a 1-of-K classification problem.\n"
   ]
  },
  {
   "cell_type": "code",
   "execution_count": 22,
   "metadata": {},
   "outputs": [
    {
     "name": "stdout",
     "output_type": "stream",
     "text": [
      "289222\r\n",
      "image_name  category_label\r\n",
      "img/Sheer_Pleated-Front_Blouse/img_00000001.jpg                        3\r\n",
      "img/Sheer_Pleated-Front_Blouse/img_00000002.jpg                        3\r\n",
      "img/Sheer_Pleated-Front_Blouse/img_00000003.jpg                        3\r\n",
      "img/Sheer_Pleated-Front_Blouse/img_00000004.jpg                        3\r\n",
      "img/Sheer_Pleated-Front_Blouse/img_00000005.jpg                        3\r\n",
      "img/Sheer_Pleated-Front_Blouse/img_00000006.jpg                        3\r\n",
      "img/Sheer_Pleated-Front_Blouse/img_00000007.jpg                        3\r\n",
      "img/Sheer_Pleated-Front_Blouse/img_00000008.jpg                        3\r\n"
     ]
    }
   ],
   "source": [
    "# Let preview file: list_attr_cloth.txt\n",
    "!head -n 10 /Volumes/MiniGator/Projects/Datasets/DeepFashion/Category_and_Attribute_Prediction_Benchmark/Anno_coarse/list_category_img.txt"
   ]
  },
  {
   "cell_type": "code",
   "execution_count": 23,
   "metadata": {
    "scrolled": true
   },
   "outputs": [
    {
     "name": "stdout",
     "output_type": "stream",
     "text": [
      "img/Paisley_Print_Babydoll_Dress/img_00000045.jpg                      41\r\n",
      "img/Paisley_Print_Babydoll_Dress/img_00000046.jpg                      41\r\n",
      "img/Paisley_Print_Babydoll_Dress/img_00000047.jpg                      41\r\n",
      "img/Paisley_Print_Babydoll_Dress/img_00000048.jpg                      41\r\n",
      "img/Paisley_Print_Babydoll_Dress/img_00000049.jpg                      41\r\n",
      "img/Paisley_Print_Babydoll_Dress/img_00000050.jpg                      41\r\n",
      "img/Paisley_Print_Babydoll_Dress/img_00000051.jpg                      41\r\n",
      "img/Paisley_Print_Babydoll_Dress/img_00000052.jpg                      41\r\n",
      "img/Paisley_Print_Babydoll_Dress/img_00000053.jpg                      41\r\n",
      "img/Paisley_Print_Babydoll_Dress/img_00000054.jpg                      41\r\n"
     ]
    }
   ],
   "source": [
    "!tail -n 10 /Volumes/MiniGator/Projects/Datasets/DeepFashion/Category_and_Attribute_Prediction_Benchmark/Anno_coarse/list_category_img.txt"
   ]
  },
  {
   "cell_type": "markdown",
   "metadata": {},
   "source": [
    "### <span style='background :yellow' > 📙  File no.5: list_landmarks.txt </span> \n",
    "\n",
    "---------------------------------------------------\n",
    "📝 Notes according to dataset README.txt:\n",
    "\n",
    "------------ list_landmarks.txt ------------\n",
    "\n",
    "First Row: number of images\n",
    "Second Row: entry names\n",
    "\n",
    "Rest of the Rows: [image name] [clothes type] [variation type] [landmark visibility 1] [landmark location x_1] [landmark location y_1], ... [landmark visibility 8] [landmark location x_8] [landmark location y_8>]\n",
    "\n",
    "---------------------------------------------------\n",
    "\n",
    "Notes:\n",
    "1. The order of landmark labels accords with the order of entry names;\n",
    "2. In clothes type, \"1\" represents upper-body clothes, \"2\" represents lower-body clothes, \"3\" represents full-body clothes. Upper-body clothes possess six fahsion landmarks, lower-body clothes possess four fashion landmarks, full-body clothes possess eight fashion landmarks;\n",
    "3. In variation type, \"1\" represents normal pose, \"2\" represents medium pose, \"3\" represents large pose, \"4\" represents medium zoom-in, \"5\" represents large zoom-in;\n",
    "4. In landmark visibility state, \"0\" represents visible, \"1\" represents invisible/occluded, \"2\" represents truncated/cut-off;\n",
    "5. For upper-body clothes, landmark annotations are listed in the order of [\"left collar\", \"right collar\", \"left sleeve\", \"right sleeve\", \"left hem\", \"right hem\"]; For lower-body clothes, landmark annotations are listed in the order of [\"left waistline\", \"right waistline\", \"left hem\", \"right hem\"]; For upper-body clothes, landmark annotations are listed in the order of [\"left collar\", \"right collar\", \"left sleeve\", \"right sleeve\", \"left waistline\", \"right waistline\", \"left hem\", \"right hem\"].\n"
   ]
  },
  {
   "cell_type": "code",
   "execution_count": 24,
   "metadata": {},
   "outputs": [
    {
     "name": "stdout",
     "output_type": "stream",
     "text": [
      "289222\r\n",
      "image_name  clothes_type  variation_type  landmark_visibility_1 landmark_location_x_1 landmark_location_y_1  landmark_visibility_2 landmark_location_x_2 landmark_location_y_2  landmark_visibility_3 landmark_location_x_3 landmark_location_y_3  landmark_visibility_4 landmark_location_x_4 landmark_location_y_4  landmark_visibility_5 landmark_location_x_5 landmark_location_y_5  landmark_visibility_6 landmark_location_x_6 landmark_location_y_6  landmark_visibility_7 landmark_location_x_7 landmark_location_y_7  landmark_visibility_8 landmark_location_x_8 landmark_location_y_8 \r\n",
      "img/Sheer_Pleated-Front_Blouse/img_00000001.jpg                         1  0 146 102  0 173 095  0 094 242  0 205 255  0 136 229  0 177 232 \r\n",
      "img/Sheer_Pleated-Front_Blouse/img_00000002.jpg                         1  0 107 067  0 122 067  0 079 078  0 140 091  0 106 150  0 134 152 \r\n",
      "img/Sheer_Pleated-Front_Blouse/img_00000003.jpg                         1  0 101 079  0 116 076  0 078 081  0 141 084  0 087 188  0 118 185 \r\n",
      "img/Sheer_Pleated-Front_Blouse/img_00000004.jpg                         1  0 096 074  0 113 072  0 067 171  0 148 171  0 100 148  0 120 148 \r\n",
      "img/Sheer_Pleated-Front_Blouse/img_00000005.jpg                         1  1 102 106  0 116 102  0 063 194  1 146 216  0 105 245  0 137 246 \r\n",
      "img/Sheer_Pleated-Front_Blouse/img_00000006.jpg                         1  0 118 084  0 142 081  0 070 205  0 184 203  0 111 225  0 143 223 \r\n",
      "img/Sheer_Pleated-Front_Blouse/img_00000007.jpg                         1  0 086 088  0 097 087  0 044 210  0 175 184  0 079 226  0 106 225 \r\n",
      "img/Sheer_Pleated-Front_Blouse/img_00000008.jpg                         1  0 144 089  0 161 088  0 092 227  0 177 230  0 125 212  0 161 212 \r\n"
     ]
    }
   ],
   "source": [
    "# Let preview file: list_attr_cloth.txt\n",
    "!head -n 10 /Volumes/MiniGator/Projects/Datasets/DeepFashion/Category_and_Attribute_Prediction_Benchmark/Anno_coarse/list_landmarks.txt"
   ]
  },
  {
   "cell_type": "code",
   "execution_count": 25,
   "metadata": {
    "scrolled": true
   },
   "outputs": [
    {
     "name": "stdout",
     "output_type": "stream",
     "text": [
      "img/Paisley_Print_Babydoll_Dress/img_00000045.jpg                       3  1 061 051  1 095 054  0 029 116  0 127 119  1 042 115  0 101 116  0 072 186  0 108 189 \r\n",
      "img/Paisley_Print_Babydoll_Dress/img_00000046.jpg                       3  1 118 073  0 180 074  1 118 112  0 177 109  0 107 165  0 189 161  0 098 278  0 222 264 \r\n",
      "img/Paisley_Print_Babydoll_Dress/img_00000047.jpg                       3  0 083 030  0 125 043  0 070 028  0 135 048  0 054 110  0 134 119  0 032 225  0 169 227 \r\n",
      "img/Paisley_Print_Babydoll_Dress/img_00000048.jpg                       3  0 099 102  0 130 105  0 055 135  0 159 147  0 079 181  0 151 175  0 088 293  0 148 292 \r\n",
      "img/Paisley_Print_Babydoll_Dress/img_00000049.jpg                       3  1 079 073  0 131 077  0 046 183  0 166 185  0 066 166  0 138 164  0 051 268  0 161 261 \r\n",
      "img/Paisley_Print_Babydoll_Dress/img_00000050.jpg                       3  0 101 026  1 185 028  0 062 123  0 223 104  0 098 150  0 197 144  2 000 000  2 000 000 \r\n",
      "img/Paisley_Print_Babydoll_Dress/img_00000051.jpg                       3  1 094 078  1 126 076  0 043 221  0 190 213  0 075 170  0 149 163  0 055 257  0 175 253 \r\n",
      "img/Paisley_Print_Babydoll_Dress/img_00000052.jpg                       3  0 063 059  1 102 057  0 036 083  0 124 086  0 055 135  0 114 124  0 051 220  0 127 213 \r\n",
      "img/Paisley_Print_Babydoll_Dress/img_00000053.jpg                       3  0 117 077  1 167 069  0 095 180  0 196 174  0 112 164  0 179 157  0 104 286  0 190 284 \r\n",
      "img/Paisley_Print_Babydoll_Dress/img_00000054.jpg                       3  1 099 084  1 141 082  0 059 209  0 174 198  0 082 173  0 156 168  1 075 275  0 160 271 \r\n"
     ]
    }
   ],
   "source": [
    "!tail -n 10 /Volumes/MiniGator/Projects/Datasets/DeepFashion/Category_and_Attribute_Prediction_Benchmark/Anno_coarse/list_landmarks.txt"
   ]
  },
  {
   "cell_type": "markdown",
   "metadata": {},
   "source": [
    "## <span style='background :orange' > Let's create 🐼 dataframes & start merging & analyzing </span> "
   ]
  },
  {
   "cell_type": "markdown",
   "metadata": {},
   "source": [
    "### <span style='background :yellow' > 📈 DF no.1: Images + Attributes Dataframe </span> "
   ]
  },
  {
   "cell_type": "code",
   "execution_count": 26,
   "metadata": {},
   "outputs": [
    {
     "data": {
      "text/html": [
       "<div>\n",
       "<style scoped>\n",
       "    .dataframe tbody tr th:only-of-type {\n",
       "        vertical-align: middle;\n",
       "    }\n",
       "\n",
       "    .dataframe tbody tr th {\n",
       "        vertical-align: top;\n",
       "    }\n",
       "\n",
       "    .dataframe thead th {\n",
       "        text-align: right;\n",
       "    }\n",
       "</style>\n",
       "<table border=\"1\" class=\"dataframe\">\n",
       "  <thead>\n",
       "    <tr style=\"text-align: right;\">\n",
       "      <th></th>\n",
       "      <th>attribute_name</th>\n",
       "      <th>attribute_type</th>\n",
       "    </tr>\n",
       "  </thead>\n",
       "  <tbody>\n",
       "    <tr>\n",
       "      <th>0</th>\n",
       "      <td>a-line</td>\n",
       "      <td>3</td>\n",
       "    </tr>\n",
       "    <tr>\n",
       "      <th>1</th>\n",
       "      <td>abstract</td>\n",
       "      <td>1</td>\n",
       "    </tr>\n",
       "    <tr>\n",
       "      <th>2</th>\n",
       "      <td>abstract chevron</td>\n",
       "      <td>1</td>\n",
       "    </tr>\n",
       "    <tr>\n",
       "      <th>3</th>\n",
       "      <td>abstract chevron print</td>\n",
       "      <td>1</td>\n",
       "    </tr>\n",
       "    <tr>\n",
       "      <th>4</th>\n",
       "      <td>abstract diamond</td>\n",
       "      <td>1</td>\n",
       "    </tr>\n",
       "    <tr>\n",
       "      <th>...</th>\n",
       "      <td>...</td>\n",
       "      <td>...</td>\n",
       "    </tr>\n",
       "    <tr>\n",
       "      <th>995</th>\n",
       "      <td>zip-pocket</td>\n",
       "      <td>4</td>\n",
       "    </tr>\n",
       "    <tr>\n",
       "      <th>996</th>\n",
       "      <td>zip-up</td>\n",
       "      <td>4</td>\n",
       "    </tr>\n",
       "    <tr>\n",
       "      <th>997</th>\n",
       "      <td>zipped</td>\n",
       "      <td>4</td>\n",
       "    </tr>\n",
       "    <tr>\n",
       "      <th>998</th>\n",
       "      <td>zipper</td>\n",
       "      <td>4</td>\n",
       "    </tr>\n",
       "    <tr>\n",
       "      <th>999</th>\n",
       "      <td>zippered</td>\n",
       "      <td>4</td>\n",
       "    </tr>\n",
       "  </tbody>\n",
       "</table>\n",
       "<p>1000 rows × 2 columns</p>\n",
       "</div>"
      ],
      "text/plain": [
       "             attribute_name  attribute_type\n",
       "0                    a-line               3\n",
       "1                  abstract               1\n",
       "2          abstract chevron               1\n",
       "3    abstract chevron print               1\n",
       "4          abstract diamond               1\n",
       "..                      ...             ...\n",
       "995              zip-pocket               4\n",
       "996                  zip-up               4\n",
       "997                  zipped               4\n",
       "998                  zipper               4\n",
       "999                zippered               4\n",
       "\n",
       "[1000 rows x 2 columns]"
      ]
     },
     "execution_count": 26,
     "metadata": {},
     "output_type": "execute_result"
    }
   ],
   "source": [
    "#create & preview df of attrbiute names & type label\n",
    "list_attr_cloth_df = pd.read_table('/Volumes/MiniGator/Projects/Datasets/DeepFashion/Category_and_Attribute_Prediction_Benchmark/Anno_coarse/list_attr_cloth.txt',\n",
    "                                   sep='\\s{2,}', \n",
    "                                   header=0, \n",
    "                                   skiprows=[0], \n",
    "                                   engine='python')\n",
    "list_attr_cloth_df"
   ]
  },
  {
   "cell_type": "code",
   "execution_count": 27,
   "metadata": {},
   "outputs": [
    {
     "data": {
      "text/html": [
       "<div>\n",
       "<style scoped>\n",
       "    .dataframe tbody tr th:only-of-type {\n",
       "        vertical-align: middle;\n",
       "    }\n",
       "\n",
       "    .dataframe tbody tr th {\n",
       "        vertical-align: top;\n",
       "    }\n",
       "\n",
       "    .dataframe thead th {\n",
       "        text-align: right;\n",
       "    }\n",
       "</style>\n",
       "<table border=\"1\" class=\"dataframe\">\n",
       "  <thead>\n",
       "    <tr style=\"text-align: right;\">\n",
       "      <th></th>\n",
       "      <th>image_name</th>\n",
       "      <th>a-line</th>\n",
       "      <th>abstract</th>\n",
       "      <th>abstract chevron</th>\n",
       "      <th>abstract chevron print</th>\n",
       "      <th>abstract diamond</th>\n",
       "      <th>abstract floral</th>\n",
       "      <th>abstract floral print</th>\n",
       "      <th>abstract geo</th>\n",
       "      <th>abstract geo print</th>\n",
       "      <th>...</th>\n",
       "      <th>zeppelin</th>\n",
       "      <th>zig</th>\n",
       "      <th>zigzag</th>\n",
       "      <th>zip</th>\n",
       "      <th>zip-front</th>\n",
       "      <th>zip-pocket</th>\n",
       "      <th>zip-up</th>\n",
       "      <th>zipped</th>\n",
       "      <th>zipper</th>\n",
       "      <th>zippered</th>\n",
       "    </tr>\n",
       "  </thead>\n",
       "  <tbody>\n",
       "    <tr>\n",
       "      <th>0</th>\n",
       "      <td>img/Sheer_Pleated-Front_Blouse/img_00000001.jpg</td>\n",
       "      <td>-1</td>\n",
       "      <td>-1</td>\n",
       "      <td>-1</td>\n",
       "      <td>-1</td>\n",
       "      <td>-1</td>\n",
       "      <td>-1</td>\n",
       "      <td>-1</td>\n",
       "      <td>-1</td>\n",
       "      <td>-1</td>\n",
       "      <td>...</td>\n",
       "      <td>-1</td>\n",
       "      <td>-1</td>\n",
       "      <td>-1</td>\n",
       "      <td>-1</td>\n",
       "      <td>-1</td>\n",
       "      <td>-1</td>\n",
       "      <td>-1</td>\n",
       "      <td>-1</td>\n",
       "      <td>-1</td>\n",
       "      <td>-1</td>\n",
       "    </tr>\n",
       "    <tr>\n",
       "      <th>1</th>\n",
       "      <td>img/Sheer_Pleated-Front_Blouse/img_00000002.jpg</td>\n",
       "      <td>-1</td>\n",
       "      <td>-1</td>\n",
       "      <td>-1</td>\n",
       "      <td>-1</td>\n",
       "      <td>-1</td>\n",
       "      <td>-1</td>\n",
       "      <td>-1</td>\n",
       "      <td>-1</td>\n",
       "      <td>-1</td>\n",
       "      <td>...</td>\n",
       "      <td>-1</td>\n",
       "      <td>-1</td>\n",
       "      <td>-1</td>\n",
       "      <td>-1</td>\n",
       "      <td>-1</td>\n",
       "      <td>-1</td>\n",
       "      <td>-1</td>\n",
       "      <td>-1</td>\n",
       "      <td>-1</td>\n",
       "      <td>-1</td>\n",
       "    </tr>\n",
       "    <tr>\n",
       "      <th>2</th>\n",
       "      <td>img/Sheer_Pleated-Front_Blouse/img_00000003.jpg</td>\n",
       "      <td>-1</td>\n",
       "      <td>-1</td>\n",
       "      <td>-1</td>\n",
       "      <td>-1</td>\n",
       "      <td>-1</td>\n",
       "      <td>-1</td>\n",
       "      <td>-1</td>\n",
       "      <td>-1</td>\n",
       "      <td>-1</td>\n",
       "      <td>...</td>\n",
       "      <td>-1</td>\n",
       "      <td>-1</td>\n",
       "      <td>-1</td>\n",
       "      <td>-1</td>\n",
       "      <td>-1</td>\n",
       "      <td>-1</td>\n",
       "      <td>-1</td>\n",
       "      <td>-1</td>\n",
       "      <td>-1</td>\n",
       "      <td>-1</td>\n",
       "    </tr>\n",
       "    <tr>\n",
       "      <th>3</th>\n",
       "      <td>img/Sheer_Pleated-Front_Blouse/img_00000004.jpg</td>\n",
       "      <td>-1</td>\n",
       "      <td>-1</td>\n",
       "      <td>-1</td>\n",
       "      <td>-1</td>\n",
       "      <td>-1</td>\n",
       "      <td>-1</td>\n",
       "      <td>-1</td>\n",
       "      <td>-1</td>\n",
       "      <td>-1</td>\n",
       "      <td>...</td>\n",
       "      <td>-1</td>\n",
       "      <td>-1</td>\n",
       "      <td>-1</td>\n",
       "      <td>-1</td>\n",
       "      <td>-1</td>\n",
       "      <td>-1</td>\n",
       "      <td>-1</td>\n",
       "      <td>-1</td>\n",
       "      <td>-1</td>\n",
       "      <td>-1</td>\n",
       "    </tr>\n",
       "    <tr>\n",
       "      <th>4</th>\n",
       "      <td>img/Sheer_Pleated-Front_Blouse/img_00000005.jpg</td>\n",
       "      <td>-1</td>\n",
       "      <td>-1</td>\n",
       "      <td>-1</td>\n",
       "      <td>-1</td>\n",
       "      <td>-1</td>\n",
       "      <td>-1</td>\n",
       "      <td>-1</td>\n",
       "      <td>-1</td>\n",
       "      <td>-1</td>\n",
       "      <td>...</td>\n",
       "      <td>-1</td>\n",
       "      <td>-1</td>\n",
       "      <td>-1</td>\n",
       "      <td>-1</td>\n",
       "      <td>-1</td>\n",
       "      <td>-1</td>\n",
       "      <td>-1</td>\n",
       "      <td>-1</td>\n",
       "      <td>-1</td>\n",
       "      <td>-1</td>\n",
       "    </tr>\n",
       "    <tr>\n",
       "      <th>...</th>\n",
       "      <td>...</td>\n",
       "      <td>...</td>\n",
       "      <td>...</td>\n",
       "      <td>...</td>\n",
       "      <td>...</td>\n",
       "      <td>...</td>\n",
       "      <td>...</td>\n",
       "      <td>...</td>\n",
       "      <td>...</td>\n",
       "      <td>...</td>\n",
       "      <td>...</td>\n",
       "      <td>...</td>\n",
       "      <td>...</td>\n",
       "      <td>...</td>\n",
       "      <td>...</td>\n",
       "      <td>...</td>\n",
       "      <td>...</td>\n",
       "      <td>...</td>\n",
       "      <td>...</td>\n",
       "      <td>...</td>\n",
       "      <td>...</td>\n",
       "    </tr>\n",
       "    <tr>\n",
       "      <th>289217</th>\n",
       "      <td>img/Paisley_Print_Babydoll_Dress/img_00000050.jpg</td>\n",
       "      <td>-1</td>\n",
       "      <td>-1</td>\n",
       "      <td>-1</td>\n",
       "      <td>-1</td>\n",
       "      <td>-1</td>\n",
       "      <td>-1</td>\n",
       "      <td>-1</td>\n",
       "      <td>-1</td>\n",
       "      <td>-1</td>\n",
       "      <td>...</td>\n",
       "      <td>-1</td>\n",
       "      <td>-1</td>\n",
       "      <td>-1</td>\n",
       "      <td>-1</td>\n",
       "      <td>-1</td>\n",
       "      <td>-1</td>\n",
       "      <td>-1</td>\n",
       "      <td>-1</td>\n",
       "      <td>-1</td>\n",
       "      <td>-1</td>\n",
       "    </tr>\n",
       "    <tr>\n",
       "      <th>289218</th>\n",
       "      <td>img/Paisley_Print_Babydoll_Dress/img_00000051.jpg</td>\n",
       "      <td>-1</td>\n",
       "      <td>-1</td>\n",
       "      <td>-1</td>\n",
       "      <td>-1</td>\n",
       "      <td>-1</td>\n",
       "      <td>-1</td>\n",
       "      <td>-1</td>\n",
       "      <td>-1</td>\n",
       "      <td>-1</td>\n",
       "      <td>...</td>\n",
       "      <td>-1</td>\n",
       "      <td>-1</td>\n",
       "      <td>-1</td>\n",
       "      <td>-1</td>\n",
       "      <td>-1</td>\n",
       "      <td>-1</td>\n",
       "      <td>-1</td>\n",
       "      <td>-1</td>\n",
       "      <td>-1</td>\n",
       "      <td>-1</td>\n",
       "    </tr>\n",
       "    <tr>\n",
       "      <th>289219</th>\n",
       "      <td>img/Paisley_Print_Babydoll_Dress/img_00000052.jpg</td>\n",
       "      <td>-1</td>\n",
       "      <td>-1</td>\n",
       "      <td>-1</td>\n",
       "      <td>-1</td>\n",
       "      <td>-1</td>\n",
       "      <td>-1</td>\n",
       "      <td>-1</td>\n",
       "      <td>-1</td>\n",
       "      <td>-1</td>\n",
       "      <td>...</td>\n",
       "      <td>-1</td>\n",
       "      <td>-1</td>\n",
       "      <td>-1</td>\n",
       "      <td>-1</td>\n",
       "      <td>-1</td>\n",
       "      <td>-1</td>\n",
       "      <td>-1</td>\n",
       "      <td>-1</td>\n",
       "      <td>-1</td>\n",
       "      <td>-1</td>\n",
       "    </tr>\n",
       "    <tr>\n",
       "      <th>289220</th>\n",
       "      <td>img/Paisley_Print_Babydoll_Dress/img_00000053.jpg</td>\n",
       "      <td>-1</td>\n",
       "      <td>-1</td>\n",
       "      <td>-1</td>\n",
       "      <td>-1</td>\n",
       "      <td>-1</td>\n",
       "      <td>-1</td>\n",
       "      <td>-1</td>\n",
       "      <td>-1</td>\n",
       "      <td>-1</td>\n",
       "      <td>...</td>\n",
       "      <td>-1</td>\n",
       "      <td>-1</td>\n",
       "      <td>-1</td>\n",
       "      <td>-1</td>\n",
       "      <td>-1</td>\n",
       "      <td>-1</td>\n",
       "      <td>-1</td>\n",
       "      <td>-1</td>\n",
       "      <td>-1</td>\n",
       "      <td>-1</td>\n",
       "    </tr>\n",
       "    <tr>\n",
       "      <th>289221</th>\n",
       "      <td>img/Paisley_Print_Babydoll_Dress/img_00000054.jpg</td>\n",
       "      <td>-1</td>\n",
       "      <td>-1</td>\n",
       "      <td>-1</td>\n",
       "      <td>-1</td>\n",
       "      <td>-1</td>\n",
       "      <td>-1</td>\n",
       "      <td>-1</td>\n",
       "      <td>-1</td>\n",
       "      <td>-1</td>\n",
       "      <td>...</td>\n",
       "      <td>-1</td>\n",
       "      <td>-1</td>\n",
       "      <td>-1</td>\n",
       "      <td>-1</td>\n",
       "      <td>-1</td>\n",
       "      <td>-1</td>\n",
       "      <td>-1</td>\n",
       "      <td>-1</td>\n",
       "      <td>-1</td>\n",
       "      <td>-1</td>\n",
       "    </tr>\n",
       "  </tbody>\n",
       "</table>\n",
       "<p>289222 rows × 1001 columns</p>\n",
       "</div>"
      ],
      "text/plain": [
       "                                               image_name  a-line  abstract  \\\n",
       "0         img/Sheer_Pleated-Front_Blouse/img_00000001.jpg      -1        -1   \n",
       "1         img/Sheer_Pleated-Front_Blouse/img_00000002.jpg      -1        -1   \n",
       "2         img/Sheer_Pleated-Front_Blouse/img_00000003.jpg      -1        -1   \n",
       "3         img/Sheer_Pleated-Front_Blouse/img_00000004.jpg      -1        -1   \n",
       "4         img/Sheer_Pleated-Front_Blouse/img_00000005.jpg      -1        -1   \n",
       "...                                                   ...     ...       ...   \n",
       "289217  img/Paisley_Print_Babydoll_Dress/img_00000050.jpg      -1        -1   \n",
       "289218  img/Paisley_Print_Babydoll_Dress/img_00000051.jpg      -1        -1   \n",
       "289219  img/Paisley_Print_Babydoll_Dress/img_00000052.jpg      -1        -1   \n",
       "289220  img/Paisley_Print_Babydoll_Dress/img_00000053.jpg      -1        -1   \n",
       "289221  img/Paisley_Print_Babydoll_Dress/img_00000054.jpg      -1        -1   \n",
       "\n",
       "        abstract chevron  abstract chevron print  abstract diamond  \\\n",
       "0                     -1                      -1                -1   \n",
       "1                     -1                      -1                -1   \n",
       "2                     -1                      -1                -1   \n",
       "3                     -1                      -1                -1   \n",
       "4                     -1                      -1                -1   \n",
       "...                  ...                     ...               ...   \n",
       "289217                -1                      -1                -1   \n",
       "289218                -1                      -1                -1   \n",
       "289219                -1                      -1                -1   \n",
       "289220                -1                      -1                -1   \n",
       "289221                -1                      -1                -1   \n",
       "\n",
       "        abstract floral  abstract floral print  abstract geo  \\\n",
       "0                    -1                     -1            -1   \n",
       "1                    -1                     -1            -1   \n",
       "2                    -1                     -1            -1   \n",
       "3                    -1                     -1            -1   \n",
       "4                    -1                     -1            -1   \n",
       "...                 ...                    ...           ...   \n",
       "289217               -1                     -1            -1   \n",
       "289218               -1                     -1            -1   \n",
       "289219               -1                     -1            -1   \n",
       "289220               -1                     -1            -1   \n",
       "289221               -1                     -1            -1   \n",
       "\n",
       "        abstract geo print  ...  zeppelin  zig  zigzag  zip  zip-front  \\\n",
       "0                       -1  ...        -1   -1      -1   -1         -1   \n",
       "1                       -1  ...        -1   -1      -1   -1         -1   \n",
       "2                       -1  ...        -1   -1      -1   -1         -1   \n",
       "3                       -1  ...        -1   -1      -1   -1         -1   \n",
       "4                       -1  ...        -1   -1      -1   -1         -1   \n",
       "...                    ...  ...       ...  ...     ...  ...        ...   \n",
       "289217                  -1  ...        -1   -1      -1   -1         -1   \n",
       "289218                  -1  ...        -1   -1      -1   -1         -1   \n",
       "289219                  -1  ...        -1   -1      -1   -1         -1   \n",
       "289220                  -1  ...        -1   -1      -1   -1         -1   \n",
       "289221                  -1  ...        -1   -1      -1   -1         -1   \n",
       "\n",
       "        zip-pocket  zip-up  zipped  zipper  zippered  \n",
       "0               -1      -1      -1      -1        -1  \n",
       "1               -1      -1      -1      -1        -1  \n",
       "2               -1      -1      -1      -1        -1  \n",
       "3               -1      -1      -1      -1        -1  \n",
       "4               -1      -1      -1      -1        -1  \n",
       "...            ...     ...     ...     ...       ...  \n",
       "289217          -1      -1      -1      -1        -1  \n",
       "289218          -1      -1      -1      -1        -1  \n",
       "289219          -1      -1      -1      -1        -1  \n",
       "289220          -1      -1      -1      -1        -1  \n",
       "289221          -1      -1      -1      -1        -1  \n",
       "\n",
       "[289222 rows x 1001 columns]"
      ]
     },
     "execution_count": 27,
     "metadata": {},
     "output_type": "execute_result"
    }
   ],
   "source": [
    "list_attr_img_df = pd.read_csv(\n",
    "    '/Volumes/MiniGator/Projects/Datasets/DeepFashion/Category_and_Attribute_Prediction_Benchmark/Anno_coarse/list_attr_img.txt', \n",
    "    delim_whitespace=True, \n",
    "    header=0,\n",
    "    skiprows=[0],\n",
    "    names=(['image_name'] + list_attr_cloth_df['attribute_name'].tolist()))\n",
    "list_attr_img_df"
   ]
  },
  {
   "cell_type": "code",
   "execution_count": 28,
   "metadata": {},
   "outputs": [],
   "source": [
    "# In attribute labels, \"1\" represents positive while \"-1\" represents negative, '0' represents unknown\n",
    "# We'll replace \n",
    "list_attr_img_df.replace([-1,0,1],[False,False,True], inplace=True)"
   ]
  },
  {
   "cell_type": "code",
   "execution_count": 29,
   "metadata": {},
   "outputs": [
    {
     "data": {
      "text/html": [
       "<div>\n",
       "<style scoped>\n",
       "    .dataframe tbody tr th:only-of-type {\n",
       "        vertical-align: middle;\n",
       "    }\n",
       "\n",
       "    .dataframe tbody tr th {\n",
       "        vertical-align: top;\n",
       "    }\n",
       "\n",
       "    .dataframe thead th {\n",
       "        text-align: right;\n",
       "    }\n",
       "</style>\n",
       "<table border=\"1\" class=\"dataframe\">\n",
       "  <thead>\n",
       "    <tr style=\"text-align: right;\">\n",
       "      <th></th>\n",
       "      <th>image_name</th>\n",
       "      <th>a-line</th>\n",
       "      <th>abstract</th>\n",
       "      <th>abstract chevron</th>\n",
       "      <th>abstract chevron print</th>\n",
       "      <th>abstract diamond</th>\n",
       "      <th>abstract floral</th>\n",
       "      <th>abstract floral print</th>\n",
       "      <th>abstract geo</th>\n",
       "      <th>abstract geo print</th>\n",
       "      <th>...</th>\n",
       "      <th>zeppelin</th>\n",
       "      <th>zig</th>\n",
       "      <th>zigzag</th>\n",
       "      <th>zip</th>\n",
       "      <th>zip-front</th>\n",
       "      <th>zip-pocket</th>\n",
       "      <th>zip-up</th>\n",
       "      <th>zipped</th>\n",
       "      <th>zipper</th>\n",
       "      <th>zippered</th>\n",
       "    </tr>\n",
       "  </thead>\n",
       "  <tbody>\n",
       "    <tr>\n",
       "      <th>0</th>\n",
       "      <td>img/Sheer_Pleated-Front_Blouse/img_00000001.jpg</td>\n",
       "      <td>False</td>\n",
       "      <td>False</td>\n",
       "      <td>False</td>\n",
       "      <td>False</td>\n",
       "      <td>False</td>\n",
       "      <td>False</td>\n",
       "      <td>False</td>\n",
       "      <td>False</td>\n",
       "      <td>False</td>\n",
       "      <td>...</td>\n",
       "      <td>False</td>\n",
       "      <td>False</td>\n",
       "      <td>False</td>\n",
       "      <td>False</td>\n",
       "      <td>False</td>\n",
       "      <td>False</td>\n",
       "      <td>False</td>\n",
       "      <td>False</td>\n",
       "      <td>False</td>\n",
       "      <td>False</td>\n",
       "    </tr>\n",
       "    <tr>\n",
       "      <th>1</th>\n",
       "      <td>img/Sheer_Pleated-Front_Blouse/img_00000002.jpg</td>\n",
       "      <td>False</td>\n",
       "      <td>False</td>\n",
       "      <td>False</td>\n",
       "      <td>False</td>\n",
       "      <td>False</td>\n",
       "      <td>False</td>\n",
       "      <td>False</td>\n",
       "      <td>False</td>\n",
       "      <td>False</td>\n",
       "      <td>...</td>\n",
       "      <td>False</td>\n",
       "      <td>False</td>\n",
       "      <td>False</td>\n",
       "      <td>False</td>\n",
       "      <td>False</td>\n",
       "      <td>False</td>\n",
       "      <td>False</td>\n",
       "      <td>False</td>\n",
       "      <td>False</td>\n",
       "      <td>False</td>\n",
       "    </tr>\n",
       "    <tr>\n",
       "      <th>2</th>\n",
       "      <td>img/Sheer_Pleated-Front_Blouse/img_00000003.jpg</td>\n",
       "      <td>False</td>\n",
       "      <td>False</td>\n",
       "      <td>False</td>\n",
       "      <td>False</td>\n",
       "      <td>False</td>\n",
       "      <td>False</td>\n",
       "      <td>False</td>\n",
       "      <td>False</td>\n",
       "      <td>False</td>\n",
       "      <td>...</td>\n",
       "      <td>False</td>\n",
       "      <td>False</td>\n",
       "      <td>False</td>\n",
       "      <td>False</td>\n",
       "      <td>False</td>\n",
       "      <td>False</td>\n",
       "      <td>False</td>\n",
       "      <td>False</td>\n",
       "      <td>False</td>\n",
       "      <td>False</td>\n",
       "    </tr>\n",
       "    <tr>\n",
       "      <th>3</th>\n",
       "      <td>img/Sheer_Pleated-Front_Blouse/img_00000004.jpg</td>\n",
       "      <td>False</td>\n",
       "      <td>False</td>\n",
       "      <td>False</td>\n",
       "      <td>False</td>\n",
       "      <td>False</td>\n",
       "      <td>False</td>\n",
       "      <td>False</td>\n",
       "      <td>False</td>\n",
       "      <td>False</td>\n",
       "      <td>...</td>\n",
       "      <td>False</td>\n",
       "      <td>False</td>\n",
       "      <td>False</td>\n",
       "      <td>False</td>\n",
       "      <td>False</td>\n",
       "      <td>False</td>\n",
       "      <td>False</td>\n",
       "      <td>False</td>\n",
       "      <td>False</td>\n",
       "      <td>False</td>\n",
       "    </tr>\n",
       "    <tr>\n",
       "      <th>4</th>\n",
       "      <td>img/Sheer_Pleated-Front_Blouse/img_00000005.jpg</td>\n",
       "      <td>False</td>\n",
       "      <td>False</td>\n",
       "      <td>False</td>\n",
       "      <td>False</td>\n",
       "      <td>False</td>\n",
       "      <td>False</td>\n",
       "      <td>False</td>\n",
       "      <td>False</td>\n",
       "      <td>False</td>\n",
       "      <td>...</td>\n",
       "      <td>False</td>\n",
       "      <td>False</td>\n",
       "      <td>False</td>\n",
       "      <td>False</td>\n",
       "      <td>False</td>\n",
       "      <td>False</td>\n",
       "      <td>False</td>\n",
       "      <td>False</td>\n",
       "      <td>False</td>\n",
       "      <td>False</td>\n",
       "    </tr>\n",
       "    <tr>\n",
       "      <th>...</th>\n",
       "      <td>...</td>\n",
       "      <td>...</td>\n",
       "      <td>...</td>\n",
       "      <td>...</td>\n",
       "      <td>...</td>\n",
       "      <td>...</td>\n",
       "      <td>...</td>\n",
       "      <td>...</td>\n",
       "      <td>...</td>\n",
       "      <td>...</td>\n",
       "      <td>...</td>\n",
       "      <td>...</td>\n",
       "      <td>...</td>\n",
       "      <td>...</td>\n",
       "      <td>...</td>\n",
       "      <td>...</td>\n",
       "      <td>...</td>\n",
       "      <td>...</td>\n",
       "      <td>...</td>\n",
       "      <td>...</td>\n",
       "      <td>...</td>\n",
       "    </tr>\n",
       "    <tr>\n",
       "      <th>289217</th>\n",
       "      <td>img/Paisley_Print_Babydoll_Dress/img_00000050.jpg</td>\n",
       "      <td>False</td>\n",
       "      <td>False</td>\n",
       "      <td>False</td>\n",
       "      <td>False</td>\n",
       "      <td>False</td>\n",
       "      <td>False</td>\n",
       "      <td>False</td>\n",
       "      <td>False</td>\n",
       "      <td>False</td>\n",
       "      <td>...</td>\n",
       "      <td>False</td>\n",
       "      <td>False</td>\n",
       "      <td>False</td>\n",
       "      <td>False</td>\n",
       "      <td>False</td>\n",
       "      <td>False</td>\n",
       "      <td>False</td>\n",
       "      <td>False</td>\n",
       "      <td>False</td>\n",
       "      <td>False</td>\n",
       "    </tr>\n",
       "    <tr>\n",
       "      <th>289218</th>\n",
       "      <td>img/Paisley_Print_Babydoll_Dress/img_00000051.jpg</td>\n",
       "      <td>False</td>\n",
       "      <td>False</td>\n",
       "      <td>False</td>\n",
       "      <td>False</td>\n",
       "      <td>False</td>\n",
       "      <td>False</td>\n",
       "      <td>False</td>\n",
       "      <td>False</td>\n",
       "      <td>False</td>\n",
       "      <td>...</td>\n",
       "      <td>False</td>\n",
       "      <td>False</td>\n",
       "      <td>False</td>\n",
       "      <td>False</td>\n",
       "      <td>False</td>\n",
       "      <td>False</td>\n",
       "      <td>False</td>\n",
       "      <td>False</td>\n",
       "      <td>False</td>\n",
       "      <td>False</td>\n",
       "    </tr>\n",
       "    <tr>\n",
       "      <th>289219</th>\n",
       "      <td>img/Paisley_Print_Babydoll_Dress/img_00000052.jpg</td>\n",
       "      <td>False</td>\n",
       "      <td>False</td>\n",
       "      <td>False</td>\n",
       "      <td>False</td>\n",
       "      <td>False</td>\n",
       "      <td>False</td>\n",
       "      <td>False</td>\n",
       "      <td>False</td>\n",
       "      <td>False</td>\n",
       "      <td>...</td>\n",
       "      <td>False</td>\n",
       "      <td>False</td>\n",
       "      <td>False</td>\n",
       "      <td>False</td>\n",
       "      <td>False</td>\n",
       "      <td>False</td>\n",
       "      <td>False</td>\n",
       "      <td>False</td>\n",
       "      <td>False</td>\n",
       "      <td>False</td>\n",
       "    </tr>\n",
       "    <tr>\n",
       "      <th>289220</th>\n",
       "      <td>img/Paisley_Print_Babydoll_Dress/img_00000053.jpg</td>\n",
       "      <td>False</td>\n",
       "      <td>False</td>\n",
       "      <td>False</td>\n",
       "      <td>False</td>\n",
       "      <td>False</td>\n",
       "      <td>False</td>\n",
       "      <td>False</td>\n",
       "      <td>False</td>\n",
       "      <td>False</td>\n",
       "      <td>...</td>\n",
       "      <td>False</td>\n",
       "      <td>False</td>\n",
       "      <td>False</td>\n",
       "      <td>False</td>\n",
       "      <td>False</td>\n",
       "      <td>False</td>\n",
       "      <td>False</td>\n",
       "      <td>False</td>\n",
       "      <td>False</td>\n",
       "      <td>False</td>\n",
       "    </tr>\n",
       "    <tr>\n",
       "      <th>289221</th>\n",
       "      <td>img/Paisley_Print_Babydoll_Dress/img_00000054.jpg</td>\n",
       "      <td>False</td>\n",
       "      <td>False</td>\n",
       "      <td>False</td>\n",
       "      <td>False</td>\n",
       "      <td>False</td>\n",
       "      <td>False</td>\n",
       "      <td>False</td>\n",
       "      <td>False</td>\n",
       "      <td>False</td>\n",
       "      <td>...</td>\n",
       "      <td>False</td>\n",
       "      <td>False</td>\n",
       "      <td>False</td>\n",
       "      <td>False</td>\n",
       "      <td>False</td>\n",
       "      <td>False</td>\n",
       "      <td>False</td>\n",
       "      <td>False</td>\n",
       "      <td>False</td>\n",
       "      <td>False</td>\n",
       "    </tr>\n",
       "  </tbody>\n",
       "</table>\n",
       "<p>289222 rows × 1001 columns</p>\n",
       "</div>"
      ],
      "text/plain": [
       "                                               image_name  a-line  abstract  \\\n",
       "0         img/Sheer_Pleated-Front_Blouse/img_00000001.jpg   False     False   \n",
       "1         img/Sheer_Pleated-Front_Blouse/img_00000002.jpg   False     False   \n",
       "2         img/Sheer_Pleated-Front_Blouse/img_00000003.jpg   False     False   \n",
       "3         img/Sheer_Pleated-Front_Blouse/img_00000004.jpg   False     False   \n",
       "4         img/Sheer_Pleated-Front_Blouse/img_00000005.jpg   False     False   \n",
       "...                                                   ...     ...       ...   \n",
       "289217  img/Paisley_Print_Babydoll_Dress/img_00000050.jpg   False     False   \n",
       "289218  img/Paisley_Print_Babydoll_Dress/img_00000051.jpg   False     False   \n",
       "289219  img/Paisley_Print_Babydoll_Dress/img_00000052.jpg   False     False   \n",
       "289220  img/Paisley_Print_Babydoll_Dress/img_00000053.jpg   False     False   \n",
       "289221  img/Paisley_Print_Babydoll_Dress/img_00000054.jpg   False     False   \n",
       "\n",
       "        abstract chevron  abstract chevron print  abstract diamond  \\\n",
       "0                  False                   False             False   \n",
       "1                  False                   False             False   \n",
       "2                  False                   False             False   \n",
       "3                  False                   False             False   \n",
       "4                  False                   False             False   \n",
       "...                  ...                     ...               ...   \n",
       "289217             False                   False             False   \n",
       "289218             False                   False             False   \n",
       "289219             False                   False             False   \n",
       "289220             False                   False             False   \n",
       "289221             False                   False             False   \n",
       "\n",
       "        abstract floral  abstract floral print  abstract geo  \\\n",
       "0                 False                  False         False   \n",
       "1                 False                  False         False   \n",
       "2                 False                  False         False   \n",
       "3                 False                  False         False   \n",
       "4                 False                  False         False   \n",
       "...                 ...                    ...           ...   \n",
       "289217            False                  False         False   \n",
       "289218            False                  False         False   \n",
       "289219            False                  False         False   \n",
       "289220            False                  False         False   \n",
       "289221            False                  False         False   \n",
       "\n",
       "        abstract geo print  ...  zeppelin    zig  zigzag    zip  zip-front  \\\n",
       "0                    False  ...     False  False   False  False      False   \n",
       "1                    False  ...     False  False   False  False      False   \n",
       "2                    False  ...     False  False   False  False      False   \n",
       "3                    False  ...     False  False   False  False      False   \n",
       "4                    False  ...     False  False   False  False      False   \n",
       "...                    ...  ...       ...    ...     ...    ...        ...   \n",
       "289217               False  ...     False  False   False  False      False   \n",
       "289218               False  ...     False  False   False  False      False   \n",
       "289219               False  ...     False  False   False  False      False   \n",
       "289220               False  ...     False  False   False  False      False   \n",
       "289221               False  ...     False  False   False  False      False   \n",
       "\n",
       "        zip-pocket  zip-up  zipped  zipper  zippered  \n",
       "0            False   False   False   False     False  \n",
       "1            False   False   False   False     False  \n",
       "2            False   False   False   False     False  \n",
       "3            False   False   False   False     False  \n",
       "4            False   False   False   False     False  \n",
       "...            ...     ...     ...     ...       ...  \n",
       "289217       False   False   False   False     False  \n",
       "289218       False   False   False   False     False  \n",
       "289219       False   False   False   False     False  \n",
       "289220       False   False   False   False     False  \n",
       "289221       False   False   False   False     False  \n",
       "\n",
       "[289222 rows x 1001 columns]"
      ]
     },
     "execution_count": 29,
     "metadata": {},
     "output_type": "execute_result"
    }
   ],
   "source": [
    "list_attr_img_df"
   ]
  },
  {
   "cell_type": "markdown",
   "metadata": {},
   "source": [
    "### <span style='background :yellow' > 📈 DF no.2: Images + Categories Dataframe </span> \n",
    "\n",
    "⚠️ One big issues: We're missing some categories of clothing.\n",
    "\n",
    "Clothing categories file contains 50 entries, whereas the image_category_cloth file is only showing 48. We're specifically missing 'shitdress' and 'sundress'. \n",
    "\n",
    "\n",
    "📝 This can posible be explained by the note:\n",
    "\n",
    "\"For the clothing categories, \"Cape\", \"Nightdress\", \"Shirtdress\" and \"Sundress\" have been merged into \"Dress\"\""
   ]
  },
  {
   "cell_type": "code",
   "execution_count": 30,
   "metadata": {},
   "outputs": [
    {
     "data": {
      "text/html": [
       "<div>\n",
       "<style scoped>\n",
       "    .dataframe tbody tr th:only-of-type {\n",
       "        vertical-align: middle;\n",
       "    }\n",
       "\n",
       "    .dataframe tbody tr th {\n",
       "        vertical-align: top;\n",
       "    }\n",
       "\n",
       "    .dataframe thead th {\n",
       "        text-align: right;\n",
       "    }\n",
       "</style>\n",
       "<table border=\"1\" class=\"dataframe\">\n",
       "  <thead>\n",
       "    <tr style=\"text-align: right;\">\n",
       "      <th></th>\n",
       "      <th>category_name</th>\n",
       "      <th>category_type</th>\n",
       "    </tr>\n",
       "  </thead>\n",
       "  <tbody>\n",
       "    <tr>\n",
       "      <th>0</th>\n",
       "      <td>Anorak</td>\n",
       "      <td>1</td>\n",
       "    </tr>\n",
       "    <tr>\n",
       "      <th>1</th>\n",
       "      <td>Blazer</td>\n",
       "      <td>1</td>\n",
       "    </tr>\n",
       "    <tr>\n",
       "      <th>2</th>\n",
       "      <td>Blouse</td>\n",
       "      <td>1</td>\n",
       "    </tr>\n",
       "    <tr>\n",
       "      <th>3</th>\n",
       "      <td>Bomber</td>\n",
       "      <td>1</td>\n",
       "    </tr>\n",
       "    <tr>\n",
       "      <th>4</th>\n",
       "      <td>Button-Down</td>\n",
       "      <td>1</td>\n",
       "    </tr>\n",
       "    <tr>\n",
       "      <th>5</th>\n",
       "      <td>Cardigan</td>\n",
       "      <td>1</td>\n",
       "    </tr>\n",
       "    <tr>\n",
       "      <th>6</th>\n",
       "      <td>Flannel</td>\n",
       "      <td>1</td>\n",
       "    </tr>\n",
       "    <tr>\n",
       "      <th>7</th>\n",
       "      <td>Halter</td>\n",
       "      <td>1</td>\n",
       "    </tr>\n",
       "    <tr>\n",
       "      <th>8</th>\n",
       "      <td>Henley</td>\n",
       "      <td>1</td>\n",
       "    </tr>\n",
       "    <tr>\n",
       "      <th>9</th>\n",
       "      <td>Hoodie</td>\n",
       "      <td>1</td>\n",
       "    </tr>\n",
       "  </tbody>\n",
       "</table>\n",
       "</div>"
      ],
      "text/plain": [
       "  category_name  category_type\n",
       "0        Anorak              1\n",
       "1        Blazer              1\n",
       "2        Blouse              1\n",
       "3        Bomber              1\n",
       "4   Button-Down              1\n",
       "5      Cardigan              1\n",
       "6       Flannel              1\n",
       "7        Halter              1\n",
       "8        Henley              1\n",
       "9        Hoodie              1"
      ]
     },
     "execution_count": 30,
     "metadata": {},
     "output_type": "execute_result"
    }
   ],
   "source": [
    "#create & preview df of attrbiute names & type label\n",
    "list_category_cloth_df = pd.read_table('/Volumes/MiniGator/Projects/Datasets/DeepFashion/Category_and_Attribute_Prediction_Benchmark/Anno_coarse/list_category_cloth.txt',\n",
    "                                   sep='\\s{2,}', \n",
    "                                   header=0, \n",
    "                                   skiprows=[0], \n",
    "                                   engine='python')\n",
    "list_category_cloth_df.head(10)"
   ]
  },
  {
   "cell_type": "code",
   "execution_count": 31,
   "metadata": {},
   "outputs": [
    {
     "data": {
      "text/html": [
       "<div>\n",
       "<style scoped>\n",
       "    .dataframe tbody tr th:only-of-type {\n",
       "        vertical-align: middle;\n",
       "    }\n",
       "\n",
       "    .dataframe tbody tr th {\n",
       "        vertical-align: top;\n",
       "    }\n",
       "\n",
       "    .dataframe thead th {\n",
       "        text-align: right;\n",
       "    }\n",
       "</style>\n",
       "<table border=\"1\" class=\"dataframe\">\n",
       "  <thead>\n",
       "    <tr style=\"text-align: right;\">\n",
       "      <th></th>\n",
       "      <th>category_type</th>\n",
       "    </tr>\n",
       "  </thead>\n",
       "  <tbody>\n",
       "    <tr>\n",
       "      <th>count</th>\n",
       "      <td>50.000000</td>\n",
       "    </tr>\n",
       "    <tr>\n",
       "      <th>mean</th>\n",
       "      <td>1.880000</td>\n",
       "    </tr>\n",
       "    <tr>\n",
       "      <th>std</th>\n",
       "      <td>0.824126</td>\n",
       "    </tr>\n",
       "    <tr>\n",
       "      <th>min</th>\n",
       "      <td>1.000000</td>\n",
       "    </tr>\n",
       "    <tr>\n",
       "      <th>25%</th>\n",
       "      <td>1.000000</td>\n",
       "    </tr>\n",
       "    <tr>\n",
       "      <th>50%</th>\n",
       "      <td>2.000000</td>\n",
       "    </tr>\n",
       "    <tr>\n",
       "      <th>75%</th>\n",
       "      <td>3.000000</td>\n",
       "    </tr>\n",
       "    <tr>\n",
       "      <th>max</th>\n",
       "      <td>3.000000</td>\n",
       "    </tr>\n",
       "  </tbody>\n",
       "</table>\n",
       "</div>"
      ],
      "text/plain": [
       "       category_type\n",
       "count      50.000000\n",
       "mean        1.880000\n",
       "std         0.824126\n",
       "min         1.000000\n",
       "25%         1.000000\n",
       "50%         2.000000\n",
       "75%         3.000000\n",
       "max         3.000000"
      ]
     },
     "execution_count": 31,
     "metadata": {},
     "output_type": "execute_result"
    }
   ],
   "source": [
    "list_category_cloth_df.describe()"
   ]
  },
  {
   "cell_type": "code",
   "execution_count": 32,
   "metadata": {},
   "outputs": [
    {
     "data": {
      "text/html": [
       "<div>\n",
       "<style scoped>\n",
       "    .dataframe tbody tr th:only-of-type {\n",
       "        vertical-align: middle;\n",
       "    }\n",
       "\n",
       "    .dataframe tbody tr th {\n",
       "        vertical-align: top;\n",
       "    }\n",
       "\n",
       "    .dataframe thead th {\n",
       "        text-align: right;\n",
       "    }\n",
       "</style>\n",
       "<table border=\"1\" class=\"dataframe\">\n",
       "  <thead>\n",
       "    <tr style=\"text-align: right;\">\n",
       "      <th></th>\n",
       "      <th>image_name</th>\n",
       "      <th>category_label</th>\n",
       "    </tr>\n",
       "  </thead>\n",
       "  <tbody>\n",
       "    <tr>\n",
       "      <th>0</th>\n",
       "      <td>img/Sheer_Pleated-Front_Blouse/img_00000001.jpg</td>\n",
       "      <td>3.0</td>\n",
       "    </tr>\n",
       "    <tr>\n",
       "      <th>1</th>\n",
       "      <td>img/Sheer_Pleated-Front_Blouse/img_00000002.jpg</td>\n",
       "      <td>3.0</td>\n",
       "    </tr>\n",
       "    <tr>\n",
       "      <th>2</th>\n",
       "      <td>img/Sheer_Pleated-Front_Blouse/img_00000003.jpg</td>\n",
       "      <td>3.0</td>\n",
       "    </tr>\n",
       "    <tr>\n",
       "      <th>3</th>\n",
       "      <td>img/Sheer_Pleated-Front_Blouse/img_00000004.jpg</td>\n",
       "      <td>3.0</td>\n",
       "    </tr>\n",
       "    <tr>\n",
       "      <th>4</th>\n",
       "      <td>img/Sheer_Pleated-Front_Blouse/img_00000005.jpg</td>\n",
       "      <td>3.0</td>\n",
       "    </tr>\n",
       "    <tr>\n",
       "      <th>5</th>\n",
       "      <td>img/Sheer_Pleated-Front_Blouse/img_00000006.jpg</td>\n",
       "      <td>3.0</td>\n",
       "    </tr>\n",
       "    <tr>\n",
       "      <th>6</th>\n",
       "      <td>img/Sheer_Pleated-Front_Blouse/img_00000007.jpg</td>\n",
       "      <td>3.0</td>\n",
       "    </tr>\n",
       "    <tr>\n",
       "      <th>7</th>\n",
       "      <td>img/Sheer_Pleated-Front_Blouse/img_00000008.jpg</td>\n",
       "      <td>3.0</td>\n",
       "    </tr>\n",
       "    <tr>\n",
       "      <th>8</th>\n",
       "      <td>img/Sheer_Pleated-Front_Blouse/img_00000009.jpg</td>\n",
       "      <td>3.0</td>\n",
       "    </tr>\n",
       "    <tr>\n",
       "      <th>9</th>\n",
       "      <td>img/Sheer_Pleated-Front_Blouse/img_00000010.jpg</td>\n",
       "      <td>3.0</td>\n",
       "    </tr>\n",
       "  </tbody>\n",
       "</table>\n",
       "</div>"
      ],
      "text/plain": [
       "                                        image_name  category_label\n",
       "0  img/Sheer_Pleated-Front_Blouse/img_00000001.jpg             3.0\n",
       "1  img/Sheer_Pleated-Front_Blouse/img_00000002.jpg             3.0\n",
       "2  img/Sheer_Pleated-Front_Blouse/img_00000003.jpg             3.0\n",
       "3  img/Sheer_Pleated-Front_Blouse/img_00000004.jpg             3.0\n",
       "4  img/Sheer_Pleated-Front_Blouse/img_00000005.jpg             3.0\n",
       "5  img/Sheer_Pleated-Front_Blouse/img_00000006.jpg             3.0\n",
       "6  img/Sheer_Pleated-Front_Blouse/img_00000007.jpg             3.0\n",
       "7  img/Sheer_Pleated-Front_Blouse/img_00000008.jpg             3.0\n",
       "8  img/Sheer_Pleated-Front_Blouse/img_00000009.jpg             3.0\n",
       "9  img/Sheer_Pleated-Front_Blouse/img_00000010.jpg             3.0"
      ]
     },
     "execution_count": 32,
     "metadata": {},
     "output_type": "execute_result"
    }
   ],
   "source": [
    "#create & preview df of attrbiute names & type label\n",
    "list_category_img_df = pd.read_table('/Volumes/MiniGator/Projects/Datasets/DeepFashion/Category_and_Attribute_Prediction_Benchmark/Anno_coarse/list_category_img.txt',\n",
    "                                   sep='\\s{2,}', \n",
    "                                   header=0, \n",
    "                                   skiprows=[0], \n",
    "                                   engine='python')\n",
    "list_category_img_df.head(10)"
   ]
  },
  {
   "cell_type": "code",
   "execution_count": 33,
   "metadata": {},
   "outputs": [
    {
     "data": {
      "text/plain": [
       "count    289185.000000\n",
       "mean         25.209893\n",
       "std          14.026095\n",
       "min           1.000000\n",
       "25%          16.000000\n",
       "50%          26.000000\n",
       "75%          41.000000\n",
       "max          48.000000\n",
       "Name: category_label, dtype: float64"
      ]
     },
     "execution_count": 33,
     "metadata": {},
     "output_type": "execute_result"
    }
   ],
   "source": [
    "# Notice that the highest category goes to 48 only.\n",
    "\n",
    "list_category_img_df['category_label'].describe()"
   ]
  },
  {
   "cell_type": "code",
   "execution_count": 34,
   "metadata": {},
   "outputs": [
    {
     "data": {
      "text/html": [
       "<div>\n",
       "<style scoped>\n",
       "    .dataframe tbody tr th:only-of-type {\n",
       "        vertical-align: middle;\n",
       "    }\n",
       "\n",
       "    .dataframe tbody tr th {\n",
       "        vertical-align: top;\n",
       "    }\n",
       "\n",
       "    .dataframe thead th {\n",
       "        text-align: right;\n",
       "    }\n",
       "</style>\n",
       "<table border=\"1\" class=\"dataframe\">\n",
       "  <thead>\n",
       "    <tr style=\"text-align: right;\">\n",
       "      <th></th>\n",
       "      <th>image_name</th>\n",
       "      <th>category_label</th>\n",
       "    </tr>\n",
       "  </thead>\n",
       "  <tbody>\n",
       "    <tr>\n",
       "      <th>22595</th>\n",
       "      <td>img/Hooded_Cotton_Canvas_Anorak/img_00000001.jpg</td>\n",
       "      <td>1.0</td>\n",
       "    </tr>\n",
       "    <tr>\n",
       "      <th>22596</th>\n",
       "      <td>img/Hooded_Cotton_Canvas_Anorak/img_00000002.jpg</td>\n",
       "      <td>1.0</td>\n",
       "    </tr>\n",
       "    <tr>\n",
       "      <th>22597</th>\n",
       "      <td>img/Hooded_Cotton_Canvas_Anorak/img_00000003.jpg</td>\n",
       "      <td>1.0</td>\n",
       "    </tr>\n",
       "    <tr>\n",
       "      <th>22598</th>\n",
       "      <td>img/Hooded_Cotton_Canvas_Anorak/img_00000004.jpg</td>\n",
       "      <td>1.0</td>\n",
       "    </tr>\n",
       "    <tr>\n",
       "      <th>22599</th>\n",
       "      <td>img/Hooded_Cotton_Canvas_Anorak/img_00000005.jpg</td>\n",
       "      <td>1.0</td>\n",
       "    </tr>\n",
       "    <tr>\n",
       "      <th>...</th>\n",
       "      <td>...</td>\n",
       "      <td>...</td>\n",
       "    </tr>\n",
       "    <tr>\n",
       "      <th>22750</th>\n",
       "      <td>img/Hooded_Cotton_Canvas_Anorak/img_00000157.jpg</td>\n",
       "      <td>1.0</td>\n",
       "    </tr>\n",
       "    <tr>\n",
       "      <th>22751</th>\n",
       "      <td>img/Hooded_Cotton_Canvas_Anorak/img_00000158.jpg</td>\n",
       "      <td>1.0</td>\n",
       "    </tr>\n",
       "    <tr>\n",
       "      <th>22752</th>\n",
       "      <td>img/Hooded_Cotton_Canvas_Anorak/img_00000159.jpg</td>\n",
       "      <td>1.0</td>\n",
       "    </tr>\n",
       "    <tr>\n",
       "      <th>22753</th>\n",
       "      <td>img/Hooded_Cotton_Canvas_Anorak/img_00000160.jpg</td>\n",
       "      <td>1.0</td>\n",
       "    </tr>\n",
       "    <tr>\n",
       "      <th>22754</th>\n",
       "      <td>img/Hooded_Cotton_Canvas_Anorak/img_00000161.jpg</td>\n",
       "      <td>1.0</td>\n",
       "    </tr>\n",
       "  </tbody>\n",
       "</table>\n",
       "<p>160 rows × 2 columns</p>\n",
       "</div>"
      ],
      "text/plain": [
       "                                             image_name  category_label\n",
       "22595  img/Hooded_Cotton_Canvas_Anorak/img_00000001.jpg             1.0\n",
       "22596  img/Hooded_Cotton_Canvas_Anorak/img_00000002.jpg             1.0\n",
       "22597  img/Hooded_Cotton_Canvas_Anorak/img_00000003.jpg             1.0\n",
       "22598  img/Hooded_Cotton_Canvas_Anorak/img_00000004.jpg             1.0\n",
       "22599  img/Hooded_Cotton_Canvas_Anorak/img_00000005.jpg             1.0\n",
       "...                                                 ...             ...\n",
       "22750  img/Hooded_Cotton_Canvas_Anorak/img_00000157.jpg             1.0\n",
       "22751  img/Hooded_Cotton_Canvas_Anorak/img_00000158.jpg             1.0\n",
       "22752  img/Hooded_Cotton_Canvas_Anorak/img_00000159.jpg             1.0\n",
       "22753  img/Hooded_Cotton_Canvas_Anorak/img_00000160.jpg             1.0\n",
       "22754  img/Hooded_Cotton_Canvas_Anorak/img_00000161.jpg             1.0\n",
       "\n",
       "[160 rows x 2 columns]"
      ]
     },
     "execution_count": 34,
     "metadata": {},
     "output_type": "execute_result"
    }
   ],
   "source": [
    "list_category_img_df.loc[list_category_img_df['category_label']==1.0]"
   ]
  },
  {
   "cell_type": "code",
   "execution_count": 35,
   "metadata": {},
   "outputs": [
    {
     "data": {
      "text/html": [
       "<div>\n",
       "<style scoped>\n",
       "    .dataframe tbody tr th:only-of-type {\n",
       "        vertical-align: middle;\n",
       "    }\n",
       "\n",
       "    .dataframe tbody tr th {\n",
       "        vertical-align: top;\n",
       "    }\n",
       "\n",
       "    .dataframe thead th {\n",
       "        text-align: right;\n",
       "    }\n",
       "</style>\n",
       "<table border=\"1\" class=\"dataframe\">\n",
       "  <thead>\n",
       "    <tr style=\"text-align: right;\">\n",
       "      <th></th>\n",
       "      <th>image_name</th>\n",
       "      <th>category_label</th>\n",
       "    </tr>\n",
       "  </thead>\n",
       "  <tbody>\n",
       "    <tr>\n",
       "      <th>199045</th>\n",
       "      <td>img/Open-Back_Woven_Romper/img_00000001.jpg</td>\n",
       "      <td>48.0</td>\n",
       "    </tr>\n",
       "    <tr>\n",
       "      <th>199046</th>\n",
       "      <td>img/Open-Back_Woven_Romper/img_00000002.jpg</td>\n",
       "      <td>48.0</td>\n",
       "    </tr>\n",
       "    <tr>\n",
       "      <th>199047</th>\n",
       "      <td>img/Open-Back_Woven_Romper/img_00000003.jpg</td>\n",
       "      <td>48.0</td>\n",
       "    </tr>\n",
       "    <tr>\n",
       "      <th>199048</th>\n",
       "      <td>img/Open-Back_Woven_Romper/img_00000004.jpg</td>\n",
       "      <td>48.0</td>\n",
       "    </tr>\n",
       "    <tr>\n",
       "      <th>199049</th>\n",
       "      <td>img/Open-Back_Woven_Romper/img_00000005.jpg</td>\n",
       "      <td>48.0</td>\n",
       "    </tr>\n",
       "    <tr>\n",
       "      <th>...</th>\n",
       "      <td>...</td>\n",
       "      <td>...</td>\n",
       "    </tr>\n",
       "    <tr>\n",
       "      <th>288782</th>\n",
       "      <td>img/Cutout_Back_Textured_Romper/img_00000030.jpg</td>\n",
       "      <td>48.0</td>\n",
       "    </tr>\n",
       "    <tr>\n",
       "      <th>288783</th>\n",
       "      <td>img/Cutout_Back_Textured_Romper/img_00000031.jpg</td>\n",
       "      <td>48.0</td>\n",
       "    </tr>\n",
       "    <tr>\n",
       "      <th>288784</th>\n",
       "      <td>img/Cutout_Back_Textured_Romper/img_00000032.jpg</td>\n",
       "      <td>48.0</td>\n",
       "    </tr>\n",
       "    <tr>\n",
       "      <th>288785</th>\n",
       "      <td>img/Cutout_Back_Textured_Romper/img_00000033.jpg</td>\n",
       "      <td>48.0</td>\n",
       "    </tr>\n",
       "    <tr>\n",
       "      <th>288786</th>\n",
       "      <td>img/Cutout_Back_Textured_Romper/img_00000034.jpg</td>\n",
       "      <td>48.0</td>\n",
       "    </tr>\n",
       "  </tbody>\n",
       "</table>\n",
       "<p>7408 rows × 2 columns</p>\n",
       "</div>"
      ],
      "text/plain": [
       "                                              image_name  category_label\n",
       "199045       img/Open-Back_Woven_Romper/img_00000001.jpg            48.0\n",
       "199046       img/Open-Back_Woven_Romper/img_00000002.jpg            48.0\n",
       "199047       img/Open-Back_Woven_Romper/img_00000003.jpg            48.0\n",
       "199048       img/Open-Back_Woven_Romper/img_00000004.jpg            48.0\n",
       "199049       img/Open-Back_Woven_Romper/img_00000005.jpg            48.0\n",
       "...                                                  ...             ...\n",
       "288782  img/Cutout_Back_Textured_Romper/img_00000030.jpg            48.0\n",
       "288783  img/Cutout_Back_Textured_Romper/img_00000031.jpg            48.0\n",
       "288784  img/Cutout_Back_Textured_Romper/img_00000032.jpg            48.0\n",
       "288785  img/Cutout_Back_Textured_Romper/img_00000033.jpg            48.0\n",
       "288786  img/Cutout_Back_Textured_Romper/img_00000034.jpg            48.0\n",
       "\n",
       "[7408 rows x 2 columns]"
      ]
     },
     "execution_count": 35,
     "metadata": {},
     "output_type": "execute_result"
    }
   ],
   "source": [
    "list_category_img_df.loc[list_category_img_df['category_label']==48.0]"
   ]
  },
  {
   "cell_type": "code",
   "execution_count": 36,
   "metadata": {},
   "outputs": [
    {
     "data": {
      "text/plain": [
       "<AxesSubplot:ylabel='category_label'>"
      ]
     },
     "execution_count": 36,
     "metadata": {},
     "output_type": "execute_result"
    },
    {
     "data": {
      "image/png": "[encoded data removed]",
      "text/plain": [
       "<Figure size 432x288 with 1 Axes>"
      ]
     },
     "metadata": {
      "needs_background": "light"
     },
     "output_type": "display_data"
    }
   ],
   "source": [
    "(list_category_img_df\n",
    " .groupby('category_label')\n",
    " .count()\n",
    " .reset_index()\n",
    " .set_index('category_label')\n",
    " .plot(kind='barh', y='image_name',use_index=True)\n",
    ")"
   ]
  },
  {
   "cell_type": "code",
   "execution_count": 37,
   "metadata": {},
   "outputs": [
    {
     "data": {
      "text/html": [
       "<div>\n",
       "<style scoped>\n",
       "    .dataframe tbody tr th:only-of-type {\n",
       "        vertical-align: middle;\n",
       "    }\n",
       "\n",
       "    .dataframe tbody tr th {\n",
       "        vertical-align: top;\n",
       "    }\n",
       "\n",
       "    .dataframe thead th {\n",
       "        text-align: right;\n",
       "    }\n",
       "</style>\n",
       "<table border=\"1\" class=\"dataframe\">\n",
       "  <thead>\n",
       "    <tr style=\"text-align: right;\">\n",
       "      <th></th>\n",
       "      <th>image_name</th>\n",
       "      <th>category_label</th>\n",
       "      <th>category_name</th>\n",
       "      <th>category_type</th>\n",
       "      <th>actual_category_number</th>\n",
       "    </tr>\n",
       "  </thead>\n",
       "  <tbody>\n",
       "    <tr>\n",
       "      <th>0</th>\n",
       "      <td>img/Sheer_Pleated-Front_Blouse/img_00000001.jpg</td>\n",
       "      <td>3.0</td>\n",
       "      <td>Blouse</td>\n",
       "      <td>1.0</td>\n",
       "      <td>3.0</td>\n",
       "    </tr>\n",
       "    <tr>\n",
       "      <th>1</th>\n",
       "      <td>img/Sheer_Pleated-Front_Blouse/img_00000002.jpg</td>\n",
       "      <td>3.0</td>\n",
       "      <td>Blouse</td>\n",
       "      <td>1.0</td>\n",
       "      <td>3.0</td>\n",
       "    </tr>\n",
       "    <tr>\n",
       "      <th>2</th>\n",
       "      <td>img/Sheer_Pleated-Front_Blouse/img_00000003.jpg</td>\n",
       "      <td>3.0</td>\n",
       "      <td>Blouse</td>\n",
       "      <td>1.0</td>\n",
       "      <td>3.0</td>\n",
       "    </tr>\n",
       "    <tr>\n",
       "      <th>3</th>\n",
       "      <td>img/Sheer_Pleated-Front_Blouse/img_00000004.jpg</td>\n",
       "      <td>3.0</td>\n",
       "      <td>Blouse</td>\n",
       "      <td>1.0</td>\n",
       "      <td>3.0</td>\n",
       "    </tr>\n",
       "    <tr>\n",
       "      <th>4</th>\n",
       "      <td>img/Sheer_Pleated-Front_Blouse/img_00000005.jpg</td>\n",
       "      <td>3.0</td>\n",
       "      <td>Blouse</td>\n",
       "      <td>1.0</td>\n",
       "      <td>3.0</td>\n",
       "    </tr>\n",
       "    <tr>\n",
       "      <th>...</th>\n",
       "      <td>...</td>\n",
       "      <td>...</td>\n",
       "      <td>...</td>\n",
       "      <td>...</td>\n",
       "      <td>...</td>\n",
       "    </tr>\n",
       "    <tr>\n",
       "      <th>289217</th>\n",
       "      <td>img/Paisley_Print_Babydoll_Dress/img_00000050.jpg</td>\n",
       "      <td>41.0</td>\n",
       "      <td>Dress</td>\n",
       "      <td>3.0</td>\n",
       "      <td>41.0</td>\n",
       "    </tr>\n",
       "    <tr>\n",
       "      <th>289218</th>\n",
       "      <td>img/Paisley_Print_Babydoll_Dress/img_00000051.jpg</td>\n",
       "      <td>41.0</td>\n",
       "      <td>Dress</td>\n",
       "      <td>3.0</td>\n",
       "      <td>41.0</td>\n",
       "    </tr>\n",
       "    <tr>\n",
       "      <th>289219</th>\n",
       "      <td>img/Paisley_Print_Babydoll_Dress/img_00000052.jpg</td>\n",
       "      <td>41.0</td>\n",
       "      <td>Dress</td>\n",
       "      <td>3.0</td>\n",
       "      <td>41.0</td>\n",
       "    </tr>\n",
       "    <tr>\n",
       "      <th>289220</th>\n",
       "      <td>img/Paisley_Print_Babydoll_Dress/img_00000053.jpg</td>\n",
       "      <td>41.0</td>\n",
       "      <td>Dress</td>\n",
       "      <td>3.0</td>\n",
       "      <td>41.0</td>\n",
       "    </tr>\n",
       "    <tr>\n",
       "      <th>289221</th>\n",
       "      <td>img/Paisley_Print_Babydoll_Dress/img_00000054.jpg</td>\n",
       "      <td>41.0</td>\n",
       "      <td>Dress</td>\n",
       "      <td>3.0</td>\n",
       "      <td>41.0</td>\n",
       "    </tr>\n",
       "  </tbody>\n",
       "</table>\n",
       "<p>289222 rows × 5 columns</p>\n",
       "</div>"
      ],
      "text/plain": [
       "                                               image_name  category_label  \\\n",
       "0         img/Sheer_Pleated-Front_Blouse/img_00000001.jpg             3.0   \n",
       "1         img/Sheer_Pleated-Front_Blouse/img_00000002.jpg             3.0   \n",
       "2         img/Sheer_Pleated-Front_Blouse/img_00000003.jpg             3.0   \n",
       "3         img/Sheer_Pleated-Front_Blouse/img_00000004.jpg             3.0   \n",
       "4         img/Sheer_Pleated-Front_Blouse/img_00000005.jpg             3.0   \n",
       "...                                                   ...             ...   \n",
       "289217  img/Paisley_Print_Babydoll_Dress/img_00000050.jpg            41.0   \n",
       "289218  img/Paisley_Print_Babydoll_Dress/img_00000051.jpg            41.0   \n",
       "289219  img/Paisley_Print_Babydoll_Dress/img_00000052.jpg            41.0   \n",
       "289220  img/Paisley_Print_Babydoll_Dress/img_00000053.jpg            41.0   \n",
       "289221  img/Paisley_Print_Babydoll_Dress/img_00000054.jpg            41.0   \n",
       "\n",
       "       category_name  category_type  actual_category_number  \n",
       "0             Blouse            1.0                     3.0  \n",
       "1             Blouse            1.0                     3.0  \n",
       "2             Blouse            1.0                     3.0  \n",
       "3             Blouse            1.0                     3.0  \n",
       "4             Blouse            1.0                     3.0  \n",
       "...              ...            ...                     ...  \n",
       "289217         Dress            3.0                    41.0  \n",
       "289218         Dress            3.0                    41.0  \n",
       "289219         Dress            3.0                    41.0  \n",
       "289220         Dress            3.0                    41.0  \n",
       "289221         Dress            3.0                    41.0  \n",
       "\n",
       "[289222 rows x 5 columns]"
      ]
     },
     "execution_count": 37,
     "metadata": {},
     "output_type": "execute_result"
    }
   ],
   "source": [
    "# Create a column that has the actual category labels\n",
    "list_category_cloth_df['actual_category_number'] = np.arange(1,len(list_category_cloth_df)+1)\n",
    "img_categories_combined_df = list_category_img_df.merge(list_category_cloth_df, how='left',left_on='category_label',right_on='actual_category_number')\n",
    "img_categories_combined_df"
   ]
  },
  {
   "cell_type": "code",
   "execution_count": 38,
   "metadata": {},
   "outputs": [
    {
     "data": {
      "text/plain": [
       "<AxesSubplot:ylabel='category_name'>"
      ]
     },
     "execution_count": 38,
     "metadata": {},
     "output_type": "execute_result"
    },
    {
     "data": {
      "image/png": "[encoded data removed]",
      "text/plain": [
       "<Figure size 432x288 with 1 Axes>"
      ]
     },
     "metadata": {
      "needs_background": "light"
     },
     "output_type": "display_data"
    }
   ],
   "source": [
    "# Top 15 categories by images\n",
    "(img_categories_combined_df\n",
    " .groupby('category_name')\n",
    " .count()\n",
    " .sort_values('image_name',ascending=False)\n",
    " .iloc[:15]\n",
    " .plot(kind='barh',y='image_name',use_index=True)\n",
    ")"
   ]
  },
  {
   "cell_type": "code",
   "execution_count": 39,
   "metadata": {},
   "outputs": [
    {
     "data": {
      "text/plain": [
       "<AxesSubplot:ylabel='category_name'>"
      ]
     },
     "execution_count": 39,
     "metadata": {},
     "output_type": "execute_result"
    },
    {
     "data": {
      "image/png": "[encoded data removed]",
      "text/plain": [
       "<Figure size 432x288 with 1 Axes>"
      ]
     },
     "metadata": {
      "needs_background": "light"
     },
     "output_type": "display_data"
    }
   ],
   "source": [
    "# Next 15 clothing categories\n",
    "(img_categories_combined_df\n",
    " .groupby('category_name')\n",
    " .count()\n",
    " .sort_values('image_name',ascending=False)\n",
    " .iloc[15:30]\n",
    " .plot(kind='barh',y='image_name',use_index=True)\n",
    ")"
   ]
  },
  {
   "cell_type": "code",
   "execution_count": 40,
   "metadata": {},
   "outputs": [
    {
     "data": {
      "text/plain": [
       "<AxesSubplot:ylabel='category_name'>"
      ]
     },
     "execution_count": 40,
     "metadata": {},
     "output_type": "execute_result"
    },
    {
     "data": {
      "image/png": "[encoded data removed]",
      "text/plain": [
       "<Figure size 432x288 with 1 Axes>"
      ]
     },
     "metadata": {
      "needs_background": "light"
     },
     "output_type": "display_data"
    }
   ],
   "source": [
    "# Last set of clothing categories\n",
    "(img_categories_combined_df\n",
    " .groupby('category_name')\n",
    " .count()\n",
    " .sort_values('image_name',ascending=False)\n",
    " .iloc[30:]\n",
    " .plot(kind='barh',y='image_name',use_index=True)\n",
    ")"
   ]
  },
  {
   "cell_type": "markdown",
   "metadata": {},
   "source": [
    "<hr style=\"border-top: 5px solid black; margin-top: 1px; margin-bottom: 1px\"></hr>\n",
    "\n",
    "# <span style='background :red' > Step 4A: 🔬 Deeper EDA & Exploration of the Attributes Data 📚</span> "
   ]
  },
  {
   "cell_type": "markdown",
   "metadata": {},
   "source": [
    "## <span style='background :orange' > Let's get a high-level view of the attributes 👗 data </span> "
   ]
  },
  {
   "cell_type": "code",
   "execution_count": 41,
   "metadata": {},
   "outputs": [
    {
     "data": {
      "text/html": [
       "<div>\n",
       "<style scoped>\n",
       "    .dataframe tbody tr th:only-of-type {\n",
       "        vertical-align: middle;\n",
       "    }\n",
       "\n",
       "    .dataframe tbody tr th {\n",
       "        vertical-align: top;\n",
       "    }\n",
       "\n",
       "    .dataframe thead th {\n",
       "        text-align: right;\n",
       "    }\n",
       "</style>\n",
       "<table border=\"1\" class=\"dataframe\">\n",
       "  <thead>\n",
       "    <tr style=\"text-align: right;\">\n",
       "      <th></th>\n",
       "      <th>attribute_name</th>\n",
       "    </tr>\n",
       "    <tr>\n",
       "      <th>attribute_type</th>\n",
       "      <th></th>\n",
       "    </tr>\n",
       "  </thead>\n",
       "  <tbody>\n",
       "    <tr>\n",
       "      <th>1</th>\n",
       "      <td>156</td>\n",
       "    </tr>\n",
       "    <tr>\n",
       "      <th>2</th>\n",
       "      <td>218</td>\n",
       "    </tr>\n",
       "    <tr>\n",
       "      <th>3</th>\n",
       "      <td>180</td>\n",
       "    </tr>\n",
       "    <tr>\n",
       "      <th>4</th>\n",
       "      <td>216</td>\n",
       "    </tr>\n",
       "    <tr>\n",
       "      <th>5</th>\n",
       "      <td>230</td>\n",
       "    </tr>\n",
       "  </tbody>\n",
       "</table>\n",
       "</div>"
      ],
      "text/plain": [
       "                attribute_name\n",
       "attribute_type                \n",
       "1                          156\n",
       "2                          218\n",
       "3                          180\n",
       "4                          216\n",
       "5                          230"
      ]
     },
     "execution_count": 41,
     "metadata": {},
     "output_type": "execute_result"
    }
   ],
   "source": [
    "# In attribute type, \n",
    "#\"1\" represents texture-related attributes, \n",
    "#\"2\" represents fabric-related attributes, \n",
    "#\"3\" represents shape-related attributes, \n",
    "#\"4\" represents part-related attributes, \n",
    "#\"5\" represents style-related attributes;\n",
    "\n",
    "list_attr_cloth_df.groupby('attribute_type').count()"
   ]
  },
  {
   "cell_type": "markdown",
   "metadata": {},
   "source": [
    "## <span style='background :orange' > 🎽 Exploring Texture Attributes </span> "
   ]
  },
  {
   "cell_type": "markdown",
   "metadata": {},
   "source": [
    "### <span style='background :yellow' > ➡️ Getting Counts & Distributions </span> "
   ]
  },
  {
   "cell_type": "code",
   "execution_count": 42,
   "metadata": {},
   "outputs": [],
   "source": [
    "texture_list = list_attr_cloth_df.loc[list_attr_cloth_df['attribute_type']==1.0]['attribute_name'].to_list()"
   ]
  },
  {
   "cell_type": "code",
   "execution_count": 43,
   "metadata": {},
   "outputs": [],
   "source": [
    "texture_dict = {}\n",
    "for i in texture_list:\n",
    "    count_ = list_attr_img_df[i].sum()\n",
    "    texture_dict[i] = count_"
   ]
  },
  {
   "cell_type": "code",
   "execution_count": 44,
   "metadata": {},
   "outputs": [
    {
     "data": {
      "text/html": [
       "<div>\n",
       "<style scoped>\n",
       "    .dataframe tbody tr th:only-of-type {\n",
       "        vertical-align: middle;\n",
       "    }\n",
       "\n",
       "    .dataframe tbody tr th {\n",
       "        vertical-align: top;\n",
       "    }\n",
       "\n",
       "    .dataframe thead th {\n",
       "        text-align: right;\n",
       "    }\n",
       "</style>\n",
       "<table border=\"1\" class=\"dataframe\">\n",
       "  <thead>\n",
       "    <tr style=\"text-align: right;\">\n",
       "      <th></th>\n",
       "      <th>count_</th>\n",
       "    </tr>\n",
       "  </thead>\n",
       "  <tbody>\n",
       "    <tr>\n",
       "      <th>abstract</th>\n",
       "      <td>5643</td>\n",
       "    </tr>\n",
       "    <tr>\n",
       "      <th>abstract chevron</th>\n",
       "      <td>124</td>\n",
       "    </tr>\n",
       "    <tr>\n",
       "      <th>abstract chevron print</th>\n",
       "      <td>56</td>\n",
       "    </tr>\n",
       "    <tr>\n",
       "      <th>abstract diamond</th>\n",
       "      <td>53</td>\n",
       "    </tr>\n",
       "    <tr>\n",
       "      <th>abstract floral</th>\n",
       "      <td>434</td>\n",
       "    </tr>\n",
       "    <tr>\n",
       "      <th>...</th>\n",
       "      <td>...</td>\n",
       "    </tr>\n",
       "    <tr>\n",
       "      <th>two-tone</th>\n",
       "      <td>305</td>\n",
       "    </tr>\n",
       "    <tr>\n",
       "      <th>varsity-striped</th>\n",
       "      <td>213</td>\n",
       "    </tr>\n",
       "    <tr>\n",
       "      <th>watercolor</th>\n",
       "      <td>852</td>\n",
       "    </tr>\n",
       "    <tr>\n",
       "      <th>zig</th>\n",
       "      <td>234</td>\n",
       "    </tr>\n",
       "    <tr>\n",
       "      <th>zigzag</th>\n",
       "      <td>305</td>\n",
       "    </tr>\n",
       "  </tbody>\n",
       "</table>\n",
       "<p>156 rows × 1 columns</p>\n",
       "</div>"
      ],
      "text/plain": [
       "                        count_\n",
       "abstract                  5643\n",
       "abstract chevron           124\n",
       "abstract chevron print      56\n",
       "abstract diamond            53\n",
       "abstract floral            434\n",
       "...                        ...\n",
       "two-tone                   305\n",
       "varsity-striped            213\n",
       "watercolor                 852\n",
       "zig                        234\n",
       "zigzag                     305\n",
       "\n",
       "[156 rows x 1 columns]"
      ]
     },
     "execution_count": 44,
     "metadata": {},
     "output_type": "execute_result"
    }
   ],
   "source": [
    "texture_df_count = (pd.DataFrame.from_dict(texture_dict,orient='index')\n",
    "                    .rename(columns={0:'count_'})\n",
    "                   )\n",
    "texture_df_count"
   ]
  },
  {
   "cell_type": "markdown",
   "metadata": {},
   "source": [
    "### <span style='background :yellow' > ➡️ All by img count </span> "
   ]
  },
  {
   "cell_type": "code",
   "execution_count": 45,
   "metadata": {},
   "outputs": [
    {
     "data": {
      "text/plain": [
       "<AxesSubplot:>"
      ]
     },
     "execution_count": 45,
     "metadata": {},
     "output_type": "execute_result"
    },
    {
     "data": {
      "image/png": "[encoded data removed]",
      "text/plain": [
       "<Figure size 432x288 with 1 Axes>"
      ]
     },
     "metadata": {
      "needs_background": "light"
     },
     "output_type": "display_data"
    }
   ],
   "source": [
    "(texture_df_count\n",
    " .sort_values('count_',ascending=False)\n",
    " .plot(kind='barh'))"
   ]
  },
  {
   "cell_type": "markdown",
   "metadata": {},
   "source": [
    "### <span style='background :yellow' > ➡️ Top 20 by img count </span> "
   ]
  },
  {
   "cell_type": "code",
   "execution_count": 46,
   "metadata": {},
   "outputs": [
    {
     "data": {
      "text/plain": [
       "<AxesSubplot:>"
      ]
     },
     "execution_count": 46,
     "metadata": {},
     "output_type": "execute_result"
    },
    {
     "data": {
      "image/png": "[encoded data removed]",
      "text/plain": [
       "<Figure size 432x288 with 1 Axes>"
      ]
     },
     "metadata": {
      "needs_background": "light"
     },
     "output_type": "display_data"
    }
   ],
   "source": [
    "(texture_df_count\n",
    " .sort_values('count_',ascending=False)\n",
    " .iloc[:20]\n",
    " .plot(kind='barh'))"
   ]
  },
  {
   "cell_type": "markdown",
   "metadata": {},
   "source": [
    "### <span style='background :yellow' > ➡️ Bottom 20 by img count </span> "
   ]
  },
  {
   "cell_type": "code",
   "execution_count": 47,
   "metadata": {},
   "outputs": [
    {
     "data": {
      "text/plain": [
       "<AxesSubplot:>"
      ]
     },
     "execution_count": 47,
     "metadata": {},
     "output_type": "execute_result"
    },
    {
     "data": {
      "image/png": "[encoded data removed]",
      "text/plain": [
       "<Figure size 432x288 with 1 Axes>"
      ]
     },
     "metadata": {
      "needs_background": "light"
     },
     "output_type": "display_data"
    }
   ],
   "source": [
    "(texture_df_count\n",
    " .sort_values('count_',ascending=False)\n",
    " .iloc[-20:]\n",
    " .plot(kind='barh'))"
   ]
  },
  {
   "cell_type": "markdown",
   "metadata": {},
   "source": [
    "## <span style='background :orange' > 🎽 Exploring Fabric Attributes </span> "
   ]
  },
  {
   "cell_type": "markdown",
   "metadata": {},
   "source": [
    "### <span style='background :yellow' > ➡️ Getting Counts & Distributions </span> "
   ]
  },
  {
   "cell_type": "code",
   "execution_count": 48,
   "metadata": {},
   "outputs": [],
   "source": [
    "fabric_list = list_attr_cloth_df.loc[list_attr_cloth_df['attribute_type']==2.0]['attribute_name'].to_list()"
   ]
  },
  {
   "cell_type": "code",
   "execution_count": 49,
   "metadata": {},
   "outputs": [],
   "source": [
    "fabric_dict = {}\n",
    "for i in fabric_list:\n",
    "    count_ = list_attr_img_df[i].sum()\n",
    "    fabric_dict[i] = count_"
   ]
  },
  {
   "cell_type": "code",
   "execution_count": 50,
   "metadata": {},
   "outputs": [
    {
     "data": {
      "text/html": [
       "<div>\n",
       "<style scoped>\n",
       "    .dataframe tbody tr th:only-of-type {\n",
       "        vertical-align: middle;\n",
       "    }\n",
       "\n",
       "    .dataframe tbody tr th {\n",
       "        vertical-align: top;\n",
       "    }\n",
       "\n",
       "    .dataframe thead th {\n",
       "        text-align: right;\n",
       "    }\n",
       "</style>\n",
       "<table border=\"1\" class=\"dataframe\">\n",
       "  <thead>\n",
       "    <tr style=\"text-align: right;\">\n",
       "      <th></th>\n",
       "      <th>count_</th>\n",
       "    </tr>\n",
       "  </thead>\n",
       "  <tbody>\n",
       "    <tr>\n",
       "      <th>acid</th>\n",
       "      <td>2125</td>\n",
       "    </tr>\n",
       "    <tr>\n",
       "      <th>acid wash</th>\n",
       "      <td>1734</td>\n",
       "    </tr>\n",
       "    <tr>\n",
       "      <th>applique</th>\n",
       "      <td>252</td>\n",
       "    </tr>\n",
       "    <tr>\n",
       "      <th>bead</th>\n",
       "      <td>248</td>\n",
       "    </tr>\n",
       "    <tr>\n",
       "      <th>beaded</th>\n",
       "      <td>2702</td>\n",
       "    </tr>\n",
       "    <tr>\n",
       "      <th>...</th>\n",
       "      <td>...</td>\n",
       "    </tr>\n",
       "    <tr>\n",
       "      <th>velveteen</th>\n",
       "      <td>161</td>\n",
       "    </tr>\n",
       "    <tr>\n",
       "      <th>waffle</th>\n",
       "      <td>553</td>\n",
       "    </tr>\n",
       "    <tr>\n",
       "      <th>wash</th>\n",
       "      <td>4919</td>\n",
       "    </tr>\n",
       "    <tr>\n",
       "      <th>washed</th>\n",
       "      <td>980</td>\n",
       "    </tr>\n",
       "    <tr>\n",
       "      <th>woven</th>\n",
       "      <td>4744</td>\n",
       "    </tr>\n",
       "  </tbody>\n",
       "</table>\n",
       "<p>218 rows × 1 columns</p>\n",
       "</div>"
      ],
      "text/plain": [
       "           count_\n",
       "acid         2125\n",
       "acid wash    1734\n",
       "applique      252\n",
       "bead          248\n",
       "beaded       2702\n",
       "...           ...\n",
       "velveteen     161\n",
       "waffle        553\n",
       "wash         4919\n",
       "washed        980\n",
       "woven        4744\n",
       "\n",
       "[218 rows x 1 columns]"
      ]
     },
     "execution_count": 50,
     "metadata": {},
     "output_type": "execute_result"
    }
   ],
   "source": [
    "fabric_df_count = (pd.DataFrame.from_dict(fabric_dict,orient='index')\n",
    "                    .rename(columns={0:'count_'})\n",
    "                   )\n",
    "fabric_df_count"
   ]
  },
  {
   "cell_type": "markdown",
   "metadata": {},
   "source": [
    "### <span style='background :yellow' > ➡️ All by img count </span> "
   ]
  },
  {
   "cell_type": "code",
   "execution_count": 51,
   "metadata": {
    "scrolled": true
   },
   "outputs": [
    {
     "data": {
      "text/plain": [
       "<AxesSubplot:>"
      ]
     },
     "execution_count": 51,
     "metadata": {},
     "output_type": "execute_result"
    },
    {
     "data": {
      "image/png": "[encoded data removed]",
      "text/plain": [
       "<Figure size 432x288 with 1 Axes>"
      ]
     },
     "metadata": {
      "needs_background": "light"
     },
     "output_type": "display_data"
    }
   ],
   "source": [
    "(fabric_df_count\n",
    " .sort_values('count_',ascending=False)\n",
    " .plot(kind='barh'))"
   ]
  },
  {
   "cell_type": "markdown",
   "metadata": {},
   "source": [
    "### <span style='background :yellow' > ➡️ Top 20 by img count </span> "
   ]
  },
  {
   "cell_type": "code",
   "execution_count": 52,
   "metadata": {
    "scrolled": false
   },
   "outputs": [
    {
     "data": {
      "text/plain": [
       "<AxesSubplot:>"
      ]
     },
     "execution_count": 52,
     "metadata": {},
     "output_type": "execute_result"
    },
    {
     "data": {
      "image/png": "[encoded data removed]",
      "text/plain": [
       "<Figure size 432x288 with 1 Axes>"
      ]
     },
     "metadata": {
      "needs_background": "light"
     },
     "output_type": "display_data"
    }
   ],
   "source": [
    "(fabric_df_count\n",
    " .sort_values('count_',ascending=False)\n",
    " .iloc[:20]\n",
    " .plot(kind='barh'))"
   ]
  },
  {
   "cell_type": "markdown",
   "metadata": {},
   "source": [
    "### <span style='background :yellow' > ➡️ Bottom 20 by img count </span> "
   ]
  },
  {
   "cell_type": "code",
   "execution_count": 53,
   "metadata": {
    "scrolled": false
   },
   "outputs": [
    {
     "data": {
      "text/plain": [
       "<AxesSubplot:>"
      ]
     },
     "execution_count": 53,
     "metadata": {},
     "output_type": "execute_result"
    },
    {
     "data": {
      "image/png": "[encoded data removed]",
      "text/plain": [
       "<Figure size 432x288 with 1 Axes>"
      ]
     },
     "metadata": {
      "needs_background": "light"
     },
     "output_type": "display_data"
    }
   ],
   "source": [
    "(fabric_df_count\n",
    " .sort_values('count_',ascending=False)\n",
    " .iloc[-20:]\n",
    " .plot(kind='barh'))"
   ]
  },
  {
   "cell_type": "markdown",
   "metadata": {},
   "source": [
    "## <span style='background :orange' > 🎽 Exploring Shape Attributes </span> "
   ]
  },
  {
   "cell_type": "markdown",
   "metadata": {},
   "source": [
    "### <span style='background :yellow' > ➡️ Getting Counts & Distributions </span> "
   ]
  },
  {
   "cell_type": "code",
   "execution_count": 54,
   "metadata": {},
   "outputs": [],
   "source": [
    "shape_list = list_attr_cloth_df.loc[list_attr_cloth_df['attribute_type']==3.0]['attribute_name'].to_list()"
   ]
  },
  {
   "cell_type": "code",
   "execution_count": 55,
   "metadata": {},
   "outputs": [],
   "source": [
    "shape_dict = {}\n",
    "for i in shape_list:\n",
    "    count_ = list_attr_img_df[i].sum()\n",
    "    shape_dict[i] = count_"
   ]
  },
  {
   "cell_type": "code",
   "execution_count": 56,
   "metadata": {},
   "outputs": [
    {
     "data": {
      "text/html": [
       "<div>\n",
       "<style scoped>\n",
       "    .dataframe tbody tr th:only-of-type {\n",
       "        vertical-align: middle;\n",
       "    }\n",
       "\n",
       "    .dataframe tbody tr th {\n",
       "        vertical-align: top;\n",
       "    }\n",
       "\n",
       "    .dataframe thead th {\n",
       "        text-align: right;\n",
       "    }\n",
       "</style>\n",
       "<table border=\"1\" class=\"dataframe\">\n",
       "  <thead>\n",
       "    <tr style=\"text-align: right;\">\n",
       "      <th></th>\n",
       "      <th>count_</th>\n",
       "    </tr>\n",
       "  </thead>\n",
       "  <tbody>\n",
       "    <tr>\n",
       "      <th>a-line</th>\n",
       "      <td>3240</td>\n",
       "    </tr>\n",
       "    <tr>\n",
       "      <th>ankle</th>\n",
       "      <td>1100</td>\n",
       "    </tr>\n",
       "    <tr>\n",
       "      <th>asymmetric</th>\n",
       "      <td>833</td>\n",
       "    </tr>\n",
       "    <tr>\n",
       "      <th>asymmetrical</th>\n",
       "      <td>1220</td>\n",
       "    </tr>\n",
       "    <tr>\n",
       "      <th>baja</th>\n",
       "      <td>222</td>\n",
       "    </tr>\n",
       "    <tr>\n",
       "      <th>...</th>\n",
       "      <td>...</td>\n",
       "    </tr>\n",
       "    <tr>\n",
       "      <th>vertical</th>\n",
       "      <td>399</td>\n",
       "    </tr>\n",
       "    <tr>\n",
       "      <th>wide-leg</th>\n",
       "      <td>252</td>\n",
       "    </tr>\n",
       "    <tr>\n",
       "      <th>windbreaker</th>\n",
       "      <td>126</td>\n",
       "    </tr>\n",
       "    <tr>\n",
       "      <th>windowpane</th>\n",
       "      <td>214</td>\n",
       "    </tr>\n",
       "    <tr>\n",
       "      <th>wrap</th>\n",
       "      <td>2250</td>\n",
       "    </tr>\n",
       "  </tbody>\n",
       "</table>\n",
       "<p>180 rows × 1 columns</p>\n",
       "</div>"
      ],
      "text/plain": [
       "              count_\n",
       "a-line          3240\n",
       "ankle           1100\n",
       "asymmetric       833\n",
       "asymmetrical    1220\n",
       "baja             222\n",
       "...              ...\n",
       "vertical         399\n",
       "wide-leg         252\n",
       "windbreaker      126\n",
       "windowpane       214\n",
       "wrap            2250\n",
       "\n",
       "[180 rows x 1 columns]"
      ]
     },
     "execution_count": 56,
     "metadata": {},
     "output_type": "execute_result"
    }
   ],
   "source": [
    "shape_df_count = (pd.DataFrame.from_dict(shape_dict,orient='index')\n",
    "                    .rename(columns={0:'count_'})\n",
    "                   )\n",
    "shape_df_count"
   ]
  },
  {
   "cell_type": "markdown",
   "metadata": {},
   "source": [
    "### <span style='background :yellow' > ➡️ All by img count </span> "
   ]
  },
  {
   "cell_type": "code",
   "execution_count": 57,
   "metadata": {
    "scrolled": true
   },
   "outputs": [
    {
     "data": {
      "text/plain": [
       "<AxesSubplot:>"
      ]
     },
     "execution_count": 57,
     "metadata": {},
     "output_type": "execute_result"
    },
    {
     "data": {
      "image/png": "[encoded data removed]",
      "text/plain": [
       "<Figure size 432x288 with 1 Axes>"
      ]
     },
     "metadata": {
      "needs_background": "light"
     },
     "output_type": "display_data"
    }
   ],
   "source": [
    "(shape_df_count\n",
    " .sort_values('count_',ascending=False)\n",
    " .plot(kind='barh'))"
   ]
  },
  {
   "cell_type": "markdown",
   "metadata": {},
   "source": [
    "### <span style='background :yellow' > ➡️ Top 20 by img count </span> "
   ]
  },
  {
   "cell_type": "code",
   "execution_count": 58,
   "metadata": {
    "scrolled": false
   },
   "outputs": [
    {
     "data": {
      "text/plain": [
       "<AxesSubplot:>"
      ]
     },
     "execution_count": 58,
     "metadata": {},
     "output_type": "execute_result"
    },
    {
     "data": {
      "image/png": "[encoded data removed]",
      "text/plain": [
       "<Figure size 432x288 with 1 Axes>"
      ]
     },
     "metadata": {
      "needs_background": "light"
     },
     "output_type": "display_data"
    }
   ],
   "source": [
    "(shape_df_count\n",
    " .sort_values('count_',ascending=False)\n",
    " .iloc[:20]\n",
    " .plot(kind='barh'))"
   ]
  },
  {
   "cell_type": "markdown",
   "metadata": {},
   "source": [
    "### <span style='background :yellow' > ➡️ Bottom 20 by img count </span> "
   ]
  },
  {
   "cell_type": "code",
   "execution_count": 59,
   "metadata": {
    "scrolled": true
   },
   "outputs": [
    {
     "data": {
      "text/plain": [
       "<AxesSubplot:>"
      ]
     },
     "execution_count": 59,
     "metadata": {},
     "output_type": "execute_result"
    },
    {
     "data": {
      "image/png": "[encoded data removed]",
      "text/plain": [
       "<Figure size 432x288 with 1 Axes>"
      ]
     },
     "metadata": {
      "needs_background": "light"
     },
     "output_type": "display_data"
    }
   ],
   "source": [
    "(shape_df_count\n",
    " .sort_values('count_',ascending=False)\n",
    " .iloc[-20:]\n",
    " .plot(kind='barh'))"
   ]
  },
  {
   "cell_type": "markdown",
   "metadata": {},
   "source": [
    "## <span style='background :orange' > 🎽 Exploring Parts Attributes </span> "
   ]
  },
  {
   "cell_type": "markdown",
   "metadata": {},
   "source": [
    "### <span style='background :yellow' > ➡️ Getting Counts & Distributions </span> "
   ]
  },
  {
   "cell_type": "code",
   "execution_count": 60,
   "metadata": {},
   "outputs": [],
   "source": [
    "part_list = list_attr_cloth_df.loc[list_attr_cloth_df['attribute_type']==4.0]['attribute_name'].to_list()"
   ]
  },
  {
   "cell_type": "code",
   "execution_count": 61,
   "metadata": {},
   "outputs": [],
   "source": [
    "part_dict = {}\n",
    "for i in part_list:\n",
    "    count_ = list_attr_img_df[i].sum()\n",
    "    part_dict[i] = count_"
   ]
  },
  {
   "cell_type": "code",
   "execution_count": 62,
   "metadata": {},
   "outputs": [
    {
     "data": {
      "text/html": [
       "<div>\n",
       "<style scoped>\n",
       "    .dataframe tbody tr th:only-of-type {\n",
       "        vertical-align: middle;\n",
       "    }\n",
       "\n",
       "    .dataframe tbody tr th {\n",
       "        vertical-align: top;\n",
       "    }\n",
       "\n",
       "    .dataframe thead th {\n",
       "        text-align: right;\n",
       "    }\n",
       "</style>\n",
       "<table border=\"1\" class=\"dataframe\">\n",
       "  <thead>\n",
       "    <tr style=\"text-align: right;\">\n",
       "      <th></th>\n",
       "      <th>count_</th>\n",
       "    </tr>\n",
       "  </thead>\n",
       "  <tbody>\n",
       "    <tr>\n",
       "      <th>arrow collar</th>\n",
       "      <td>167</td>\n",
       "    </tr>\n",
       "    <tr>\n",
       "      <th>asymmetrical hem</th>\n",
       "      <td>194</td>\n",
       "    </tr>\n",
       "    <tr>\n",
       "      <th>back bow</th>\n",
       "      <td>55</td>\n",
       "    </tr>\n",
       "    <tr>\n",
       "      <th>back cutout</th>\n",
       "      <td>152</td>\n",
       "    </tr>\n",
       "    <tr>\n",
       "      <th>back knit</th>\n",
       "      <td>75</td>\n",
       "    </tr>\n",
       "    <tr>\n",
       "      <th>...</th>\n",
       "      <td>...</td>\n",
       "    </tr>\n",
       "    <tr>\n",
       "      <th>zip-pocket</th>\n",
       "      <td>75</td>\n",
       "    </tr>\n",
       "    <tr>\n",
       "      <th>zip-up</th>\n",
       "      <td>200</td>\n",
       "    </tr>\n",
       "    <tr>\n",
       "      <th>zipped</th>\n",
       "      <td>95</td>\n",
       "    </tr>\n",
       "    <tr>\n",
       "      <th>zipper</th>\n",
       "      <td>2006</td>\n",
       "    </tr>\n",
       "    <tr>\n",
       "      <th>zippered</th>\n",
       "      <td>622</td>\n",
       "    </tr>\n",
       "  </tbody>\n",
       "</table>\n",
       "<p>216 rows × 1 columns</p>\n",
       "</div>"
      ],
      "text/plain": [
       "                  count_\n",
       "arrow collar         167\n",
       "asymmetrical hem     194\n",
       "back bow              55\n",
       "back cutout          152\n",
       "back knit             75\n",
       "...                  ...\n",
       "zip-pocket            75\n",
       "zip-up               200\n",
       "zipped                95\n",
       "zipper              2006\n",
       "zippered             622\n",
       "\n",
       "[216 rows x 1 columns]"
      ]
     },
     "execution_count": 62,
     "metadata": {},
     "output_type": "execute_result"
    }
   ],
   "source": [
    "part_df_count = (pd.DataFrame.from_dict(part_dict,orient='index')\n",
    "                    .rename(columns={0:'count_'})\n",
    "                   )\n",
    "part_df_count"
   ]
  },
  {
   "cell_type": "markdown",
   "metadata": {},
   "source": [
    "### <span style='background :yellow' > ➡️ All by img count </span> "
   ]
  },
  {
   "cell_type": "code",
   "execution_count": 63,
   "metadata": {},
   "outputs": [
    {
     "data": {
      "text/plain": [
       "<AxesSubplot:>"
      ]
     },
     "execution_count": 63,
     "metadata": {},
     "output_type": "execute_result"
    },
    {
     "data": {
      "image/png": "[encoded data removed]",
      "text/plain": [
       "<Figure size 432x288 with 1 Axes>"
      ]
     },
     "metadata": {
      "needs_background": "light"
     },
     "output_type": "display_data"
    }
   ],
   "source": [
    "(part_df_count\n",
    " .sort_values('count_',ascending=False)\n",
    " .plot(kind='barh'))"
   ]
  },
  {
   "cell_type": "markdown",
   "metadata": {},
   "source": [
    "### <span style='background :yellow' > ➡️ Top 20 by img count </span> "
   ]
  },
  {
   "cell_type": "code",
   "execution_count": 64,
   "metadata": {
    "scrolled": false
   },
   "outputs": [
    {
     "data": {
      "text/plain": [
       "<AxesSubplot:>"
      ]
     },
     "execution_count": 64,
     "metadata": {},
     "output_type": "execute_result"
    },
    {
     "data": {
      "image/png": "[encoded data removed]",
      "text/plain": [
       "<Figure size 432x288 with 1 Axes>"
      ]
     },
     "metadata": {
      "needs_background": "light"
     },
     "output_type": "display_data"
    }
   ],
   "source": [
    "(part_df_count\n",
    " .sort_values('count_',ascending=False)\n",
    " .iloc[:20]\n",
    " .plot(kind='barh'))"
   ]
  },
  {
   "cell_type": "markdown",
   "metadata": {},
   "source": [
    "### <span style='background :yellow' > ➡️ Bottom 20 by img count </span> "
   ]
  },
  {
   "cell_type": "code",
   "execution_count": 65,
   "metadata": {},
   "outputs": [
    {
     "data": {
      "text/plain": [
       "<AxesSubplot:>"
      ]
     },
     "execution_count": 65,
     "metadata": {},
     "output_type": "execute_result"
    },
    {
     "data": {
      "image/png": "[encoded data removed]",
      "text/plain": [
       "<Figure size 432x288 with 1 Axes>"
      ]
     },
     "metadata": {
      "needs_background": "light"
     },
     "output_type": "display_data"
    }
   ],
   "source": [
    "(part_df_count\n",
    " .sort_values('count_',ascending=False)\n",
    " .iloc[-20:]\n",
    " .plot(kind='barh'))"
   ]
  },
  {
   "cell_type": "markdown",
   "metadata": {},
   "source": [
    "## <span style='background :orange' > 🎽 Exploring Style Attributes </span> "
   ]
  },
  {
   "cell_type": "markdown",
   "metadata": {},
   "source": [
    "### <span style='background :yellow' > ➡️ Getting Counts & Distributions </span> "
   ]
  },
  {
   "cell_type": "code",
   "execution_count": 66,
   "metadata": {},
   "outputs": [],
   "source": [
    "style_list = list_attr_cloth_df.loc[list_attr_cloth_df['attribute_type']==5.0]['attribute_name'].to_list()"
   ]
  },
  {
   "cell_type": "code",
   "execution_count": 67,
   "metadata": {},
   "outputs": [],
   "source": [
    "style_dict = {}\n",
    "for i in style_list:\n",
    "    count_ = list_attr_img_df[i].sum()\n",
    "    style_dict[i] = count_"
   ]
  },
  {
   "cell_type": "code",
   "execution_count": 68,
   "metadata": {},
   "outputs": [
    {
     "data": {
      "text/html": [
       "<div>\n",
       "<style scoped>\n",
       "    .dataframe tbody tr th:only-of-type {\n",
       "        vertical-align: middle;\n",
       "    }\n",
       "\n",
       "    .dataframe tbody tr th {\n",
       "        vertical-align: top;\n",
       "    }\n",
       "\n",
       "    .dataframe thead th {\n",
       "        text-align: right;\n",
       "    }\n",
       "</style>\n",
       "<table border=\"1\" class=\"dataframe\">\n",
       "  <thead>\n",
       "    <tr style=\"text-align: right;\">\n",
       "      <th></th>\n",
       "      <th>count_</th>\n",
       "    </tr>\n",
       "  </thead>\n",
       "  <tbody>\n",
       "    <tr>\n",
       "      <th>americana</th>\n",
       "      <td>103</td>\n",
       "    </tr>\n",
       "    <tr>\n",
       "      <th>angeles</th>\n",
       "      <td>533</td>\n",
       "    </tr>\n",
       "    <tr>\n",
       "      <th>art</th>\n",
       "      <td>491</td>\n",
       "    </tr>\n",
       "    <tr>\n",
       "      <th>athletic</th>\n",
       "      <td>1017</td>\n",
       "    </tr>\n",
       "    <tr>\n",
       "      <th>audrey</th>\n",
       "      <td>224</td>\n",
       "    </tr>\n",
       "    <tr>\n",
       "      <th>...</th>\n",
       "      <td>...</td>\n",
       "    </tr>\n",
       "    <tr>\n",
       "      <th>yoga</th>\n",
       "      <td>1622</td>\n",
       "    </tr>\n",
       "    <tr>\n",
       "      <th>yoke</th>\n",
       "      <td>558</td>\n",
       "    </tr>\n",
       "    <tr>\n",
       "      <th>york</th>\n",
       "      <td>1877</td>\n",
       "    </tr>\n",
       "    <tr>\n",
       "      <th>youth</th>\n",
       "      <td>261</td>\n",
       "    </tr>\n",
       "    <tr>\n",
       "      <th>zeppelin</th>\n",
       "      <td>105</td>\n",
       "    </tr>\n",
       "  </tbody>\n",
       "</table>\n",
       "<p>230 rows × 1 columns</p>\n",
       "</div>"
      ],
      "text/plain": [
       "           count_\n",
       "americana     103\n",
       "angeles       533\n",
       "art           491\n",
       "athletic     1017\n",
       "audrey        224\n",
       "...           ...\n",
       "yoga         1622\n",
       "yoke          558\n",
       "york         1877\n",
       "youth         261\n",
       "zeppelin      105\n",
       "\n",
       "[230 rows x 1 columns]"
      ]
     },
     "execution_count": 68,
     "metadata": {},
     "output_type": "execute_result"
    }
   ],
   "source": [
    "style_df_count = (pd.DataFrame.from_dict(style_dict,orient='index')\n",
    "                    .rename(columns={0:'count_'})\n",
    "                   )\n",
    "style_df_count"
   ]
  },
  {
   "cell_type": "markdown",
   "metadata": {},
   "source": [
    "### <span style='background :yellow' > ➡️ All by img count </span> "
   ]
  },
  {
   "cell_type": "code",
   "execution_count": 69,
   "metadata": {},
   "outputs": [
    {
     "data": {
      "text/plain": [
       "<AxesSubplot:>"
      ]
     },
     "execution_count": 69,
     "metadata": {},
     "output_type": "execute_result"
    },
    {
     "data": {
      "image/png": "[encoded data removed]",
      "text/plain": [
       "<Figure size 432x288 with 1 Axes>"
      ]
     },
     "metadata": {
      "needs_background": "light"
     },
     "output_type": "display_data"
    }
   ],
   "source": [
    "(style_df_count\n",
    " .sort_values('count_',ascending=False)\n",
    " .plot(kind='barh'))"
   ]
  },
  {
   "cell_type": "markdown",
   "metadata": {},
   "source": [
    "### <span style='background :yellow' > ➡️ Top 20 by img count </span> "
   ]
  },
  {
   "cell_type": "code",
   "execution_count": 70,
   "metadata": {
    "scrolled": false
   },
   "outputs": [
    {
     "data": {
      "text/plain": [
       "<AxesSubplot:>"
      ]
     },
     "execution_count": 70,
     "metadata": {},
     "output_type": "execute_result"
    },
    {
     "data": {
      "image/png": "[encoded data removed]",
      "text/plain": [
       "<Figure size 432x288 with 1 Axes>"
      ]
     },
     "metadata": {
      "needs_background": "light"
     },
     "output_type": "display_data"
    }
   ],
   "source": [
    "(style_df_count\n",
    " .sort_values('count_',ascending=False)\n",
    " .iloc[:20]\n",
    " .plot(kind='barh'))"
   ]
  },
  {
   "cell_type": "markdown",
   "metadata": {},
   "source": [
    "### <span style='background :yellow' > ➡️ Bottom 20 by img count </span> "
   ]
  },
  {
   "cell_type": "code",
   "execution_count": 71,
   "metadata": {},
   "outputs": [
    {
     "data": {
      "text/plain": [
       "<AxesSubplot:>"
      ]
     },
     "execution_count": 71,
     "metadata": {},
     "output_type": "execute_result"
    },
    {
     "data": {
      "image/png": "[encoded data removed]",
      "text/plain": [
       "<Figure size 432x288 with 1 Axes>"
      ]
     },
     "metadata": {
      "needs_background": "light"
     },
     "output_type": "display_data"
    }
   ],
   "source": [
    "(style_df_count\n",
    " .sort_values('count_',ascending=False)\n",
    " .iloc[-20:]\n",
    " .plot(kind='barh'))"
   ]
  }
 ],
 "metadata": {
  "kernelspec": {
   "display_name": "Python 3",
   "language": "python",
   "name": "python3"
  },
  "language_info": {
   "codemirror_mode": {
    "name": "ipython",
    "version": 3
   },
   "file_extension": ".py",
   "mimetype": "text/x-python",
   "name": "python",
   "nbconvert_exporter": "python",
   "pygments_lexer": "ipython3",
   "version": "3.7.9"
  }
 },
 "nbformat": 4,
 "nbformat_minor": 4
}
